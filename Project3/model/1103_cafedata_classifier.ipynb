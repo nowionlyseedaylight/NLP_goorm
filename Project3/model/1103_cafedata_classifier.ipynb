{
  "cells": [
    {
      "cell_type": "code",
      "execution_count": 94,
      "metadata": {
        "id": "NUABGm6RgSCp"
      },
      "outputs": [],
      "source": [
        "import pandas as pd\n",
        "import numpy as np\n",
        "import re\n",
        "import matplotlib.pyplot as plt\n",
        "from matplotlib.pyplot import *\n",
        "import seaborn as sns\n",
        "\n",
        "%matplotlib inline"
      ]
    },
    {
      "cell_type": "code",
      "execution_count": 95,
      "metadata": {
        "colab": {
          "base_uri": "https://localhost:8080/"
        },
        "id": "UBETshIugVKk",
        "outputId": "c237753b-438e-4b12-d8bd-6bd1bbd167cf"
      },
      "outputs": [
        {
          "output_type": "stream",
          "name": "stdout",
          "text": [
            "Drive already mounted at /content/drive; to attempt to forcibly remount, call drive.mount(\"/content/drive\", force_remount=True).\n"
          ]
        }
      ],
      "source": [
        "from google.colab import drive\n",
        "drive.mount('/content/drive')"
      ]
    },
    {
      "cell_type": "code",
      "execution_count": 96,
      "metadata": {
        "id": "bpeSVQA9gXBr"
      },
      "outputs": [],
      "source": [
        "# read data\n",
        "# train 하게 될 데이터 셋 이게 첫번째 데이터셋\n",
        "data = pd.read_csv('/content/drive/MyDrive/2022-2/1103_cafe.csv')"
      ]
    },
    {
      "cell_type": "code",
      "execution_count": 97,
      "metadata": {
        "colab": {
          "base_uri": "https://localhost:8080/",
          "height": 206
        },
        "id": "5MX6Rw1ogxRb",
        "outputId": "1100e65d-e4fa-4ae3-f81a-4563f99a73ec"
      },
      "outputs": [
        {
          "output_type": "execute_result",
          "data": {
            "text/plain": [
              "   Unnamed: 0                                               text  \\\n",
              "0           0  오늘 공통분모 사람들이랑 얘길 잠깐 나눴는데. 주변에서 보기엔 그 여자분하고 조만간...   \n",
              "1           1  저는 잘 못 느끼겠는데 주변에서 제가 목소리가 너무 작다고 뭐라고 말했냐고 물어보는...   \n",
              "2           2  퇴근 후 평일 야간일을 생각중인데, 시간대가 딱 맞는게 없네요 이럴때는 역시 대도시...   \n",
              "3           3  퇴근 후에 오랜만에 들어보는 시도강님의 음악. 동양풍의 음악을 듣고 있으면 확실히 ...   \n",
              "4           4  오늘은 피로가 누적이 됐었는지, 9시쯤 저도 모르게 잠들었다가 이제 일어났네요 ^^...   \n",
              "\n",
              "                                               NAVER  mbti  \n",
              "0  I had a quick talk with people in common denom...  ENFJ  \n",
              "1  I don't really feel it, but people around me o...  ENFJ  \n",
              "2  I'm thinking of a weekday night after work, bu...  ENFJ  \n",
              "3  It's been a while since I listened to Shido Ka...  ENFJ  \n",
              "4  Today, I fell asleep unconsciously around 9 o'...  ENFJ  "
            ],
            "text/html": [
              "\n",
              "  <div id=\"df-6ab39ed3-9381-45aa-9513-b49091937f43\">\n",
              "    <div class=\"colab-df-container\">\n",
              "      <div>\n",
              "<style scoped>\n",
              "    .dataframe tbody tr th:only-of-type {\n",
              "        vertical-align: middle;\n",
              "    }\n",
              "\n",
              "    .dataframe tbody tr th {\n",
              "        vertical-align: top;\n",
              "    }\n",
              "\n",
              "    .dataframe thead th {\n",
              "        text-align: right;\n",
              "    }\n",
              "</style>\n",
              "<table border=\"1\" class=\"dataframe\">\n",
              "  <thead>\n",
              "    <tr style=\"text-align: right;\">\n",
              "      <th></th>\n",
              "      <th>Unnamed: 0</th>\n",
              "      <th>text</th>\n",
              "      <th>NAVER</th>\n",
              "      <th>mbti</th>\n",
              "    </tr>\n",
              "  </thead>\n",
              "  <tbody>\n",
              "    <tr>\n",
              "      <th>0</th>\n",
              "      <td>0</td>\n",
              "      <td>오늘 공통분모 사람들이랑 얘길 잠깐 나눴는데. 주변에서 보기엔 그 여자분하고 조만간...</td>\n",
              "      <td>I had a quick talk with people in common denom...</td>\n",
              "      <td>ENFJ</td>\n",
              "    </tr>\n",
              "    <tr>\n",
              "      <th>1</th>\n",
              "      <td>1</td>\n",
              "      <td>저는 잘 못 느끼겠는데 주변에서 제가 목소리가 너무 작다고 뭐라고 말했냐고 물어보는...</td>\n",
              "      <td>I don't really feel it, but people around me o...</td>\n",
              "      <td>ENFJ</td>\n",
              "    </tr>\n",
              "    <tr>\n",
              "      <th>2</th>\n",
              "      <td>2</td>\n",
              "      <td>퇴근 후 평일 야간일을 생각중인데, 시간대가 딱 맞는게 없네요 이럴때는 역시 대도시...</td>\n",
              "      <td>I'm thinking of a weekday night after work, bu...</td>\n",
              "      <td>ENFJ</td>\n",
              "    </tr>\n",
              "    <tr>\n",
              "      <th>3</th>\n",
              "      <td>3</td>\n",
              "      <td>퇴근 후에 오랜만에 들어보는 시도강님의 음악. 동양풍의 음악을 듣고 있으면 확실히 ...</td>\n",
              "      <td>It's been a while since I listened to Shido Ka...</td>\n",
              "      <td>ENFJ</td>\n",
              "    </tr>\n",
              "    <tr>\n",
              "      <th>4</th>\n",
              "      <td>4</td>\n",
              "      <td>오늘은 피로가 누적이 됐었는지, 9시쯤 저도 모르게 잠들었다가 이제 일어났네요 ^^...</td>\n",
              "      <td>Today, I fell asleep unconsciously around 9 o'...</td>\n",
              "      <td>ENFJ</td>\n",
              "    </tr>\n",
              "  </tbody>\n",
              "</table>\n",
              "</div>\n",
              "      <button class=\"colab-df-convert\" onclick=\"convertToInteractive('df-6ab39ed3-9381-45aa-9513-b49091937f43')\"\n",
              "              title=\"Convert this dataframe to an interactive table.\"\n",
              "              style=\"display:none;\">\n",
              "        \n",
              "  <svg xmlns=\"http://www.w3.org/2000/svg\" height=\"24px\"viewBox=\"0 0 24 24\"\n",
              "       width=\"24px\">\n",
              "    <path d=\"M0 0h24v24H0V0z\" fill=\"none\"/>\n",
              "    <path d=\"M18.56 5.44l.94 2.06.94-2.06 2.06-.94-2.06-.94-.94-2.06-.94 2.06-2.06.94zm-11 1L8.5 8.5l.94-2.06 2.06-.94-2.06-.94L8.5 2.5l-.94 2.06-2.06.94zm10 10l.94 2.06.94-2.06 2.06-.94-2.06-.94-.94-2.06-.94 2.06-2.06.94z\"/><path d=\"M17.41 7.96l-1.37-1.37c-.4-.4-.92-.59-1.43-.59-.52 0-1.04.2-1.43.59L10.3 9.45l-7.72 7.72c-.78.78-.78 2.05 0 2.83L4 21.41c.39.39.9.59 1.41.59.51 0 1.02-.2 1.41-.59l7.78-7.78 2.81-2.81c.8-.78.8-2.07 0-2.86zM5.41 20L4 18.59l7.72-7.72 1.47 1.35L5.41 20z\"/>\n",
              "  </svg>\n",
              "      </button>\n",
              "      \n",
              "  <style>\n",
              "    .colab-df-container {\n",
              "      display:flex;\n",
              "      flex-wrap:wrap;\n",
              "      gap: 12px;\n",
              "    }\n",
              "\n",
              "    .colab-df-convert {\n",
              "      background-color: #E8F0FE;\n",
              "      border: none;\n",
              "      border-radius: 50%;\n",
              "      cursor: pointer;\n",
              "      display: none;\n",
              "      fill: #1967D2;\n",
              "      height: 32px;\n",
              "      padding: 0 0 0 0;\n",
              "      width: 32px;\n",
              "    }\n",
              "\n",
              "    .colab-df-convert:hover {\n",
              "      background-color: #E2EBFA;\n",
              "      box-shadow: 0px 1px 2px rgba(60, 64, 67, 0.3), 0px 1px 3px 1px rgba(60, 64, 67, 0.15);\n",
              "      fill: #174EA6;\n",
              "    }\n",
              "\n",
              "    [theme=dark] .colab-df-convert {\n",
              "      background-color: #3B4455;\n",
              "      fill: #D2E3FC;\n",
              "    }\n",
              "\n",
              "    [theme=dark] .colab-df-convert:hover {\n",
              "      background-color: #434B5C;\n",
              "      box-shadow: 0px 1px 3px 1px rgba(0, 0, 0, 0.15);\n",
              "      filter: drop-shadow(0px 1px 2px rgba(0, 0, 0, 0.3));\n",
              "      fill: #FFFFFF;\n",
              "    }\n",
              "  </style>\n",
              "\n",
              "      <script>\n",
              "        const buttonEl =\n",
              "          document.querySelector('#df-6ab39ed3-9381-45aa-9513-b49091937f43 button.colab-df-convert');\n",
              "        buttonEl.style.display =\n",
              "          google.colab.kernel.accessAllowed ? 'block' : 'none';\n",
              "\n",
              "        async function convertToInteractive(key) {\n",
              "          const element = document.querySelector('#df-6ab39ed3-9381-45aa-9513-b49091937f43');\n",
              "          const dataTable =\n",
              "            await google.colab.kernel.invokeFunction('convertToInteractive',\n",
              "                                                     [key], {});\n",
              "          if (!dataTable) return;\n",
              "\n",
              "          const docLinkHtml = 'Like what you see? Visit the ' +\n",
              "            '<a target=\"_blank\" href=https://colab.research.google.com/notebooks/data_table.ipynb>data table notebook</a>'\n",
              "            + ' to learn more about interactive tables.';\n",
              "          element.innerHTML = '';\n",
              "          dataTable['output_type'] = 'display_data';\n",
              "          await google.colab.output.renderOutput(dataTable, element);\n",
              "          const docLink = document.createElement('div');\n",
              "          docLink.innerHTML = docLinkHtml;\n",
              "          element.appendChild(docLink);\n",
              "        }\n",
              "      </script>\n",
              "    </div>\n",
              "  </div>\n",
              "  "
            ]
          },
          "metadata": {},
          "execution_count": 97
        }
      ],
      "source": [
        "data.head(5)"
      ]
    },
    {
      "cell_type": "code",
      "execution_count": 98,
      "metadata": {
        "colab": {
          "base_uri": "https://localhost:8080/"
        },
        "id": "dbCZ_uYahNlL",
        "outputId": "cb7cef69-bebe-4345-b28d-802cd86651d9"
      },
      "outputs": [
        {
          "output_type": "execute_result",
          "data": {
            "text/plain": [
              "[[\"I had a quick talk with people in common denominator today. People around me say I'm going out with her soon. (Maybe they're already dating) I feel so betrayed. When I was worried about her, she said she didn't have any rationality, and when she talked about the reunion, she said it would be difficult because she didn't have enough time, so she hugged me, met me, ate, contacted me every day, exercised, and bought me flowers.I guess I was just an old, bad-looking insurance. Six and a half years seems to be a big and important time for me. I forgot about it in a flash and found a new person, and I didn't even talk to her about breaking up, but I went to a wine bar and fought and broke up with her. It's so painful and I'm having a hard time right now.\"]]"
            ]
          },
          "metadata": {},
          "execution_count": 98
        }
      ],
      "source": [
        "[p.split('|||') for p in data.head(1).NAVER.values]"
      ]
    },
    {
      "cell_type": "code",
      "execution_count": 99,
      "metadata": {
        "colab": {
          "base_uri": "https://localhost:8080/",
          "height": 631
        },
        "id": "GRUQZQGuhOu0",
        "outputId": "23ed627a-b658-4d74-d3d0-b48fabd09f82"
      },
      "outputs": [
        {
          "output_type": "execute_result",
          "data": {
            "text/plain": [
              "<matplotlib.axes._subplots.AxesSubplot at 0x7f4b95befcd0>"
            ]
          },
          "metadata": {},
          "execution_count": 99
        },
        {
          "output_type": "display_data",
          "data": {
            "text/plain": [
              "<Figure size 2880x1440 with 1 Axes>"
            ],
            "image/png": "[encoded data removed]"
          },
          "metadata": {
            "needs_background": "light"
          }
        }
      ],
      "source": [
        "plt.figure(figsize=(40,20))\n",
        "plt.xlabel('mbti', size = 30)\n",
        "plt.ylabel('mbti', size = 30)\n",
        "plt.title('Distribution of data set', size=35)\n",
        "plt.xticks(fontsize=24, rotation=0)\n",
        "plt.yticks(fontsize=24, rotation=0)\n",
        "sns.countplot(data=data, x='mbti')"
      ]
    },
    {
      "cell_type": "markdown",
      "metadata": {
        "id": "ycNiOuogjPWC"
      },
      "source": [
        "#Preprocessing"
      ]
    },
    {
      "cell_type": "markdown",
      "metadata": {
        "id": "CtDbp-NjjQok"
      },
      "source": [
        "Label Encoding"
      ]
    },
    {
      "cell_type": "code",
      "execution_count": 100,
      "metadata": {
        "id": "8exBvRS0jKdj"
      },
      "outputs": [],
      "source": [
        "##### Encode each type to an int\n",
        "\n",
        "from sklearn.preprocessing import LabelEncoder\n",
        "\n",
        "unique_type_list = ['INFJ', 'ENTP', 'INTP', 'INTJ', 'ENTJ', 'ENFJ', 'INFP', 'ENFP',\n",
        "       'ISFP', 'ISTP', 'ISFJ', 'ISTJ', 'ESTP', 'ESFP', 'ESTJ', 'ESFJ']\n",
        "lab_encoder = LabelEncoder().fit(unique_type_list)"
      ]
    },
    {
      "cell_type": "markdown",
      "metadata": {
        "id": "p5BgXOanjWv9"
      },
      "source": [
        "Posts cleaning"
      ]
    },
    {
      "cell_type": "code",
      "execution_count": 101,
      "metadata": {
        "colab": {
          "base_uri": "https://localhost:8080/"
        },
        "id": "vAvT3jdzjbD0",
        "outputId": "5e98545b-c40d-49a6-e38f-8502fba1f0f4"
      },
      "outputs": [
        {
          "output_type": "stream",
          "name": "stdout",
          "text": [
            "CPU times: user 129 µs, sys: 75 µs, total: 204 µs\n",
            "Wall time: 212 µs\n",
            "CPU times: user 57 µs, sys: 0 ns, total: 57 µs\n",
            "Wall time: 60.1 µs\n",
            "CPU times: user 177 µs, sys: 0 ns, total: 177 µs\n",
            "Wall time: 180 µs\n",
            "\n",
            "Before preprocessing:\n",
            "\n",
            " I don't really feel it, but people around me often ask me what I said because my voice is too small이번에 Han Ye-jin is supposed to participate in the National High School Acting Competition, but I feel bad that she was pointed out by the acting teacher to raise her two voicesWhat should I do to make my voice loud?\"T\"\n",
            "\n",
            "After preprocessing:\n",
            "\n",
            " i don t really feel it but people around me often ask me what i said because my voice is too small han ye jin is supposed to participate in the national high school acting competition but i feel bad that she was pointed out by the acting teacher to raise her two voiceswhat should i do to make my voice loud t \n",
            "\n",
            "List of urls:\n"
          ]
        },
        {
          "output_type": "stream",
          "name": "stderr",
          "text": [
            "[nltk_data] Downloading package stopwords to /root/nltk_data...\n",
            "[nltk_data]   Package stopwords is already up-to-date!\n"
          ]
        },
        {
          "output_type": "execute_result",
          "data": {
            "text/plain": [
              "[]"
            ]
          },
          "metadata": {},
          "execution_count": 101
        }
      ],
      "source": [
        "import nltk\n",
        "import time\n",
        "##### Compute list of subject with Type | list of comments \n",
        "\n",
        "# Time\n",
        "%time data.NAVER[1].replace('+', ' ').replace('.', ' ').replace(',', ' ').replace(':', ' ')\n",
        "%time re.sub('http[s]?://(?:[a-zA-Z]|[0-9]|[$-_@.&+]|(?:%[0-9a-fA-F][0-9a-fA-F]))+', '', data.NAVER[1])\n",
        "\n",
        "\n",
        "from nltk.corpus import stopwords \n",
        "from nltk import word_tokenize\n",
        "from nltk.stem import PorterStemmer, WordNetLemmatizer\n",
        "nltk.download('stopwords')\n",
        "\n",
        "# Lemmatizer | Stemmatizer\n",
        "stemmer = PorterStemmer()\n",
        "lemmatiser = WordNetLemmatizer()\n",
        "\n",
        "# Cache the stop words for speed \n",
        "cachedStopWords = stopwords.words(\"english\")\n",
        "\n",
        "# One post\n",
        "OnePost = data.NAVER[1]\n",
        "\n",
        "# List all urls\n",
        "urls = re.findall('http[s]?://(?:[a-zA-Z]|[0-9]|[$-_@.&+]|(?:%[0-9a-fA-F][0-9a-fA-F]))+', OnePost)\n",
        "\n",
        "# Remove urls\n",
        "temp = re.sub('http[s]?://(?:[a-zA-Z]|[0-9]|[$-_@.&+]|(?:%[0-9a-fA-F][0-9a-fA-F]))+', 'link', OnePost)\n",
        "\n",
        "# Keep only words\n",
        "temp = re.sub(\"[^a-zA-Z]\", \" \", temp)\n",
        "\n",
        "# Remove spaces > 1\n",
        "temp = re.sub(' +', ' ', temp).lower()\n",
        "\n",
        "# Remove stopwords and lematize\n",
        "%time stemmer.stem(\" \".join([w for w in temp.split(' ') if w not in cachedStopWords]))\n",
        "\n",
        "print(\"\\nBefore preprocessing:\\n\\n\", OnePost[0:500])\n",
        "print(\"\\nAfter preprocessing:\\n\\n\", temp[0:500])\n",
        "print(\"\\nList of urls:\")\n",
        "urls"
      ]
    },
    {
      "cell_type": "code",
      "execution_count": 102,
      "metadata": {
        "colab": {
          "base_uri": "https://localhost:8080/"
        },
        "id": "RKcdeMXVjkzs",
        "outputId": "b50b1667-09c9-4d44-ea3f-94cf7aba0863"
      },
      "outputs": [
        {
          "output_type": "stream",
          "name": "stderr",
          "text": [
            "[nltk_data] Downloading package wordnet to /root/nltk_data...\n",
            "[nltk_data]   Package wordnet is already up-to-date!\n",
            "[nltk_data] Downloading package omw-1.4 to /root/nltk_data...\n",
            "[nltk_data]   Package omw-1.4 is already up-to-date!\n"
          ]
        },
        {
          "output_type": "stream",
          "name": "stdout",
          "text": [
            "500 | 1402 rows\n",
            "1000 | 1402 rows\n"
          ]
        }
      ],
      "source": [
        "import nltk\n",
        "nltk.download('wordnet')\n",
        "##### Compute list of subject with Type | list of comments \n",
        "from nltk.stem import PorterStemmer, WordNetLemmatizer\n",
        "nltk.download('omw-1.4')\n",
        "\n",
        "# Lemmatize\n",
        "stemmer = PorterStemmer()\n",
        "lemmatiser = WordNetLemmatizer()\n",
        "\n",
        "def pre_process_data(data, remove_stop_words=True):\n",
        "\n",
        "    list_personality = []\n",
        "    list_posts = []\n",
        "    len_data = len(data)\n",
        "    i=0\n",
        "    \n",
        "    for row in data.iterrows():\n",
        "        i+=1\n",
        "        if i % 500 == 0:\n",
        "            print(\"%s | %s rows\" % (i, len_data))\n",
        "\n",
        "        ##### Remove and clean comments\n",
        "        posts = row[1].NAVER\n",
        "        temp = re.sub('http[s]?://(?:[a-zA-Z]|[0-9]|[$-_@.&+]|(?:%[0-9a-fA-F][0-9a-fA-F]))+', '', posts)\n",
        "        temp = re.sub(\"[^a-zA-Z]\", \" \", temp)\n",
        "        temp = re.sub(' +', ' ', temp).lower()\n",
        "        if remove_stop_words:\n",
        "            temp = \" \".join([lemmatiser.lemmatize(w) for w in temp.split(' ') if w not in cachedStopWords])\n",
        "        else:\n",
        "            temp = \" \".join([lemmatiser.lemmatize(w) for w in temp.split(' ')])\n",
        "\n",
        "        type_labelized = lab_encoder.transform([row[1].mbti])[0]\n",
        "        list_personality.append(type_labelized)\n",
        "        list_posts.append(temp)\n",
        "\n",
        "    #del data\n",
        "    list_posts = np.array(list_posts)\n",
        "    list_personality = np.array(list_personality)\n",
        "    return list_posts, list_personality\n",
        "\n",
        "list_posts, list_personality = pre_process_data(data, remove_stop_words=True)"
      ]
    },
    {
      "cell_type": "code",
      "execution_count": 103,
      "metadata": {
        "colab": {
          "base_uri": "https://localhost:8080/"
        },
        "id": "LANb--qtj2Fy",
        "outputId": "001586fc-2f29-4542-a1aa-11edf121d6e5"
      },
      "outputs": [
        {
          "output_type": "execute_result",
          "data": {
            "text/plain": [
              "array(['quick talk people common denominator today people around say going soon maybe already dating feel betrayed worried said rationality talked reunion said would difficult enough time hugged met ate contacted every day exercised bought flower guess old bad looking insurance six half year seems big important time forgot flash found new person even talk breaking went wine bar fought broke painful hard time right ',\n",
              "       'really feel people around often ask said voice small han ye jin supposed participate national high school acting competition feel bad pointed acting teacher raise two voiceswhat make voice loud ',\n",
              "       'thinking weekday night work perfect time slot think big city best believe work ',\n",
              "       ...,\n",
              "       'feel way totally unique entp experience luckily hopefully find validate existence caffeine nicotine quit smoke vape best friend know would without see year vow make thing happiness soon someone tell something question everything sit listen ramble think feel like idiot hate people usually people know mind well tell need instead like alone grind tell know best instinct almost always right doubt oh also freeze someone start argue mind go blank go flight mode well would try come tell feel intention openly point let know whether want ease back towards relationship give time space respect whichever choose would like note way lead get back together long run characterize someone call hypocrite say nanananabooboo laugh show realize shortcoming mature manner yet call others immature uh oh realize pattern might drop h bomb call fun buy four pack sierra nevada bigfoot barleywine carefully consider propose track nightwish stunningly good barely graze past listen ghost love score reeealy need investigate deeply love song like movement female singer ice proverbial cake bosnian rainbow interest overall vibe definitely dark would consider indie meet keyboard feel say though normally listen lyric concentrate solely instrument treat voice pure instrument well bet need change go get deep mean song oh course know landslide fleetwood beyond amaze like leave two excellent song represent sad infp get back hear track big wreck lighthouse king x go away porcupine tree arrive somewhere aforementioned exquisitely melancholic get love front class really bother inhibition wear speak something know worry least people know part believe sometimes kinda bring doubt though butthead indeed opinion rant anyone like person would scar assume delude person respond post begin r infp narcissistic infps believe feel deeply others yeah think delude top post time sub think haha start java school like stab repeatedly year rusty fork try get back year realize c think one bad thing say x introvert case suppose put pressure conform group really help understand little perfectly normal feel lonely time also perfectly normal struggle get plug new environment thing help find small club could join interest swing dance random thing acquaintance invite end go love put sometimes hurt time time fly love sure take energy even hate still learn something best luck op currently go school primarily stem engineer first month college experience fe like miss see friend school fun wide variety people get jealous every time saw friend go art cuure social impact event realize people school kind people host thing fe like miss something creative person could flourish pragmatic environment realize unfair compare people especially facebook like compare everyone else highlight reel behind scene footage see people seemingly easy happy success aware time loathe hat cry life realize start think highlight reel would look like go party often actively look thing post social medium meaningful way sure someone would jealous life together definitely shin achievement bipolar disorder time write without medication serious life issue think good reflection thank feedback absolutely issue boyfriend whenever feel get hurt always want withdraw cut run heahy reaction actually',\n",
              "       'care keep relationship stjs entps stj care work hard love dependability entps everything fun excite side feel like keep notice deal quite time two main reason notice armchair doctor know someone personally read reddit x disorder x condition try slap anyone act consider strange people tendency need label something something treat overcome people seem unwilling accept people quiet private loud everyone face mind see could entirely wrong perhaps bring closure way make sense thing real wrong answer think number thing try take chance believe people like con shortcoming outweigh pro allow open honest feel embarrass ashamed express affection interest somebody appreciate past love aware deserve good move sort stuff tag option tag user want thank much care u definitely struggle beat path sometimes want put jade force field block everything look people like remind everyone conscientious appreciative people sometimes feel way enfp best friend live vivid preoccupy life always time many friend feel like another checkmark list see life social medium get jealous feel like really matter whether im part life thats love everyone experience life differently expect enfp friend live value spontaneous forget arrangement make thats part personality person im mine need validate go enjoy life way whatever like occasion enfp friend wavelenh hang together sail path sail let relationship define wonderfully put one give intj probably bad question see far think might bias people towards certain mbti type though actually analyze quiz interpret resus merely guess sound amaze close initial plan get quickie marriage courthouse hop plane st maartin plan much still table tire think everyone around tire would love quit something something real world think anyone around truly capable quit completely pervasive subscribe keep come back maybe sub feel ok post feel see little judgement member community respect cordiality u like others say think balance important regard sub u become important support group understand unlike sub also come learn others agree eggwaterplants harassment spam member sub long since unmoderated without problem u hard enough express feel worry censor wrong maybe able flair post categorize post structure manner fier want see moment edit retract romantic nice help joa throw mix ugh hate texting haha nothing beat see someone person skype would aernative sadly enough probably say opposite dad leave month old plenty rejection school year still constant battle probably issue give people space like never come back something still unsure purely experience make want hold tightly onto friend tho like keep contact like would want keep talk people close make sense terrific relationship family may something need survey something come david keirsey myers group nf nt sf st symmetrical term relate function keirsey believe cognitive function particular need maintain symmetry keirsey group way think sj sp type common sf st type particularly term behaviour also try create group would align classical four temperament explain begin please understand ii presumably group catch many u find truth even though may disagree aspect theory first want say love post great see something question certain part life like text analyze anyways definitely',\n",
              "       'understand come feel way oftentimes whenever see someone type long wind text always feel like respond kind even vice versa generally expect respond long slightly disappoint see time happen conversation begin devolve short message eventually end maybe normal flow conversation via text messenger someone type something long type slightly long go course see thing happen well get short short part feel expectation others meet level think personally enjoy message get long like mean conversation interest two people thing say time idea float around think awesome nonetheless definitely see issue come texting think u hard use keyboard way communication maybe come obvious course action would call mean use phone talk fast type right especially get much type texting necessarily think every single word great detail say come conclusion communicate guess tl r type big message easy keep go texting big message call person believe anyone bad nature sum experience major influence lot thing say original post almost word word youtuber ejarendee say enfjs ton experience type real life especially xnfjs main thing enfjs always emotional atmosphere pretty much matter infjs much aloof easily detach emotion scorsese favorite goodfellas casino depart awesome end spectrum like smart quirky comedy e g grand budapest hotel annie hall stuff like genre really decide factor like anything long well write well act friend would kindly share day life get good understand think process far seem like good way lead life always like math either right wrong tangible solid unlike everything else also queen procrastinator hardly anything outside school unless big paper day course haha never like geometry though might like physic stick pretty cool also space math universe take math calculus though really get super crazy stuff anyways look math class like little tiny piece future like grade important need stellar give honest try say never stick ditch pretty much entirely get college high school math much hard college math kind kill high school college get take math class like count vote divide pie super weak stuff ironically aptitude math really help job art never know may help road good luck famous infps let eye tell something alaska generally like wild cold love scenery outdoors come talk perceive asshole may fact asshole bad asshole fail recognize assholery asshole know something endear like drill sergeant rigidity expect go honest open asshole personally word action incredibly underwhelming genuinely move emotion though impress much real person facade think might make cool many player cool game make special enough real people uh application go head often like admit sensor usually start plus mean much old function bite develop see young infp sure someone else say entp really see though always infp forum around internet somewhere first one infpopen yahoo group back late think hit another two yahoo infp group die find infp global chatter fold several year late admin run anymore inactive forum find one point infps love talk infps internet forum something happen people stop contribute unlikely somewhere else bail think people exactly pit controversy even know moderator good'],\n",
              "      dtype='<U4004')"
            ]
          },
          "metadata": {},
          "execution_count": 103
        }
      ],
      "source": [
        "list_posts"
      ]
    },
    {
      "cell_type": "code",
      "source": [
        "list_personality"
      ],
      "metadata": {
        "colab": {
          "base_uri": "https://localhost:8080/"
        },
        "id": "OdzaQ3uHrB3-",
        "outputId": "24e3f28d-a93a-4ac5-ef19-ab80f8aba331"
      },
      "execution_count": 104,
      "outputs": [
        {
          "output_type": "execute_result",
          "data": {
            "text/plain": [
              "array([0, 0, 0, ..., 9, 9, 9])"
            ]
          },
          "metadata": {},
          "execution_count": 104
        }
      ]
    },
    {
      "cell_type": "markdown",
      "metadata": {
        "id": "AkdhqzN5j398"
      },
      "source": [
        "Vectorize with count and tf-idf"
      ]
    },
    {
      "cell_type": "code",
      "execution_count": 105,
      "metadata": {
        "colab": {
          "base_uri": "https://localhost:8080/"
        },
        "id": "weuwCrW0j5av",
        "outputId": "346eb2f9-edc9-487a-906a-14b0b3174856"
      },
      "outputs": [
        {
          "output_type": "stream",
          "name": "stdout",
          "text": [
            "CountVectorizer\n",
            "Tf-idf\n"
          ]
        }
      ],
      "source": [
        "from sklearn.feature_extraction.text import TfidfTransformer\n",
        "from sklearn.feature_extraction.text import CountVectorizer\n",
        "\n",
        "cntizer = CountVectorizer(analyzer=\"word\", \n",
        "                             max_features=1500, \n",
        "                             tokenizer=None,    \n",
        "                             preprocessor=None, \n",
        "                             stop_words=None,  \n",
        "#                             ngram_range=(1,1),\n",
        "                             max_df=0.5,\n",
        "                             min_df=0.1) \n",
        "                                 \n",
        "tfizer = TfidfTransformer()\n",
        "\n",
        "print(\"CountVectorizer\")\n",
        "X_cnt = cntizer.fit_transform(list_posts)\n",
        "print(\"Tf-idf\")\n",
        "X_tfidf =  tfizer.fit_transform(X_cnt).toarray()"
      ]
    },
    {
      "cell_type": "code",
      "execution_count": 106,
      "metadata": {
        "colab": {
          "base_uri": "https://localhost:8080/"
        },
        "id": "AgQnBWy5j824",
        "outputId": "f4cba662-aaa0-4e19-f56f-15b7297f989a"
      },
      "outputs": [
        {
          "output_type": "execute_result",
          "data": {
            "text/plain": [
              "(1402, 596)"
            ]
          },
          "metadata": {},
          "execution_count": 106
        }
      ],
      "source": [
        "X_tfidf.shape"
      ]
    },
    {
      "cell_type": "code",
      "execution_count": 107,
      "metadata": {
        "colab": {
          "base_uri": "https://localhost:8080/",
          "height": 73
        },
        "id": "lnjj6rrij_IZ",
        "outputId": "c1d4fa63-80e7-4ca6-8148-e34c9c22ad3f"
      },
      "outputs": [
        {
          "output_type": "execute_result",
          "data": {
            "text/plain": [
              "'quick talk people common denominator today people around say going soon maybe already dating feel betrayed worried said rationality talked reunion said would difficult enough time hugged met ate contacted every day exercised bought flower guess old bad looking insurance six half year seems big important time forgot flash found new person even talk breaking went wine bar fought broke painful hard time right '"
            ],
            "application/vnd.google.colaboratory.intrinsic+json": {
              "type": "string"
            }
          },
          "metadata": {},
          "execution_count": 107
        }
      ],
      "source": [
        " list_posts[0]"
      ]
    },
    {
      "cell_type": "markdown",
      "metadata": {
        "id": "t43cucJ5kA-M"
      },
      "source": [
        "LSA 하는 부분"
      ]
    },
    {
      "cell_type": "code",
      "execution_count": 108,
      "metadata": {
        "colab": {
          "base_uri": "https://localhost:8080/"
        },
        "id": "tYGx12JckAf5",
        "outputId": "27dd7564-312a-4de2-c992-6cbcf7d2a5df"
      },
      "outputs": [
        {
          "output_type": "stream",
          "name": "stdout",
          "text": [
            "[[0.   0.   0.   ... 0.   0.   0.  ]\n",
            " [0.   0.   0.   ... 0.   0.   0.  ]\n",
            " [0.   0.   0.   ... 0.   0.   0.  ]\n",
            " ...\n",
            " [0.   0.   0.07 ... 0.   0.06 0.  ]\n",
            " [0.   0.05 0.   ... 0.   0.   0.  ]\n",
            " [0.   0.   0.   ... 0.   0.   0.06]]\n"
          ]
        },
        {
          "output_type": "execute_result",
          "data": {
            "text/plain": [
              "(1402, 596)"
            ]
          },
          "metadata": {},
          "execution_count": 108
        }
      ],
      "source": [
        "print(np.around(X_tfidf, 2))\n",
        "X_tfidf.shape"
      ]
    },
    {
      "cell_type": "code",
      "execution_count": 109,
      "metadata": {
        "id": "YqI8honCkH48"
      },
      "outputs": [],
      "source": [
        "from sklearn.decomposition import TruncatedSVD\n",
        "# Truncated SVD\n",
        "svd = TruncatedSVD(n_components=12, n_iter=7, random_state=42)\n",
        "svd_vec = svd.fit_transform(X_tfidf)"
      ]
    },
    {
      "cell_type": "code",
      "execution_count": 110,
      "metadata": {
        "colab": {
          "base_uri": "https://localhost:8080/"
        },
        "id": "2iwduwACkJqk",
        "outputId": "d5396d7b-d209-44c2-81c0-cf869664d86a"
      },
      "outputs": [
        {
          "output_type": "stream",
          "name": "stdout",
          "text": [
            "[[ 0.15 -0.09  0.03 ...  0.12  0.04  0.  ]\n",
            " [ 0.14 -0.08  0.   ...  0.15 -0.03  0.  ]\n",
            " [ 0.08 -0.05 -0.01 ... -0.02  0.05 -0.06]\n",
            " ...\n",
            " [ 0.42 -0.14  0.02 ... -0.03 -0.09  0.05]\n",
            " [ 0.49 -0.09 -0.02 ...  0.02 -0.1   0.03]\n",
            " [ 0.43 -0.12  0.   ... -0.01 -0.    0.13]]\n"
          ]
        },
        {
          "output_type": "execute_result",
          "data": {
            "text/plain": [
              "(1402, 12)"
            ]
          },
          "metadata": {},
          "execution_count": 110
        }
      ],
      "source": [
        "print(np.around(svd_vec, 2))\n",
        "svd_vec.shape"
      ]
    },
    {
      "cell_type": "markdown",
      "metadata": {
        "id": "_hD-gI_LkNNe"
      },
      "source": [
        " Plot first axes of decomposition"
      ]
    },
    {
      "cell_type": "code",
      "execution_count": 111,
      "metadata": {
        "id": "_d_DY26rkLm7"
      },
      "outputs": [],
      "source": [
        "from sklearn.decomposition import KernelPCA, FastICA, PCA\n",
        "from sklearn.preprocessing import StandardScaler\n",
        "\n",
        "# PCA\n",
        "pca_vec = PCA(n_components=12).fit_transform(X_tfidf)\n",
        "\n",
        "# ICA\n",
        "ica_vec = FastICA(n_components=12).fit_transform(X_tfidf)"
      ]
    },
    {
      "cell_type": "code",
      "execution_count": 112,
      "metadata": {
        "colab": {
          "base_uri": "https://localhost:8080/"
        },
        "id": "gXy1X0swkPFV",
        "outputId": "368cc9b1-5106-43fa-963d-91fd391702ee"
      },
      "outputs": [
        {
          "output_type": "stream",
          "name": "stdout",
          "text": [
            "[[-0.27  0.27  0.08 ...  0.02  0.13  0.06]\n",
            " [-0.22  0.17  0.03 ... -0.02 -0.01 -0.09]\n",
            " [-0.23  0.24  0.01 ... -0.06 -0.07 -0.06]\n",
            " ...\n",
            " [-0.11 -0.09  0.02 ...  0.04 -0.03 -0.06]\n",
            " [-0.01 -0.15 -0.03 ...  0.08 -0.01 -0.05]\n",
            " [-0.07 -0.1  -0.01 ... -0.08  0.05 -0.09]]\n"
          ]
        },
        {
          "output_type": "execute_result",
          "data": {
            "text/plain": [
              "(1402, 12)"
            ]
          },
          "metadata": {},
          "execution_count": 112
        }
      ],
      "source": [
        "print(np.around(pca_vec, 2))\n",
        "pca_vec.shape"
      ]
    },
    {
      "cell_type": "code",
      "execution_count": 113,
      "metadata": {
        "colab": {
          "base_uri": "https://localhost:8080/"
        },
        "id": "8eFAmIVykQ1I",
        "outputId": "e29b2d14-1f37-49ea-a5cb-0640d31ea6c4"
      },
      "outputs": [
        {
          "output_type": "stream",
          "name": "stdout",
          "text": [
            "[[-0.01 -0.   -0.01 ...  0.   -0.02 -0.03]\n",
            " [-0.01 -0.05 -0.02 ...  0.   -0.02 -0.06]\n",
            " [-0.01  0.02  0.   ... -0.01  0.   -0.1 ]\n",
            " ...\n",
            " [-0.   -0.02 -0.02 ...  0.03  0.02  0.  ]\n",
            " [ 0.03  0.    0.02 ...  0.01  0.04  0.02]\n",
            " [-0.03 -0.01  0.02 ...  0.02 -0.    0.01]]\n"
          ]
        },
        {
          "output_type": "execute_result",
          "data": {
            "text/plain": [
              "(1402, 12)"
            ]
          },
          "metadata": {},
          "execution_count": 113
        }
      ],
      "source": [
        "print(np.around(ica_vec, 2))\n",
        "ica_vec.shape"
      ]
    },
    {
      "cell_type": "markdown",
      "metadata": {
        "id": "F42EqH2jkUiK"
      },
      "source": [
        " Plot tsne for each pair of letter:\n",
        "\n",
        "Extraversion (E) - Introversion (I)\n",
        "\n",
        "Sensation (S) - INtuition (N)\n",
        "\n",
        "Thinking (T) - Feeling (F)\n",
        "\n",
        "Judgement (J) - Perception (P)"
      ]
    },
    {
      "cell_type": "code",
      "execution_count": 114,
      "metadata": {
        "colab": {
          "base_uri": "https://localhost:8080/"
        },
        "id": "uAWEPG1ekShl",
        "outputId": "4987e0b8-df53-4dc9-d393-a8e96c824d0b"
      },
      "outputs": [
        {
          "output_type": "stream",
          "name": "stdout",
          "text": [
            "Binarize MBTI list: \n",
            "[[1 0 0 0]\n",
            " [1 0 0 0]\n",
            " [1 0 0 0]\n",
            " ...\n",
            " [0 0 0 1]\n",
            " [0 0 0 1]\n",
            " [0 0 0 1]]\n"
          ]
        },
        {
          "output_type": "execute_result",
          "data": {
            "text/plain": [
              "(1402, 4)"
            ]
          },
          "metadata": {},
          "execution_count": 114
        }
      ],
      "source": [
        "# Split mbti personality into 4 letters and binarize\n",
        "titles = [\"Extraversion (E) - Introversion (I)\",\n",
        "          \"Sensation (S) - INtuition (N)\",\n",
        "          \"Thinking (T) - Feeling (F)\",\n",
        "          \"Judgement (J) - Perception (P)\"\n",
        "         ] \n",
        "b_Pers = {'I':0, 'E':1, 'N':0, 'S':1, 'F':0, 'T':1, 'J':0, 'P':1}\n",
        "b_Pers_list = [{0:'I', 1:'E'}, {0:'N', 1:'S'}, {0:'F', 1:'T'}, {0:'J', 1:'P'}]\n",
        "\n",
        "def translate_personality(personality):\n",
        "    '''\n",
        "    transform mbti to binary vector\n",
        "    string 성격을 주면 list 성격 코드로 바꿔줌\n",
        "    '''\n",
        "    return [b_Pers[l] for l in personality]\n",
        "\n",
        "def translate_back(personality):\n",
        "    '''\n",
        "    transform binary vector to mbti personality\n",
        "    list 성격 코드를 주면 string 성격으로 바꿔줌\n",
        "    '''\n",
        "    s = \"\"\n",
        "    for i, l in enumerate(personality):\n",
        "        s += b_Pers_list[i][l]\n",
        "    return s\n",
        "\n",
        "list_personality_bin = np.array([translate_personality(p) for p in data.mbti])\n",
        "print(\"Binarize MBTI list: \\n%s\" % list_personality_bin)\n",
        "list_personality_bin.shape"
      ]
    },
    {
      "cell_type": "markdown",
      "metadata": {
        "id": "qOTu2b7Ekz4o"
      },
      "source": [
        " Try multiple sklearn classifiers"
      ]
    },
    {
      "cell_type": "code",
      "execution_count": 115,
      "metadata": {
        "colab": {
          "base_uri": "https://localhost:8080/"
        },
        "id": "j0CkQgngkwua",
        "outputId": "2e82b375-beae-4e77-a4b0-70be7c8b5ec5"
      },
      "outputs": [
        {
          "output_type": "stream",
          "name": "stdout",
          "text": [
            "Looking in indexes: https://pypi.org/simple, https://us-python.pkg.dev/colab-wheels/public/simple/\n",
            "Requirement already satisfied: xgboost in /usr/local/lib/python3.7/dist-packages (0.90)\n",
            "Requirement already satisfied: scipy in /usr/local/lib/python3.7/dist-packages (from xgboost) (1.7.3)\n",
            "Requirement already satisfied: numpy in /usr/local/lib/python3.7/dist-packages (from xgboost) (1.21.6)\n"
          ]
        }
      ],
      "source": [
        "!pip install xgboost"
      ]
    },
    {
      "cell_type": "code",
      "execution_count": 116,
      "metadata": {
        "id": "GDZ49B0Jk1W0"
      },
      "outputs": [],
      "source": [
        "##### Sklearn classifiers\n",
        "\n",
        "from sklearn.linear_model import SGDClassifier, PassiveAggressiveClassifier\n",
        "from sklearn.svm import LinearSVC, SVC \n",
        "from sklearn.naive_bayes import MultinomialNB\n",
        "from sklearn.ensemble import RandomForestClassifier\n",
        "from sklearn.metrics import classification_report, f1_score\n",
        "from sklearn.feature_extraction.text import TfidfVectorizer, CountVectorizer, TfidfTransformer\n",
        "\n",
        "import xgboost as xgb\n",
        "import pickle\n",
        "\n",
        "# Vectorizer\n",
        "\n",
        "cntizer = CountVectorizer(analyzer=\"word\", \n",
        "                             max_features=1000, \n",
        "                             tokenizer=None,    \n",
        "                             preprocessor=None, \n",
        "                             stop_words=None,   \n",
        "                             max_df=0.5,\n",
        "                             min_df=0.1) \n",
        "\n",
        "tfizer = TfidfTransformer()\n",
        "\n",
        "# Classifiers\n",
        "PassAgg = PassiveAggressiveClassifier(max_iter=50)\n",
        "\n",
        "sgd = SGDClassifier(loss='hinge',   \n",
        "              penalty='l1',   \n",
        "              alpha=1e-2,     \n",
        "              random_state=42,\n",
        "              max_iter=7,     \n",
        "              tol=None)\n",
        "\n",
        "# SVM\n",
        "lsvc = LinearSVC()\n",
        "rbfsvc = SVC(kernel='rbf')\n",
        "# SVM preding 결과 voting을 위한 one-hot encoder\n",
        "OneHotEncoder = lambda x: np.eye(16)[x]\n",
        "\n",
        "    \n",
        "# Multinomial Naive Bayes\n",
        "mlNB = MultinomialNB()\n",
        "\n",
        "# Xgboost \n",
        "# setup parameters for xgboost\n",
        "param = {}\n",
        "# use softmax multi-class classification\n",
        "param['objective'] = 'multi:softprob'\n",
        "# scale weight of positive examples\n",
        "param['eta'] = 0.6\n",
        "param['ntrees'] = 300\n",
        "param['subsample'] = 0.93\n",
        "param['max_depth'] = 2\n",
        "param['silent'] = 1\n",
        "param['n_jobs'] = 8\n",
        "param['num_class'] = len(unique_type_list)\n",
        "# GPU 사용\n",
        "param['gpu_id'] = 0\n",
        "param['tree_method'] = 'gpu_hist'\n",
        "xgb_class = xgb.XGBClassifier(**param)"
      ]
    },
    {
      "cell_type": "markdown",
      "metadata": {
        "id": "SHKc1zKAk6WN"
      },
      "source": [
        " Stratified K-fold validation training"
      ]
    },
    {
      "cell_type": "code",
      "execution_count": 117,
      "metadata": {
        "colab": {
          "base_uri": "https://localhost:8080/"
        },
        "id": "smBQdfh3k4EF",
        "outputId": "fb77a9d2-0ca1-44e4-f0ff-208406dbbd4a"
      },
      "outputs": [
        {
          "output_type": "stream",
          "name": "stdout",
          "text": [
            "<class 'numpy.ndarray'>\n"
          ]
        }
      ],
      "source": [
        "from sklearn.model_selection import StratifiedKFold, StratifiedShuffleSplit\n",
        "kf = StratifiedShuffleSplit(n_splits=1) # n_splits는 교차검증 횟수\n",
        "\n",
        "X=list_posts\n",
        "y=list_personality\n",
        "for train, test in kf.split(X,y):\n",
        "    X_train, X_test, y_train, y_test = X[train], X[test], y[train], y[test]\n",
        "    X_train = cntizer.fit_transform(X_train)\n",
        "    X_test = cntizer.transform(X_test)\n",
        "model = lsvc\n",
        "model.fit(X_train, y_train)\n",
        "preds = model.predict(X_test)\n",
        "print(type(preds))\n",
        "#                 probs = np.add(probs, vote(preds))\n",
        "preds_train = model.predict(X_train)"
      ]
    },
    {
      "cell_type": "code",
      "execution_count": 118,
      "metadata": {
        "id": "yl9mJrfWk7s6"
      },
      "outputs": [],
      "source": [
        "# Train with k fold stratified validation\n",
        "\n",
        "name = lambda x : str(x).split('(')[0]\n",
        "\n",
        "def train_stratified(models, X, y, tf_idf=False, nsplits=3, confusion=False):\n",
        "    '''\n",
        "    Take a sklearn model like, feature set X, target set y and number of splits to compute Stratified kfold validation.\n",
        "    Args:\n",
        "        X (array):       Numpy array of features.\n",
        "        y (str):         Target - Personality list.\n",
        "        tf_idf (bool):  Wehther to use tf-idf on CountVectorizer.\n",
        "        nsplits(int):    Number of splits for cross validation.\n",
        "        confusion(bool): Wether to plot confusion matrix \n",
        "        \n",
        "    Returns:\n",
        "        dict: Dictionnary of classifiers and their cv f1-score.\n",
        "    '''\n",
        "#     fig_i = 0\n",
        "    kf = StratifiedShuffleSplit(n_splits=nsplits)\n",
        "    \n",
        "    # Store fold score for each classifier in a dictionnary\n",
        "    dict_score = {}\n",
        "    dict_score['merged'] = 0\n",
        "    for model in models:\n",
        "        dict_score[name(model)] = 0\n",
        "    \n",
        "    # Stratified Split\n",
        "    for train, test in kf.split(X,y):\n",
        "        X_train, X_test, y_train, y_test = X[train], X[test], y[train], y[test]\n",
        "        \n",
        "        X_train = cntizer.fit_transform(X_train)\n",
        "        X_test = cntizer.transform(X_test)\n",
        "        \n",
        "        # tf-idf\n",
        "        if tf_idf == True:\n",
        "            '''\n",
        "            Bug! X_train_cnt 정의한 곳이 없음 kaggle 원본코드에도 없음;;\n",
        "                                                    ↓요자식\n",
        "            fix: 원저자는 idf matrix와 idf없는 matrix를 옆으로 붙여서 쓰려고 했던거 같다...\n",
        "                 어찌할지 모르겠어서 떼버리고 tfidf matrix만 사용하도록 수정\n",
        "            '''\n",
        "            X_train_tfidf = tfizer.fit_transform(X_train)#(X_train_cnt)\n",
        "            X_test_tfidf = tfizer.transform(X_test)#(X_test_cnt)\n",
        "        \n",
        "#             X_train = np.column_stack((X_train_tfidf.todense(), X_train))\n",
        "            X_train = X_train_tfidf.toarray()\n",
        "            \n",
        "#             X_test = np.column_stack((X_test_tfidf.todense(), X_test))\n",
        "            X_test = X_test_tfidf.toarray()\n",
        "        \n",
        "        probs = np.ones((len(y_test), 16))\n",
        "        for model in models:\n",
        "            # if xgboost use dmatrix\n",
        "            if 'XGB' in name(model):\n",
        "                xg_train = xgb.DMatrix(X_train, label=y_train)\n",
        "                xg_test = xgb.DMatrix(X_test, label=y_test)\n",
        "                watchlist = [(xg_train, 'train'), (xg_test, 'test')]\n",
        "                num_round = 30\n",
        "                bst = xgb.train(param, xg_train, num_round, watchlist, early_stopping_rounds=6)\n",
        "                preds = bst.predict(xg_test)\n",
        "                probs = np.add(probs, preds)\n",
        "                preds = np.array([np.argmax(prob) for prob in preds])\n",
        "            \n",
        "            # Linear SVM, RBF SVM Classifier\n",
        "            elif 'SVC' in name(model):\n",
        "                \n",
        "#                 #move data to GPU\n",
        "#                 X_train = cp.asarray(X_train)\n",
        "#                 y_train = cp.asarray(y_train)\n",
        "#                 X_test =  cp.asarray(X_test)\n",
        "#                 y_test = cp.asarray(y_test)\n",
        "        \n",
        "                model.fit(X_train, y_train)\n",
        "                preds = model.predict(X_test)                \n",
        "                probs = np.add(probs, OneHotEncoder(preds))\n",
        "                preds_train = model.predict(X_train)\n",
        "                \n",
        "                # SVM은 predict_proba가 없어서 merged score update가 안됨.\n",
        "                # SVM은 안된다...?\n",
        "                \n",
        "            # Multinomial Naive Bayes Classifier\n",
        "            else:\n",
        "                model.fit(X_train, y_train)\n",
        "                preds = model.predict(X_test) \n",
        "                probs = np.add(probs, model.predict_proba(X_test))\n",
        "                \n",
        "            # f1-score\n",
        "            train_score = f1_score(y_train, preds_train, average='weighted')\n",
        "            test_score = f1_score(y_test, preds, average='weighted')\n",
        "            dict_score[name(model)] += test_score\n",
        "            print(f'''{name(model)}\n",
        "            train f1-score:{train_score}\n",
        "            test  f1-score:{test_score}\n",
        "            ''')\n",
        "            \n",
        "            \n",
        "            \"\"\"\n",
        "            Confusion matrix 그리는 부분\n",
        "            \"\"\"\n",
        "#             if confusion == True:\n",
        "#                 # Compute confusion matrix\n",
        "#                 cnf_matrix = confusion_matrix(y_test, preds)\n",
        "#                 np.set_printoptions(precision=2)\n",
        "#                 # Plot confusion matrix\n",
        "#                 plt.figure(fig_i)\n",
        "#                 fig_i += 1\n",
        "#                 plot_confusion_matrix(cnf_matrix, classes=lab_encoder.inverse_transform(range(16)), normalize=True,\n",
        "#                                                           title=('Confusion matrix %s' % name(model)))\n",
        "        \n",
        "        # voting result: sum of class probabilites of each classifier \n",
        "        merged_preds = [np.argmax(prob) for prob in probs]\n",
        "        score = f1_score(y_test, merged_preds, average='weighted')\n",
        "        print(f'Merged score: {score}\\n')\n",
        "        dict_score['merged'] += score\n",
        "        \n",
        "    return {k: v / nsplits for k, v in dict_score.items()}"
      ]
    },
    {
      "cell_type": "code",
      "execution_count": 119,
      "metadata": {
        "colab": {
          "base_uri": "https://localhost:8080/",
          "height": 36
        },
        "id": "zoU-PooSlAN0",
        "outputId": "74084280-fd62-4912-d324-f76041afe1ed"
      },
      "outputs": [
        {
          "output_type": "execute_result",
          "data": {
            "text/plain": [
              "'LinearSVC'"
            ],
            "application/vnd.google.colaboratory.intrinsic+json": {
              "type": "string"
            }
          },
          "metadata": {},
          "execution_count": 119
        }
      ],
      "source": [
        "name(lsvc)"
      ]
    },
    {
      "cell_type": "code",
      "execution_count": 120,
      "metadata": {
        "colab": {
          "base_uri": "https://localhost:8080/"
        },
        "id": "Zl6hOubUlBt3",
        "outputId": "abbef639-65c1-48f0-a997-905aa2b8b32f"
      },
      "outputs": [
        {
          "output_type": "stream",
          "name": "stdout",
          "text": [
            "LinearSVC\n",
            "            train f1-score:0.9952411941620245\n",
            "            test  f1-score:0.5416764813403824\n",
            "            \n",
            "MultinomialNB\n",
            "            train f1-score:0.9952411941620245\n",
            "            test  f1-score:0.39188913351576354\n",
            "            \n",
            "[0]\ttrain-merror:0.399683\ttest-merror:0.496454\n",
            "Multiple eval metrics have been passed: 'test-merror' will be used for early stopping.\n",
            "\n",
            "Will train until test-merror hasn't improved in 6 rounds.\n",
            "[1]\ttrain-merror:0.333069\ttest-merror:0.460993\n",
            "[2]\ttrain-merror:0.299762\ttest-merror:0.411348\n",
            "[3]\ttrain-merror:0.272006\ttest-merror:0.411348\n",
            "[4]\ttrain-merror:0.250595\ttest-merror:0.453901\n",
            "[5]\ttrain-merror:0.229976\ttest-merror:0.460993\n",
            "[6]\ttrain-merror:0.214909\ttest-merror:0.439716\n",
            "[7]\ttrain-merror:0.191911\ttest-merror:0.432624\n",
            "[8]\ttrain-merror:0.162569\ttest-merror:0.425532\n",
            "Stopping. Best iteration:\n",
            "[2]\ttrain-merror:0.299762\ttest-merror:0.411348\n",
            "\n",
            "XGBClassifier\n",
            "            train f1-score:0.9952411941620245\n",
            "            test  f1-score:0.5554847629151035\n",
            "            \n",
            "Merged score: 0.5416764813403824\n",
            "\n",
            "LinearSVC\n",
            "            train f1-score:0.9968241303124459\n",
            "            test  f1-score:0.6162275181246171\n",
            "            \n",
            "MultinomialNB\n",
            "            train f1-score:0.9968241303124459\n",
            "            test  f1-score:0.4047167417915314\n",
            "            \n",
            "[0]\ttrain-merror:0.409199\ttest-merror:0.432624\n",
            "Multiple eval metrics have been passed: 'test-merror' will be used for early stopping.\n",
            "\n",
            "Will train until test-merror hasn't improved in 6 rounds.\n",
            "[1]\ttrain-merror:0.360032\ttest-merror:0.446809\n",
            "[2]\ttrain-merror:0.314829\ttest-merror:0.439716\n",
            "[3]\ttrain-merror:0.28073\ttest-merror:0.397163\n",
            "[4]\ttrain-merror:0.264076\ttest-merror:0.425532\n",
            "[5]\ttrain-merror:0.235527\ttest-merror:0.432624\n",
            "[6]\ttrain-merror:0.222839\ttest-merror:0.41844\n",
            "[7]\ttrain-merror:0.197462\ttest-merror:0.397163\n",
            "[8]\ttrain-merror:0.171293\ttest-merror:0.411348\n",
            "[9]\ttrain-merror:0.158604\ttest-merror:0.41844\n",
            "Stopping. Best iteration:\n",
            "[3]\ttrain-merror:0.28073\ttest-merror:0.397163\n",
            "\n",
            "XGBClassifier\n",
            "            train f1-score:0.9968241303124459\n",
            "            test  f1-score:0.571438184474517\n",
            "            \n",
            "Merged score: 0.6162275181246171\n",
            "\n",
            "LinearSVC\n",
            "            train f1-score:0.9944479469086456\n",
            "            test  f1-score:0.6005835596028398\n",
            "            \n",
            "MultinomialNB\n",
            "            train f1-score:0.9944479469086456\n",
            "            test  f1-score:0.4591431538847409\n",
            "            \n",
            "[0]\ttrain-merror:0.409199\ttest-merror:0.397163\n",
            "Multiple eval metrics have been passed: 'test-merror' will be used for early stopping.\n",
            "\n",
            "Will train until test-merror hasn't improved in 6 rounds.\n",
            "[1]\ttrain-merror:0.348136\ttest-merror:0.397163\n",
            "[2]\ttrain-merror:0.320381\ttest-merror:0.375887\n",
            "[3]\ttrain-merror:0.283109\ttest-merror:0.404255\n",
            "[4]\ttrain-merror:0.258525\ttest-merror:0.382979\n",
            "[5]\ttrain-merror:0.237113\ttest-merror:0.397163\n",
            "[6]\ttrain-merror:0.213323\ttest-merror:0.382979\n",
            "[7]\ttrain-merror:0.183188\ttest-merror:0.375887\n",
            "[8]\ttrain-merror:0.163362\ttest-merror:0.375887\n",
            "Stopping. Best iteration:\n",
            "[2]\ttrain-merror:0.320381\ttest-merror:0.375887\n",
            "\n",
            "XGBClassifier\n",
            "            train f1-score:0.9944479469086456\n",
            "            test  f1-score:0.6187630442110441\n",
            "            \n",
            "Merged score: 0.6005835596028398\n",
            "\n",
            "LinearSVC\n",
            "            train f1-score:0.9960324469544841\n",
            "            test  f1-score:0.5330368176325805\n",
            "            \n",
            "MultinomialNB\n",
            "            train f1-score:0.9960324469544841\n",
            "            test  f1-score:0.34836607534387654\n",
            "            \n",
            "[0]\ttrain-merror:0.401269\ttest-merror:0.546099\n",
            "Multiple eval metrics have been passed: 'test-merror' will be used for early stopping.\n",
            "\n",
            "Will train until test-merror hasn't improved in 6 rounds.\n",
            "[1]\ttrain-merror:0.340999\ttest-merror:0.503546\n",
            "[2]\ttrain-merror:0.297383\ttest-merror:0.489362\n",
            "[3]\ttrain-merror:0.358446\ttest-merror:0.553191\n",
            "[4]\ttrain-merror:0.292625\ttest-merror:0.51773\n",
            "[5]\ttrain-merror:0.249802\ttest-merror:0.546099\n",
            "[6]\ttrain-merror:0.222046\ttest-merror:0.51773\n",
            "[7]\ttrain-merror:0.195083\ttest-merror:0.51773\n",
            "[8]\ttrain-merror:0.1705\ttest-merror:0.524823\n",
            "Stopping. Best iteration:\n",
            "[2]\ttrain-merror:0.297383\ttest-merror:0.489362\n",
            "\n",
            "XGBClassifier\n",
            "            train f1-score:0.9960324469544841\n",
            "            test  f1-score:0.47063101354007536\n",
            "            \n",
            "Merged score: 0.5330368176325805\n",
            "\n",
            "LinearSVC\n",
            "            train f1-score:0.9960343255185304\n",
            "            test  f1-score:0.5463572797520737\n",
            "            \n",
            "MultinomialNB\n",
            "            train f1-score:0.9960343255185304\n",
            "            test  f1-score:0.39990032955882715\n",
            "            \n",
            "[0]\ttrain-merror:0.417922\ttest-merror:0.567376\n",
            "Multiple eval metrics have been passed: 'test-merror' will be used for early stopping.\n",
            "\n",
            "Will train until test-merror hasn't improved in 6 rounds.\n",
            "[1]\ttrain-merror:0.347343\ttest-merror:0.574468\n",
            "[2]\ttrain-merror:0.317209\ttest-merror:0.510638\n",
            "[3]\ttrain-merror:0.279144\ttest-merror:0.51773\n",
            "[4]\ttrain-merror:0.251388\ttest-merror:0.524823\n",
            "[5]\ttrain-merror:0.229183\ttest-merror:0.510638\n",
            "[6]\ttrain-merror:0.205393\ttest-merror:0.460993\n",
            "[7]\ttrain-merror:0.183188\ttest-merror:0.475177\n",
            "[8]\ttrain-merror:0.172086\ttest-merror:0.468085\n",
            "[9]\ttrain-merror:0.155432\ttest-merror:0.453901\n",
            "[10]\ttrain-merror:0.130849\ttest-merror:0.460993\n",
            "[11]\ttrain-merror:0.11023\ttest-merror:0.468085\n",
            "[12]\ttrain-merror:0.103886\ttest-merror:0.468085\n",
            "[13]\ttrain-merror:0.089611\ttest-merror:0.489362\n",
            "[14]\ttrain-merror:0.072958\ttest-merror:0.475177\n",
            "[15]\ttrain-merror:0.0682\ttest-merror:0.468085\n",
            "Stopping. Best iteration:\n",
            "[9]\ttrain-merror:0.155432\ttest-merror:0.453901\n",
            "\n",
            "XGBClassifier\n",
            "            train f1-score:0.9960343255185304\n",
            "            test  f1-score:0.5257414601344512\n",
            "            \n",
            "Merged score: 0.5463572797520737\n",
            "\n",
            "LinearSVC\n",
            "            train f1-score:0.994446972831735\n",
            "            test  f1-score:0.5092113795851639\n",
            "            \n",
            "MultinomialNB\n",
            "            train f1-score:0.994446972831735\n",
            "            test  f1-score:0.4195074331923554\n",
            "            \n",
            "[0]\ttrain-merror:0.39096\ttest-merror:0.553191\n",
            "Multiple eval metrics have been passed: 'test-merror' will be used for early stopping.\n",
            "\n",
            "Will train until test-merror hasn't improved in 6 rounds.\n",
            "[1]\ttrain-merror:0.334655\ttest-merror:0.524823\n",
            "[2]\ttrain-merror:0.301348\ttest-merror:0.51773\n",
            "[3]\ttrain-merror:0.271213\ttest-merror:0.531915\n",
            "[4]\ttrain-merror:0.242665\ttest-merror:0.510638\n",
            "[5]\ttrain-merror:0.227597\ttest-merror:0.524823\n",
            "[6]\ttrain-merror:0.199048\ttest-merror:0.51773\n",
            "[7]\ttrain-merror:0.327518\ttest-merror:0.560284\n",
            "[8]\ttrain-merror:0.206186\ttest-merror:0.510638\n",
            "[9]\ttrain-merror:0.17843\ttest-merror:0.496454\n",
            "[10]\ttrain-merror:0.139572\ttest-merror:0.503546\n",
            "[11]\ttrain-merror:0.119746\ttest-merror:0.489362\n",
            "[12]\ttrain-merror:0.106265\ttest-merror:0.496454\n",
            "[13]\ttrain-merror:0.09437\ttest-merror:0.496454\n",
            "[14]\ttrain-merror:0.083267\ttest-merror:0.475177\n",
            "[15]\ttrain-merror:0.077716\ttest-merror:0.496454\n",
            "[16]\ttrain-merror:0.067407\ttest-merror:0.496454\n",
            "[17]\ttrain-merror:0.064235\ttest-merror:0.503546\n",
            "[18]\ttrain-merror:0.059477\ttest-merror:0.496454\n",
            "[19]\ttrain-merror:0.055511\ttest-merror:0.496454\n",
            "[20]\ttrain-merror:0.046788\ttest-merror:0.496454\n",
            "Stopping. Best iteration:\n",
            "[14]\ttrain-merror:0.083267\ttest-merror:0.475177\n",
            "\n",
            "XGBClassifier\n",
            "            train f1-score:0.994446972831735\n",
            "            test  f1-score:0.5077043950128727\n",
            "            \n",
            "Merged score: 0.5092113795851639\n",
            "\n",
            "LinearSVC\n",
            "            train f1-score:0.9960318877198399\n",
            "            test  f1-score:0.6310011330993366\n",
            "            \n",
            "MultinomialNB\n",
            "            train f1-score:0.9960318877198399\n",
            "            test  f1-score:0.48790893786840595\n",
            "            \n",
            "[0]\ttrain-merror:0.405234\ttest-merror:0.432624\n",
            "Multiple eval metrics have been passed: 'test-merror' will be used for early stopping.\n",
            "\n",
            "Will train until test-merror hasn't improved in 6 rounds.\n",
            "[1]\ttrain-merror:0.356067\ttest-merror:0.390071\n",
            "[2]\ttrain-merror:0.321967\ttest-merror:0.397163\n",
            "[3]\ttrain-merror:0.291832\ttest-merror:0.432624\n",
            "[4]\ttrain-merror:0.285488\ttest-merror:0.404255\n",
            "[5]\ttrain-merror:0.243458\ttest-merror:0.35461\n",
            "[6]\ttrain-merror:0.207772\ttest-merror:0.368794\n",
            "[7]\ttrain-merror:0.192704\ttest-merror:0.375887\n",
            "[8]\ttrain-merror:0.187153\ttest-merror:0.340426\n",
            "[9]\ttrain-merror:0.158604\ttest-merror:0.361702\n",
            "[10]\ttrain-merror:0.135607\ttest-merror:0.347518\n",
            "[11]\ttrain-merror:0.114988\ttest-merror:0.361702\n",
            "[12]\ttrain-merror:0.105472\ttest-merror:0.333333\n",
            "[13]\ttrain-merror:0.099128\ttest-merror:0.340426\n",
            "[14]\ttrain-merror:0.083267\ttest-merror:0.35461\n",
            "[15]\ttrain-merror:0.077716\ttest-merror:0.361702\n",
            "[16]\ttrain-merror:0.068993\ttest-merror:0.361702\n",
            "[17]\ttrain-merror:0.065821\ttest-merror:0.35461\n",
            "[18]\ttrain-merror:0.064235\ttest-merror:0.35461\n",
            "Stopping. Best iteration:\n",
            "[12]\ttrain-merror:0.105472\ttest-merror:0.333333\n",
            "\n",
            "XGBClassifier\n",
            "            train f1-score:0.9960318877198399\n",
            "            test  f1-score:0.6281254345709915\n",
            "            \n",
            "Merged score: 0.6310011330993366\n",
            "\n",
            "LinearSVC\n",
            "            train f1-score:0.9976187046604037\n",
            "            test  f1-score:0.47110479326990434\n",
            "            \n",
            "MultinomialNB\n",
            "            train f1-score:0.9976187046604037\n",
            "            test  f1-score:0.33538500310800096\n",
            "            \n",
            "[0]\ttrain-merror:0.394132\ttest-merror:0.503546\n",
            "Multiple eval metrics have been passed: 'test-merror' will be used for early stopping.\n",
            "\n",
            "Will train until test-merror hasn't improved in 6 rounds.\n",
            "[1]\ttrain-merror:0.334655\ttest-merror:0.510638\n",
            "[2]\ttrain-merror:0.306899\ttest-merror:0.510638\n",
            "[3]\ttrain-merror:0.278351\ttest-merror:0.510638\n",
            "[4]\ttrain-merror:0.249009\ttest-merror:0.489362\n",
            "[5]\ttrain-merror:0.218874\ttest-merror:0.475177\n",
            "[6]\ttrain-merror:0.2046\ttest-merror:0.460993\n",
            "[7]\ttrain-merror:0.181602\ttest-merror:0.475177\n",
            "[8]\ttrain-merror:0.169707\ttest-merror:0.468085\n",
            "[9]\ttrain-merror:0.148295\ttest-merror:0.475177\n",
            "[10]\ttrain-merror:0.134021\ttest-merror:0.468085\n",
            "[11]\ttrain-merror:0.118953\ttest-merror:0.453901\n",
            "[12]\ttrain-merror:0.101507\ttest-merror:0.460993\n",
            "[13]\ttrain-merror:0.09199\ttest-merror:0.446809\n",
            "[14]\ttrain-merror:0.080095\ttest-merror:0.468085\n",
            "[15]\ttrain-merror:0.065028\ttest-merror:0.453901\n",
            "[16]\ttrain-merror:0.057098\ttest-merror:0.446809\n",
            "[17]\ttrain-merror:0.048374\ttest-merror:0.446809\n",
            "[18]\ttrain-merror:0.046788\ttest-merror:0.432624\n",
            "[19]\ttrain-merror:0.045202\ttest-merror:0.432624\n",
            "[20]\ttrain-merror:0.043616\ttest-merror:0.439716\n",
            "[21]\ttrain-merror:0.036479\ttest-merror:0.425532\n",
            "[22]\ttrain-merror:0.037272\ttest-merror:0.453901\n",
            "[23]\ttrain-merror:0.033307\ttest-merror:0.468085\n",
            "[24]\ttrain-merror:0.032514\ttest-merror:0.453901\n",
            "[25]\ttrain-merror:0.030135\ttest-merror:0.446809\n",
            "[26]\ttrain-merror:0.029342\ttest-merror:0.446809\n",
            "[27]\ttrain-merror:0.025377\ttest-merror:0.446809\n",
            "Stopping. Best iteration:\n",
            "[21]\ttrain-merror:0.036479\ttest-merror:0.425532\n",
            "\n",
            "XGBClassifier\n",
            "            train f1-score:0.9976187046604037\n",
            "            test  f1-score:0.5474009596356043\n",
            "            \n",
            "Merged score: 0.47110479326990434\n",
            "\n",
            "LinearSVC\n",
            "            train f1-score:0.9968258382872247\n",
            "            test  f1-score:0.5313663888298849\n",
            "            \n",
            "MultinomialNB\n",
            "            train f1-score:0.9968258382872247\n",
            "            test  f1-score:0.390283550639869\n",
            "            \n",
            "[0]\ttrain-merror:0.401269\ttest-merror:0.531915\n",
            "Multiple eval metrics have been passed: 'test-merror' will be used for early stopping.\n",
            "\n",
            "Will train until test-merror hasn't improved in 6 rounds.\n",
            "[1]\ttrain-merror:0.334655\ttest-merror:0.510638\n",
            "[2]\ttrain-merror:0.297383\ttest-merror:0.503546\n",
            "[3]\ttrain-merror:0.272799\ttest-merror:0.496454\n",
            "[4]\ttrain-merror:0.245837\ttest-merror:0.453901\n",
            "[5]\ttrain-merror:0.229976\ttest-merror:0.489362\n",
            "[6]\ttrain-merror:0.209358\ttest-merror:0.503546\n",
            "[7]\ttrain-merror:0.193497\ttest-merror:0.496454\n",
            "[8]\ttrain-merror:0.169707\ttest-merror:0.482269\n",
            "[9]\ttrain-merror:0.158604\ttest-merror:0.496454\n",
            "[10]\ttrain-merror:0.142744\ttest-merror:0.496454\n",
            "Stopping. Best iteration:\n",
            "[4]\ttrain-merror:0.245837\ttest-merror:0.453901\n",
            "\n",
            "XGBClassifier\n",
            "            train f1-score:0.9968258382872247\n",
            "            test  f1-score:0.4973318525446185\n",
            "            \n",
            "Merged score: 0.5313663888298849\n",
            "\n",
            "LinearSVC\n",
            "            train f1-score:0.9960333459647197\n",
            "            test  f1-score:0.49901858967591545\n",
            "            \n",
            "MultinomialNB\n",
            "            train f1-score:0.9960333459647197\n",
            "            test  f1-score:0.4090315270650924\n",
            "            \n",
            "[0]\ttrain-merror:0.389374\ttest-merror:0.531915\n",
            "Multiple eval metrics have been passed: 'test-merror' will be used for early stopping.\n",
            "\n",
            "Will train until test-merror hasn't improved in 6 rounds.\n",
            "[1]\ttrain-merror:0.329897\ttest-merror:0.510638\n",
            "[2]\ttrain-merror:0.313243\ttest-merror:0.503546\n",
            "[3]\ttrain-merror:0.269627\ttest-merror:0.531915\n",
            "[4]\ttrain-merror:0.252974\ttest-merror:0.510638\n",
            "[5]\ttrain-merror:0.224425\ttest-merror:0.51773\n",
            "[6]\ttrain-merror:0.203013\ttest-merror:0.510638\n",
            "[7]\ttrain-merror:0.179223\ttest-merror:0.482269\n",
            "[8]\ttrain-merror:0.162569\ttest-merror:0.460993\n",
            "[9]\ttrain-merror:0.138779\ttest-merror:0.453901\n",
            "[10]\ttrain-merror:0.129262\ttest-merror:0.453901\n",
            "[11]\ttrain-merror:0.112609\ttest-merror:0.432624\n",
            "[12]\ttrain-merror:0.097542\ttest-merror:0.432624\n",
            "[13]\ttrain-merror:0.086439\ttest-merror:0.41844\n",
            "[14]\ttrain-merror:0.073751\ttest-merror:0.411348\n",
            "[15]\ttrain-merror:0.067407\ttest-merror:0.41844\n",
            "[16]\ttrain-merror:0.054718\ttest-merror:0.432624\n",
            "[17]\ttrain-merror:0.050753\ttest-merror:0.425532\n",
            "[18]\ttrain-merror:0.04996\ttest-merror:0.41844\n",
            "[19]\ttrain-merror:0.044409\ttest-merror:0.404255\n",
            "[20]\ttrain-merror:0.04203\ttest-merror:0.404255\n",
            "[21]\ttrain-merror:0.041237\ttest-merror:0.41844\n",
            "[22]\ttrain-merror:0.034893\ttest-merror:0.425532\n",
            "[23]\ttrain-merror:0.0341\ttest-merror:0.411348\n",
            "[24]\ttrain-merror:0.033307\ttest-merror:0.41844\n",
            "[25]\ttrain-merror:0.028549\ttest-merror:0.411348\n",
            "Stopping. Best iteration:\n",
            "[19]\ttrain-merror:0.044409\ttest-merror:0.404255\n",
            "\n",
            "XGBClassifier\n",
            "            train f1-score:0.9960333459647197\n",
            "            test  f1-score:0.5699834319515672\n",
            "            \n",
            "Merged score: 0.49901858967591545\n",
            "\n"
          ]
        }
      ],
      "source": [
        "results = train_stratified(models=[lsvc, mlNB, xgb_class], X=list_posts, y=list_personality, tf_idf=True, nsplits=10, confusion=False)"
      ]
    },
    {
      "cell_type": "markdown",
      "metadata": {
        "id": "N_Yn4yfRlMkP"
      },
      "source": [
        "# Compare multinomial naive bayes, xgb and their voting predictions"
      ]
    },
    {
      "cell_type": "code",
      "execution_count": 121,
      "metadata": {
        "colab": {
          "base_uri": "https://localhost:8080/"
        },
        "id": "BTk0B_0RlF-C",
        "outputId": "679aa0b6-dd81-41f8-9831-da979a9d27fd"
      },
      "outputs": [
        {
          "output_type": "execute_result",
          "data": {
            "text/plain": [
              "{'merged': 0.5479583940912699,\n",
              " 'LinearSVC': 0.5479583940912699,\n",
              " 'MultinomialNB': 0.4046131885968463,\n",
              " 'XGBClassifier': 0.5492604538990846}"
            ]
          },
          "metadata": {},
          "execution_count": 121
        }
      ],
      "source": [
        "results"
      ]
    },
    {
      "cell_type": "code",
      "execution_count": 122,
      "metadata": {
        "colab": {
          "base_uri": "https://localhost:8080/"
        },
        "id": "s9vRAu9alQk-",
        "outputId": "8757101f-2156-432c-af52-a2df2b1e7d4f"
      },
      "outputs": [
        {
          "output_type": "stream",
          "name": "stdout",
          "text": [
            "LinearSVC\n",
            "            train f1-score:0.9992034365573033\n",
            "            test  f1-score:0.447801207215798\n",
            "            \n",
            "MultinomialNB\n",
            "            train f1-score:0.9992034365573033\n",
            "            test  f1-score:0.5656590275324219\n",
            "            \n",
            "[0]\ttrain-merror:0.425853\ttest-merror:0.404255\n",
            "Multiple eval metrics have been passed: 'test-merror' will be used for early stopping.\n",
            "\n",
            "Will train until test-merror hasn't improved in 6 rounds.\n",
            "[1]\ttrain-merror:0.371927\ttest-merror:0.390071\n",
            "[2]\ttrain-merror:0.348136\ttest-merror:0.397163\n",
            "[3]\ttrain-merror:0.324346\ttest-merror:0.382979\n",
            "[4]\ttrain-merror:0.300555\ttest-merror:0.382979\n",
            "[5]\ttrain-merror:0.277557\ttest-merror:0.375887\n",
            "[6]\ttrain-merror:0.260111\ttest-merror:0.382979\n",
            "[7]\ttrain-merror:0.24663\ttest-merror:0.368794\n",
            "[8]\ttrain-merror:0.22046\ttest-merror:0.333333\n",
            "[9]\ttrain-merror:0.211737\ttest-merror:0.368794\n",
            "[10]\ttrain-merror:0.191118\ttest-merror:0.375887\n",
            "[11]\ttrain-merror:0.176844\ttest-merror:0.361702\n",
            "[12]\ttrain-merror:0.165741\ttest-merror:0.333333\n",
            "[13]\ttrain-merror:0.195876\ttest-merror:0.35461\n",
            "[14]\ttrain-merror:0.166534\ttest-merror:0.326241\n",
            "[15]\ttrain-merror:0.147502\ttest-merror:0.35461\n",
            "[16]\ttrain-merror:0.137193\ttest-merror:0.35461\n",
            "[17]\ttrain-merror:0.256939\ttest-merror:0.453901\n",
            "[18]\ttrain-merror:0.203013\ttest-merror:0.397163\n",
            "[19]\ttrain-merror:0.357653\ttest-merror:0.539007\n",
            "[20]\ttrain-merror:0.222839\ttest-merror:0.460993\n",
            "Stopping. Best iteration:\n",
            "[14]\ttrain-merror:0.166534\ttest-merror:0.326241\n",
            "\n",
            "XGBClassifier\n",
            "            train f1-score:0.9992034365573033\n",
            "            test  f1-score:0.5602344484763297\n",
            "            \n",
            "Merged score: 0.587551969410872\n",
            "\n",
            "LinearSVC\n",
            "            train f1-score:0.9992034365573033\n",
            "            test  f1-score:0.3480675667952098\n",
            "            \n",
            "MultinomialNB\n",
            "            train f1-score:0.9992034365573033\n",
            "            test  f1-score:0.5197750178153314\n",
            "            \n",
            "[0]\ttrain-merror:0.428232\ttest-merror:0.567376\n",
            "Multiple eval metrics have been passed: 'test-merror' will be used for early stopping.\n",
            "\n",
            "Will train until test-merror hasn't improved in 6 rounds.\n",
            "[1]\ttrain-merror:0.362411\ttest-merror:0.496454\n",
            "[2]\ttrain-merror:0.329104\ttest-merror:0.51773\n",
            "[3]\ttrain-merror:0.305313\ttest-merror:0.510638\n",
            "[4]\ttrain-merror:0.284695\ttest-merror:0.489362\n",
            "[5]\ttrain-merror:0.267248\ttest-merror:0.489362\n",
            "[6]\ttrain-merror:0.251388\ttest-merror:0.468085\n",
            "[7]\ttrain-merror:0.323553\ttest-merror:0.574468\n",
            "[8]\ttrain-merror:0.325932\ttest-merror:0.567376\n",
            "[9]\ttrain-merror:0.355274\ttest-merror:0.595745\n",
            "[10]\ttrain-merror:0.295797\ttest-merror:0.588652\n",
            "[11]\ttrain-merror:0.566217\ttest-merror:0.765957\n",
            "[12]\ttrain-merror:0.76368\ttest-merror:0.87234\n",
            "Stopping. Best iteration:\n",
            "[6]\ttrain-merror:0.251388\ttest-merror:0.468085\n",
            "\n",
            "XGBClassifier\n",
            "            train f1-score:0.9992034365573033\n",
            "            test  f1-score:0.10123525017142038\n",
            "            \n",
            "Merged score: 0.3928549959308516\n",
            "\n",
            "LinearSVC\n",
            "            train f1-score:1.0\n",
            "            test  f1-score:0.3953243197122608\n",
            "            \n",
            "MultinomialNB\n",
            "            train f1-score:1.0\n",
            "            test  f1-score:0.5155845502363545\n",
            "            \n",
            "[0]\ttrain-merror:0.433783\ttest-merror:0.453901\n",
            "Multiple eval metrics have been passed: 'test-merror' will be used for early stopping.\n",
            "\n",
            "Will train until test-merror hasn't improved in 6 rounds.\n",
            "[1]\ttrain-merror:0.375099\ttest-merror:0.446809\n",
            "[2]\ttrain-merror:0.34655\ttest-merror:0.439716\n",
            "[3]\ttrain-merror:0.321174\ttest-merror:0.411348\n",
            "[4]\ttrain-merror:0.302141\ttest-merror:0.425532\n",
            "[5]\ttrain-merror:0.279937\ttest-merror:0.432624\n",
            "[6]\ttrain-merror:0.256939\ttest-merror:0.439716\n",
            "[7]\ttrain-merror:0.237113\ttest-merror:0.446809\n",
            "[8]\ttrain-merror:0.219667\ttest-merror:0.432624\n",
            "[9]\ttrain-merror:0.192704\ttest-merror:0.411348\n",
            "Stopping. Best iteration:\n",
            "[3]\ttrain-merror:0.321174\ttest-merror:0.411348\n",
            "\n",
            "XGBClassifier\n",
            "            train f1-score:1.0\n",
            "            test  f1-score:0.5841587969108986\n",
            "            \n",
            "Merged score: 0.5233322852251686\n",
            "\n",
            "LinearSVC\n",
            "            train f1-score:1.0\n",
            "            test  f1-score:0.37845177523933443\n",
            "            \n",
            "MultinomialNB\n",
            "            train f1-score:1.0\n",
            "            test  f1-score:0.52700631635887\n",
            "            \n",
            "[0]\ttrain-merror:0.439334\ttest-merror:0.468085\n",
            "Multiple eval metrics have been passed: 'test-merror' will be used for early stopping.\n",
            "\n",
            "Will train until test-merror hasn't improved in 6 rounds.\n",
            "[1]\ttrain-merror:0.373513\ttest-merror:0.425532\n",
            "[2]\ttrain-merror:0.340999\ttest-merror:0.446809\n",
            "[3]\ttrain-merror:0.325932\ttest-merror:0.453901\n",
            "[4]\ttrain-merror:0.297383\ttest-merror:0.446809\n",
            "[5]\ttrain-merror:0.272006\ttest-merror:0.446809\n",
            "[6]\ttrain-merror:0.249802\ttest-merror:0.446809\n",
            "[7]\ttrain-merror:0.23632\ttest-merror:0.446809\n",
            "Stopping. Best iteration:\n",
            "[1]\ttrain-merror:0.373513\ttest-merror:0.425532\n",
            "\n",
            "XGBClassifier\n",
            "            train f1-score:1.0\n",
            "            test  f1-score:0.548808395253451\n",
            "            \n",
            "Merged score: 0.5525797631620097\n",
            "\n",
            "LinearSVC\n",
            "            train f1-score:0.999210305085417\n",
            "            test  f1-score:0.41388517489442395\n",
            "            \n",
            "MultinomialNB\n",
            "            train f1-score:0.999210305085417\n",
            "            test  f1-score:0.5505899590957286\n",
            "            \n",
            "[0]\ttrain-merror:0.44092\ttest-merror:0.446809\n",
            "Multiple eval metrics have been passed: 'test-merror' will be used for early stopping.\n",
            "\n",
            "Will train until test-merror hasn't improved in 6 rounds.\n",
            "[1]\ttrain-merror:0.389374\ttest-merror:0.411348\n",
            "[2]\ttrain-merror:0.632831\ttest-merror:0.64539\n",
            "[3]\ttrain-merror:0.68755\ttest-merror:0.687943\n",
            "[4]\ttrain-merror:0.649485\ttest-merror:0.631206\n",
            "[5]\ttrain-merror:0.630452\ttest-merror:0.666667\n",
            "[6]\ttrain-merror:0.480571\ttest-merror:0.574468\n",
            "[7]\ttrain-merror:0.399683\ttest-merror:0.531915\n",
            "Stopping. Best iteration:\n",
            "[1]\ttrain-merror:0.389374\ttest-merror:0.411348\n",
            "\n",
            "XGBClassifier\n",
            "            train f1-score:0.999210305085417\n",
            "            test  f1-score:0.44872608216579846\n",
            "            \n",
            "Merged score: 0.5639562534796233\n",
            "\n",
            "LinearSVC\n",
            "            train f1-score:1.0\n",
            "            test  f1-score:0.37420511153204766\n",
            "            \n",
            "MultinomialNB\n",
            "            train f1-score:1.0\n",
            "            test  f1-score:0.5379197542911148\n",
            "            \n",
            "[0]\ttrain-merror:0.428232\ttest-merror:0.531915\n",
            "Multiple eval metrics have been passed: 'test-merror' will be used for early stopping.\n",
            "\n",
            "Will train until test-merror hasn't improved in 6 rounds.\n",
            "[1]\ttrain-merror:0.383822\ttest-merror:0.503546\n",
            "[2]\ttrain-merror:0.353688\ttest-merror:0.496454\n",
            "[3]\ttrain-merror:0.329104\ttest-merror:0.482269\n",
            "[4]\ttrain-merror:0.305313\ttest-merror:0.475177\n",
            "[5]\ttrain-merror:0.284695\ttest-merror:0.460993\n",
            "[6]\ttrain-merror:0.271213\ttest-merror:0.475177\n",
            "[7]\ttrain-merror:0.244251\ttest-merror:0.468085\n",
            "[8]\ttrain-merror:0.239492\ttest-merror:0.453901\n",
            "[9]\ttrain-merror:0.214909\ttest-merror:0.460993\n",
            "[10]\ttrain-merror:0.203013\ttest-merror:0.446809\n",
            "[11]\ttrain-merror:0.181602\ttest-merror:0.446809\n",
            "[12]\ttrain-merror:0.168121\ttest-merror:0.453901\n",
            "[13]\ttrain-merror:0.155432\ttest-merror:0.460993\n",
            "[14]\ttrain-merror:0.141951\ttest-merror:0.446809\n",
            "[15]\ttrain-merror:0.126883\ttest-merror:0.446809\n",
            "[16]\ttrain-merror:0.119746\ttest-merror:0.453901\n",
            "Stopping. Best iteration:\n",
            "[10]\ttrain-merror:0.203013\ttest-merror:0.446809\n",
            "\n",
            "XGBClassifier\n",
            "            train f1-score:1.0\n",
            "            test  f1-score:0.5375723161246734\n",
            "            \n",
            "Merged score: 0.5349257167783235\n",
            "\n",
            "LinearSVC\n",
            "            train f1-score:1.0\n",
            "            test  f1-score:0.3412444948308857\n",
            "            \n",
            "MultinomialNB\n",
            "            train f1-score:1.0\n",
            "            test  f1-score:0.5443302539607131\n",
            "            \n",
            "[0]\ttrain-merror:0.419508\ttest-merror:0.524823\n",
            "Multiple eval metrics have been passed: 'test-merror' will be used for early stopping.\n",
            "\n",
            "Will train until test-merror hasn't improved in 6 rounds.\n",
            "[1]\ttrain-merror:0.379064\ttest-merror:0.510638\n",
            "[2]\ttrain-merror:0.33862\ttest-merror:0.496454\n",
            "[3]\ttrain-merror:0.314829\ttest-merror:0.510638\n",
            "[4]\ttrain-merror:0.291832\ttest-merror:0.51773\n",
            "[5]\ttrain-merror:0.260904\ttest-merror:0.489362\n",
            "[6]\ttrain-merror:0.255353\ttest-merror:0.503546\n",
            "[7]\ttrain-merror:0.237906\ttest-merror:0.510638\n",
            "[8]\ttrain-merror:0.225218\ttest-merror:0.489362\n",
            "[9]\ttrain-merror:0.323553\ttest-merror:0.524823\n",
            "[10]\ttrain-merror:0.587629\ttest-merror:0.730496\n",
            "[11]\ttrain-merror:0.340206\ttest-merror:0.58156\n",
            "Stopping. Best iteration:\n",
            "[5]\ttrain-merror:0.260904\ttest-merror:0.489362\n",
            "\n",
            "XGBClassifier\n",
            "            train f1-score:1.0\n",
            "            test  f1-score:0.43314808206185584\n",
            "            \n",
            "Merged score: 0.500795274617816\n",
            "\n",
            "LinearSVC\n",
            "            train f1-score:1.0\n",
            "            test  f1-score:0.3552379153137498\n",
            "            \n",
            "MultinomialNB\n",
            "            train f1-score:1.0\n",
            "            test  f1-score:0.4997929071593807\n",
            "            \n",
            "[0]\ttrain-merror:0.432197\ttest-merror:0.397163\n",
            "Multiple eval metrics have been passed: 'test-merror' will be used for early stopping.\n",
            "\n",
            "Will train until test-merror hasn't improved in 6 rounds.\n",
            "[1]\ttrain-merror:0.383029\ttest-merror:0.382979\n",
            "[2]\ttrain-merror:0.348929\ttest-merror:0.382979\n",
            "[3]\ttrain-merror:0.31245\ttest-merror:0.404255\n",
            "[4]\ttrain-merror:0.294211\ttest-merror:0.382979\n",
            "[5]\ttrain-merror:0.281523\ttest-merror:0.375887\n",
            "[6]\ttrain-merror:0.255353\ttest-merror:0.390071\n",
            "[7]\ttrain-merror:0.235527\ttest-merror:0.404255\n",
            "[8]\ttrain-merror:0.214116\ttest-merror:0.390071\n",
            "[9]\ttrain-merror:0.203013\ttest-merror:0.41844\n",
            "[10]\ttrain-merror:0.191911\ttest-merror:0.404255\n",
            "[11]\ttrain-merror:0.183188\ttest-merror:0.404255\n",
            "Stopping. Best iteration:\n",
            "[5]\ttrain-merror:0.281523\ttest-merror:0.375887\n",
            "\n",
            "XGBClassifier\n",
            "            train f1-score:1.0\n",
            "            test  f1-score:0.5990617431813855\n",
            "            \n",
            "Merged score: 0.5190539704821813\n",
            "\n",
            "LinearSVC\n",
            "            train f1-score:1.0\n",
            "            test  f1-score:0.3669829492272019\n",
            "            \n",
            "MultinomialNB\n",
            "            train f1-score:1.0\n",
            "            test  f1-score:0.5560176583738646\n",
            "            \n",
            "[0]\ttrain-merror:0.442506\ttest-merror:0.425532\n",
            "Multiple eval metrics have been passed: 'test-merror' will be used for early stopping.\n",
            "\n",
            "Will train until test-merror hasn't improved in 6 rounds.\n",
            "[1]\ttrain-merror:0.385408\ttest-merror:0.41844\n",
            "[2]\ttrain-merror:0.354481\ttest-merror:0.439716\n",
            "[3]\ttrain-merror:0.321967\ttest-merror:0.375887\n",
            "[4]\ttrain-merror:0.293418\ttest-merror:0.375887\n",
            "[5]\ttrain-merror:0.413164\ttest-merror:0.475177\n",
            "[6]\ttrain-merror:0.325139\ttest-merror:0.446809\n",
            "[7]\ttrain-merror:0.56701\ttest-merror:0.680851\n",
            "[8]\ttrain-merror:0.333069\ttest-merror:0.524823\n",
            "[9]\ttrain-merror:0.256939\ttest-merror:0.453901\n",
            "Stopping. Best iteration:\n",
            "[3]\ttrain-merror:0.321967\ttest-merror:0.375887\n",
            "\n",
            "XGBClassifier\n",
            "            train f1-score:1.0\n",
            "            test  f1-score:0.5598981792484541\n",
            "            \n",
            "Merged score: 0.5847217228031607\n",
            "\n",
            "LinearSVC\n",
            "            train f1-score:1.0\n",
            "            test  f1-score:0.448691365581185\n",
            "            \n",
            "MultinomialNB\n",
            "            train f1-score:1.0\n",
            "            test  f1-score:0.5427714349509634\n",
            "            \n",
            "[0]\ttrain-merror:0.43299\ttest-merror:0.453901\n",
            "Multiple eval metrics have been passed: 'test-merror' will be used for early stopping.\n",
            "\n",
            "Will train until test-merror hasn't improved in 6 rounds.\n",
            "[1]\ttrain-merror:0.383029\ttest-merror:0.453901\n",
            "[2]\ttrain-merror:0.350515\ttest-merror:0.425532\n",
            "[3]\ttrain-merror:0.328311\ttest-merror:0.41844\n",
            "[4]\ttrain-merror:0.310864\ttest-merror:0.411348\n",
            "[5]\ttrain-merror:0.290246\ttest-merror:0.425532\n",
            "[6]\ttrain-merror:0.269627\ttest-merror:0.411348\n",
            "[7]\ttrain-merror:0.249009\ttest-merror:0.425532\n",
            "[8]\ttrain-merror:0.238699\ttest-merror:0.397163\n",
            "[9]\ttrain-merror:0.219667\ttest-merror:0.41844\n",
            "[10]\ttrain-merror:0.205393\ttest-merror:0.432624\n",
            "[11]\ttrain-merror:0.214909\ttest-merror:0.460993\n",
            "[12]\ttrain-merror:0.191911\ttest-merror:0.482269\n",
            "[13]\ttrain-merror:0.17843\ttest-merror:0.482269\n",
            "[14]\ttrain-merror:0.223632\ttest-merror:0.503546\n",
            "Stopping. Best iteration:\n",
            "[8]\ttrain-merror:0.238699\ttest-merror:0.397163\n",
            "\n",
            "XGBClassifier\n",
            "            train f1-score:1.0\n",
            "            test  f1-score:0.48566665287294336\n",
            "            \n",
            "Merged score: 0.5547749132793045\n",
            "\n"
          ]
        }
      ],
      "source": [
        "score_tfidf = pd.DataFrame(results, index=['f1 w/ tf-idf'])\n",
        "results_idf_false = train_stratified(models=[lsvc, mlNB, xgb_class], X=list_posts, y=list_personality, tf_idf=False, nsplits=10, confusion=False)"
      ]
    },
    {
      "cell_type": "code",
      "execution_count": 123,
      "metadata": {
        "colab": {
          "base_uri": "https://localhost:8080/"
        },
        "id": "JOPqDWzUlVOt",
        "outputId": "d971a71b-5470-4f8d-de9a-d3fec4481f14"
      },
      "outputs": [
        {
          "output_type": "execute_result",
          "data": {
            "text/plain": [
              "{'merged': 0.5314546865169312,\n",
              " 'LinearSVC': 0.3869891880342097,\n",
              " 'MultinomialNB': 0.5359446879774743,\n",
              " 'XGBClassifier': 0.485850994646721}"
            ]
          },
          "metadata": {},
          "execution_count": 123
        }
      ],
      "source": [
        "results_idf_false"
      ]
    },
    {
      "cell_type": "code",
      "execution_count": 124,
      "metadata": {
        "colab": {
          "base_uri": "https://localhost:8080/",
          "height": 112
        },
        "id": "NBbJIGxgliFy",
        "outputId": "c04fcc4f-54f5-4f33-8439-4a304c809958"
      },
      "outputs": [
        {
          "output_type": "display_data",
          "data": {
            "text/plain": [
              "                 merged  LinearSVC  MultinomialNB  XGBClassifier\n",
              "f1 w/ tf-idf   0.547958   0.547958       0.404613       0.549260\n",
              "f1 w/o tf-idf  0.531455   0.386989       0.535945       0.485851"
            ],
            "text/html": [
              "\n",
              "  <div id=\"df-c9d1e272-ac70-4427-94dd-d0110dd05e2d\">\n",
              "    <div class=\"colab-df-container\">\n",
              "      <div>\n",
              "<style scoped>\n",
              "    .dataframe tbody tr th:only-of-type {\n",
              "        vertical-align: middle;\n",
              "    }\n",
              "\n",
              "    .dataframe tbody tr th {\n",
              "        vertical-align: top;\n",
              "    }\n",
              "\n",
              "    .dataframe thead th {\n",
              "        text-align: right;\n",
              "    }\n",
              "</style>\n",
              "<table border=\"1\" class=\"dataframe\">\n",
              "  <thead>\n",
              "    <tr style=\"text-align: right;\">\n",
              "      <th></th>\n",
              "      <th>merged</th>\n",
              "      <th>LinearSVC</th>\n",
              "      <th>MultinomialNB</th>\n",
              "      <th>XGBClassifier</th>\n",
              "    </tr>\n",
              "  </thead>\n",
              "  <tbody>\n",
              "    <tr>\n",
              "      <th>f1 w/ tf-idf</th>\n",
              "      <td>0.547958</td>\n",
              "      <td>0.547958</td>\n",
              "      <td>0.404613</td>\n",
              "      <td>0.549260</td>\n",
              "    </tr>\n",
              "    <tr>\n",
              "      <th>f1 w/o tf-idf</th>\n",
              "      <td>0.531455</td>\n",
              "      <td>0.386989</td>\n",
              "      <td>0.535945</td>\n",
              "      <td>0.485851</td>\n",
              "    </tr>\n",
              "  </tbody>\n",
              "</table>\n",
              "</div>\n",
              "      <button class=\"colab-df-convert\" onclick=\"convertToInteractive('df-c9d1e272-ac70-4427-94dd-d0110dd05e2d')\"\n",
              "              title=\"Convert this dataframe to an interactive table.\"\n",
              "              style=\"display:none;\">\n",
              "        \n",
              "  <svg xmlns=\"http://www.w3.org/2000/svg\" height=\"24px\"viewBox=\"0 0 24 24\"\n",
              "       width=\"24px\">\n",
              "    <path d=\"M0 0h24v24H0V0z\" fill=\"none\"/>\n",
              "    <path d=\"M18.56 5.44l.94 2.06.94-2.06 2.06-.94-2.06-.94-.94-2.06-.94 2.06-2.06.94zm-11 1L8.5 8.5l.94-2.06 2.06-.94-2.06-.94L8.5 2.5l-.94 2.06-2.06.94zm10 10l.94 2.06.94-2.06 2.06-.94-2.06-.94-.94-2.06-.94 2.06-2.06.94z\"/><path d=\"M17.41 7.96l-1.37-1.37c-.4-.4-.92-.59-1.43-.59-.52 0-1.04.2-1.43.59L10.3 9.45l-7.72 7.72c-.78.78-.78 2.05 0 2.83L4 21.41c.39.39.9.59 1.41.59.51 0 1.02-.2 1.41-.59l7.78-7.78 2.81-2.81c.8-.78.8-2.07 0-2.86zM5.41 20L4 18.59l7.72-7.72 1.47 1.35L5.41 20z\"/>\n",
              "  </svg>\n",
              "      </button>\n",
              "      \n",
              "  <style>\n",
              "    .colab-df-container {\n",
              "      display:flex;\n",
              "      flex-wrap:wrap;\n",
              "      gap: 12px;\n",
              "    }\n",
              "\n",
              "    .colab-df-convert {\n",
              "      background-color: #E8F0FE;\n",
              "      border: none;\n",
              "      border-radius: 50%;\n",
              "      cursor: pointer;\n",
              "      display: none;\n",
              "      fill: #1967D2;\n",
              "      height: 32px;\n",
              "      padding: 0 0 0 0;\n",
              "      width: 32px;\n",
              "    }\n",
              "\n",
              "    .colab-df-convert:hover {\n",
              "      background-color: #E2EBFA;\n",
              "      box-shadow: 0px 1px 2px rgba(60, 64, 67, 0.3), 0px 1px 3px 1px rgba(60, 64, 67, 0.15);\n",
              "      fill: #174EA6;\n",
              "    }\n",
              "\n",
              "    [theme=dark] .colab-df-convert {\n",
              "      background-color: #3B4455;\n",
              "      fill: #D2E3FC;\n",
              "    }\n",
              "\n",
              "    [theme=dark] .colab-df-convert:hover {\n",
              "      background-color: #434B5C;\n",
              "      box-shadow: 0px 1px 3px 1px rgba(0, 0, 0, 0.15);\n",
              "      filter: drop-shadow(0px 1px 2px rgba(0, 0, 0, 0.3));\n",
              "      fill: #FFFFFF;\n",
              "    }\n",
              "  </style>\n",
              "\n",
              "      <script>\n",
              "        const buttonEl =\n",
              "          document.querySelector('#df-c9d1e272-ac70-4427-94dd-d0110dd05e2d button.colab-df-convert');\n",
              "        buttonEl.style.display =\n",
              "          google.colab.kernel.accessAllowed ? 'block' : 'none';\n",
              "\n",
              "        async function convertToInteractive(key) {\n",
              "          const element = document.querySelector('#df-c9d1e272-ac70-4427-94dd-d0110dd05e2d');\n",
              "          const dataTable =\n",
              "            await google.colab.kernel.invokeFunction('convertToInteractive',\n",
              "                                                     [key], {});\n",
              "          if (!dataTable) return;\n",
              "\n",
              "          const docLinkHtml = 'Like what you see? Visit the ' +\n",
              "            '<a target=\"_blank\" href=https://colab.research.google.com/notebooks/data_table.ipynb>data table notebook</a>'\n",
              "            + ' to learn more about interactive tables.';\n",
              "          element.innerHTML = '';\n",
              "          dataTable['output_type'] = 'display_data';\n",
              "          await google.colab.output.renderOutput(dataTable, element);\n",
              "          const docLink = document.createElement('div');\n",
              "          docLink.innerHTML = docLinkHtml;\n",
              "          element.appendChild(docLink);\n",
              "        }\n",
              "      </script>\n",
              "    </div>\n",
              "  </div>\n",
              "  "
            ]
          },
          "metadata": {}
        }
      ],
      "source": [
        "score_tfidf_false = pd.DataFrame(results_idf_false, index=['f1 w/o tf-idf'])\n",
        "display(score_tfidf.append(score_tfidf_false))"
      ]
    },
    {
      "cell_type": "code",
      "execution_count": 125,
      "metadata": {
        "colab": {
          "base_uri": "https://localhost:8080/",
          "height": 460
        },
        "id": "bfB2vG9Plk82",
        "outputId": "7b452f57-58c6-4e29-b483-8c53d4dd1965"
      },
      "outputs": [
        {
          "output_type": "display_data",
          "data": {
            "text/plain": [
              "<Figure size 1080x504 with 2 Axes>"
            ],
            "image/png": "[encoded data removed]"
          },
          "metadata": {
            "needs_background": "light"
          }
        }
      ],
      "source": [
        "plt.figure(figsize=(15,7))\n",
        "plt.subplot(1,2,1)\n",
        "sns.barplot(data=score_tfidf)\n",
        "\n",
        "plt.xlabel('Algorithm', size = 10)\n",
        "plt.ylabel('F1-score', size = 10)\n",
        "plt.title('w/ tf-idf', size=15)\n",
        "plt.xticks(fontsize=10, rotation=0)\n",
        "plt.yticks(fontsize=10, rotation=0)\n",
        "plt.grid(True, axis='y')\n",
        "\n",
        "\n",
        "plt.subplot(1,2,2)\n",
        "plt.xlabel('Algorithm', size = 10)\n",
        "plt.ylabel('F1-score', size = 10)\n",
        "plt.title('w/o tf-idf', size=15)\n",
        "plt.xticks(fontsize=10, rotation=0)\n",
        "plt.yticks(fontsize=10, rotation=0)\n",
        "\n",
        "sns.barplot(data=score_tfidf_false)\n",
        "plt.grid(True, axis='y')"
      ]
    },
    {
      "cell_type": "markdown",
      "metadata": {
        "id": "7HH1xq3Dloab"
      },
      "source": [
        " Try multioutput classification"
      ]
    },
    {
      "cell_type": "code",
      "execution_count": 127,
      "metadata": {
        "colab": {
          "base_uri": "https://localhost:8080/"
        },
        "id": "7Pts3TDGlouJ",
        "outputId": "934137b9-4306-443a-a83c-2db23b21c49e"
      },
      "outputs": [
        {
          "output_type": "stream",
          "name": "stdout",
          "text": [
            "Binarize MBTI list: \n",
            "[[1 0 0 0]\n",
            " [1 0 0 0]\n",
            " [1 0 0 0]\n",
            " ...\n",
            " [0 0 0 1]\n",
            " [0 0 0 1]\n",
            " [0 0 0 1]]\n"
          ]
        }
      ],
      "source": [
        "from sklearn.multioutput import MultiOutputClassifier\n",
        "from sklearn.naive_bayes import GaussianNB\n",
        "from sklearn.ensemble import AdaBoostClassifier\n",
        "import xgboost as xgb\n",
        "\n",
        "b_Pers = {'I':0, 'E':1, 'N':0, 'S':1, 'F':0, 'T':1, 'J':0, 'P':1}\n",
        "b_Pers_list = [{0:'I', 1:'E'}, {0:'N', 1:'S'}, {0:'F', 1:'T'}, {0:'J', 1:'P'}]\n",
        "\n",
        "def translate_personality(personality):\n",
        "    '''\n",
        "    transform mbti to binary vector\n",
        "    '''\n",
        "    return [b_Pers[l] for l in personality]\n",
        "\n",
        "def translate_back(personality):\n",
        "    '''\n",
        "    transform binary vector to mbti personality\n",
        "    '''\n",
        "    s = \"\"\n",
        "    for i, l in enumerate(personality):\n",
        "        s += b_Pers_list[i][l]\n",
        "    return s\n",
        "\n",
        "list_personality_bin = np.array([translate_personality(p) for p in data.mbti])\n",
        "print(\"Binarize MBTI list: \\n%s\" % list_personality_bin)"
      ]
    },
    {
      "cell_type": "code",
      "execution_count": 129,
      "metadata": {
        "colab": {
          "base_uri": "https://localhost:8080/"
        },
        "id": "Cu5GNK4XltFp",
        "outputId": "2e859500-cfea-4326-97a2-bcdd202d1f56"
      },
      "outputs": [
        {
          "output_type": "stream",
          "name": "stdout",
          "text": [
            "f1 score for Extraversion (E) - Introversion (I):\n",
            "0.8329686360320934\n",
            "f1 score for Sensation (S) - INtuition (N):\n",
            "0.878594249201278\n",
            "f1 score for Thinking (T) - Feeling (F):\n",
            "0.8406466512702079\n",
            "f1 score for Judgement (J) - Perception (P):\n",
            "0.8470124753775443\n"
          ]
        }
      ],
      "source": [
        "# Feed classifier to MultiOutputCLassifier\n",
        "clf = AdaBoostClassifier()\n",
        "# clf = xgb.XGBClassifier()\n",
        "# classifier를 XGBoost Classifier로 바꿔보기\n",
        "multi_target_classifier = MultiOutputClassifier(clf, n_jobs=-1)\n",
        "multi_target_classifier.fit(X_tfidf, list_personality_bin)\n",
        "preds = multi_target_classifier.predict(X_tfidf)\n",
        "\n",
        "preds_t = [translate_back(p) for p in preds]\n",
        "vec1 = data.mbti ==  preds_t\n",
        "for i in range(4):\n",
        "    print(\"f1 score for %s:\\n%s\" % (titles[i],\n",
        "                                    f1_score(np.array(list_personality_bin)[:,i], preds[:,i])))"
      ]
    },
    {
      "cell_type": "code",
      "execution_count": 131,
      "metadata": {
        "colab": {
          "base_uri": "https://localhost:8080/"
        },
        "id": "x0kocFerlvUo",
        "outputId": "37e99d12-ae60-433b-ec7f-8915855f1918"
      },
      "outputs": [
        {
          "output_type": "stream",
          "name": "stdout",
          "text": [
            "f1 score for Extraversion (E) - Introversion (I):\n",
            "0.9290515309932785\n",
            "f1 score for Sensation (S) - INtuition (N):\n",
            "0.9251934651762683\n",
            "f1 score for Thinking (T) - Feeling (F):\n",
            "0.9407236335642801\n",
            "f1 score for Judgement (J) - Perception (P):\n",
            "0.9451137884872824\n"
          ]
        }
      ],
      "source": [
        "# Feed classifier to MultiOutputCLassifier\n",
        "# clf = AdaBoostClassifier()\n",
        "clf = xgb.XGBClassifier()\n",
        "# classifier를 XGBoost Classifier로 바꿔보기\n",
        "multi_target_classifier = MultiOutputClassifier(clf, n_jobs=-1)\n",
        "multi_target_classifier.fit(X_tfidf, list_personality_bin)\n",
        "preds = multi_target_classifier.predict(X_tfidf)\n",
        "\n",
        "preds_t = [translate_back(p) for p in preds]\n",
        "vec1 = data.mbti ==  preds_t\n",
        "for i in range(4):\n",
        "    print(\"f1 score for %s:\\n%s\" % (titles[i],\n",
        "                                    f1_score(np.array(list_personality_bin)[:,i], preds[:,i])))"
      ]
    },
    {
      "cell_type": "code",
      "execution_count": 132,
      "metadata": {
        "colab": {
          "base_uri": "https://localhost:8080/"
        },
        "id": "4jYIW3DFlvx-",
        "outputId": "de6add6a-86f4-44ab-d058-f96c91f0c72c"
      },
      "outputs": [
        {
          "output_type": "stream",
          "name": "stdout",
          "text": [
            "\n",
            "Total score: 0.44732502048386036\n",
            "0.7633587786259542\n",
            "0.7142857142857142\n",
            "0.7666666666666667\n",
            "0.7261146496815287\n",
            "\n",
            "Total score: 0.4437007839181752\n",
            "0.7050359712230215\n",
            "0.7479674796747967\n",
            "0.6984126984126984\n",
            "0.8309859154929577\n",
            "\n",
            "Total score: 0.5018016083558539\n",
            "0.7534246575342467\n",
            "0.8067226890756302\n",
            "0.8059701492537314\n",
            "0.8280254777070063\n",
            "\n",
            "Total score: 0.42024306679135504\n",
            "0.746268656716418\n",
            "0.7155963302752293\n",
            "0.7518796992481201\n",
            "0.7466666666666667\n",
            "\n",
            "Total score: 0.45815602929354005\n",
            "0.7272727272727272\n",
            "0.7818181818181819\n",
            "0.8412698412698413\n",
            "0.7547169811320755\n",
            "\n",
            "Total score: 0.3962828008564527\n",
            "0.671875\n",
            "0.7394957983193277\n",
            "0.7384615384615384\n",
            "0.7482993197278911\n",
            "\n",
            "Total score: 0.43102106560706127\n",
            "0.7555555555555554\n",
            "0.7387387387387386\n",
            "0.7343750000000001\n",
            "0.7866666666666666\n",
            "\n",
            "Total score: 0.490984851040151\n",
            "0.8059701492537314\n",
            "0.7706422018348622\n",
            "0.7401574803149605\n",
            "0.7320261437908496\n",
            "\n",
            "Total score: 0.4348816725666902\n",
            "0.7559055118110236\n",
            "0.7619047619047619\n",
            "0.7424242424242424\n",
            "0.8227848101265823\n",
            "\n",
            "Total score: 0.4455643515927204\n",
            "0.7259259259259259\n",
            "0.7115384615384616\n",
            "0.7819548872180451\n",
            "0.825\n"
          ]
        }
      ],
      "source": [
        "# Stratified cross val for multi-output\n",
        "X = list_posts\n",
        "y = np.array(list_personality_bin)\n",
        "\n",
        "# clf = AdaBoostClassifier()\n",
        "# classifier를 XGBoost Classifier로 바꿔보기\n",
        "clf = xgb.XGBClassifier()\n",
        "kf = StratifiedShuffleSplit(n_splits=10)\n",
        "# 10-fold CV\n",
        "\n",
        "list_score = []\n",
        "list_score_per_class= []\n",
        "\n",
        "for train, test in kf.split(X, y):\n",
        "    X_train, X_test, y_train, y_test = \\\n",
        "        X[train], X[test], y[train], y[test]\n",
        "\n",
        "    X_train = cntizer.fit_transform(X_train)\n",
        "    X_test = cntizer.transform(X_test)\n",
        "    \n",
        "    X_train = tfizer.fit_transform(X_train).toarray()\n",
        "    X_test = tfizer.transform(X_test).toarray()\n",
        "\n",
        "    multi_target_classifier = MultiOutputClassifier(clf, n_jobs=-1)\n",
        "    multi_target_classifier.fit(X_train, y_train)\n",
        "    preds = multi_target_classifier.predict(X_test)\n",
        "    \n",
        "    rev_preds = np.array([translate_back(p) for p in preds]) \n",
        "    rev_test = np.array([translate_back(p) for p in y_test])\n",
        "    score = f1_score(rev_test,rev_preds, average='weighted')\n",
        "    list_score.append(score)\n",
        "    print('\\nTotal score: %s' % f1_score(rev_test,rev_preds, average='weighted'))\n",
        "\n",
        "    list_temp =[]\n",
        "    for i in range(4):\n",
        "        score_per_class = f1_score(y_test[:,i], preds[:,i])\n",
        "        list_temp.append(score_per_class)\n",
        "        print(score_per_class)\n",
        "    list_score_per_class.append(list_temp)"
      ]
    },
    {
      "cell_type": "markdown",
      "metadata": {
        "id": "OOqeQzoOlzEc"
      },
      "source": [
        "#  AdaBoost"
      ]
    },
    {
      "cell_type": "code",
      "execution_count": 133,
      "metadata": {
        "colab": {
          "base_uri": "https://localhost:8080/"
        },
        "id": "9xYdm3_Yl0zP",
        "outputId": "81be5f3a-d19c-4ecf-8a8c-72c633bcd8b9"
      },
      "outputs": [
        {
          "output_type": "stream",
          "name": "stdout",
          "text": [
            "Mean score per classes: [0.74 0.75 0.76 0.78]\n"
          ]
        }
      ],
      "source": [
        "list_score_per_class = np.array(list_score_per_class)\n",
        "print('Mean score per classes: %s' % np.around(list_score_per_class.mean(axis=0),2))"
      ]
    },
    {
      "cell_type": "markdown",
      "metadata": {
        "id": "LWl6FxWFl2j3"
      },
      "source": [
        "#  XGBoost"
      ]
    },
    {
      "cell_type": "code",
      "execution_count": 134,
      "metadata": {
        "colab": {
          "base_uri": "https://localhost:8080/"
        },
        "id": "7pLMrY5ol57R",
        "outputId": "2aff3696-1608-49e8-bae5-94573d151f5d"
      },
      "outputs": [
        {
          "output_type": "stream",
          "name": "stdout",
          "text": [
            "Mean score per classes: [0.74 0.75 0.76 0.78]\n"
          ]
        }
      ],
      "source": [
        "list_score_per_class = np.array(list_score_per_class)\n",
        "print('Mean score per classes: %s' % np.around(list_score_per_class.mean(axis=0), 2))"
      ]
    },
    {
      "cell_type": "code",
      "execution_count": 134,
      "metadata": {
        "id": "OWk3Bttrl8Hl"
      },
      "outputs": [],
      "source": []
    }
  ],
  "metadata": {
    "accelerator": "GPU",
    "colab": {
      "collapsed_sections": [],
      "machine_shape": "hm",
      "provenance": []
    },
    "gpuClass": "premium",
    "kernelspec": {
      "display_name": "Python 3",
      "name": "python3"
    },
    "language_info": {
      "name": "python"
    }
  },
  "nbformat": 4,
  "nbformat_minor": 0
}