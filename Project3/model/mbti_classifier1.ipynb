{
  "metadata": {
    "kernelspec": {
      "language": "python",
      "display_name": "Python 3",
      "name": "python3"
    },
    "language_info": {
      "pygments_lexer": "ipython3",
      "nbconvert_exporter": "python",
      "version": "3.6.4",
      "file_extension": ".py",
      "codemirror_mode": {
        "name": "ipython",
        "version": 3
      },
      "name": "python",
      "mimetype": "text/x-python"
    },
    "colab": {
      "provenance": [],
      "machine_shape": "hm",
      "collapsed_sections": []
    },
    "accelerator": "GPU",
    "gpuClass": "premium",
    "widgets": {
      "application/vnd.jupyter.widget-state+json": {
        "3dce94ea78294b84afa75298b302b90f": {
          "model_module": "@jupyter-widgets/controls",
          "model_name": "HBoxModel",
          "model_module_version": "1.5.0",
          "state": {
            "_dom_classes": [],
            "_model_module": "@jupyter-widgets/controls",
            "_model_module_version": "1.5.0",
            "_model_name": "HBoxModel",
            "_view_count": null,
            "_view_module": "@jupyter-widgets/controls",
            "_view_module_version": "1.5.0",
            "_view_name": "HBoxView",
            "box_style": "",
            "children": [
              "IPY_MODEL_acd93d68b1034eb89acb2f16209644ae",
              "IPY_MODEL_ad5ca3b8b73149678af3fc5b9aa9f849",
              "IPY_MODEL_1b76f781eda740fa8c10f8a0aff5305a"
            ],
            "layout": "IPY_MODEL_47617287622743f4be5b065f0e6f210d"
          }
        },
        "acd93d68b1034eb89acb2f16209644ae": {
          "model_module": "@jupyter-widgets/controls",
          "model_name": "HTMLModel",
          "model_module_version": "1.5.0",
          "state": {
            "_dom_classes": [],
            "_model_module": "@jupyter-widgets/controls",
            "_model_module_version": "1.5.0",
            "_model_name": "HTMLModel",
            "_view_count": null,
            "_view_module": "@jupyter-widgets/controls",
            "_view_module_version": "1.5.0",
            "_view_name": "HTMLView",
            "description": "",
            "description_tooltip": null,
            "layout": "IPY_MODEL_2af9ba2981614c798e5aa80290f3e75b",
            "placeholder": "​",
            "style": "IPY_MODEL_0df4b6478a774a1fa7555d0a82036b8a",
            "value": "100%"
          }
        },
        "ad5ca3b8b73149678af3fc5b9aa9f849": {
          "model_module": "@jupyter-widgets/controls",
          "model_name": "FloatProgressModel",
          "model_module_version": "1.5.0",
          "state": {
            "_dom_classes": [],
            "_model_module": "@jupyter-widgets/controls",
            "_model_module_version": "1.5.0",
            "_model_name": "FloatProgressModel",
            "_view_count": null,
            "_view_module": "@jupyter-widgets/controls",
            "_view_module_version": "1.5.0",
            "_view_name": "ProgressView",
            "bar_style": "success",
            "description": "",
            "description_tooltip": null,
            "layout": "IPY_MODEL_f982401d86be48f4bc166b3319f9906d",
            "max": 339,
            "min": 0,
            "orientation": "horizontal",
            "style": "IPY_MODEL_5b1705b4166f4251bc6fe3f96184dcd3",
            "value": 339
          }
        },
        "1b76f781eda740fa8c10f8a0aff5305a": {
          "model_module": "@jupyter-widgets/controls",
          "model_name": "HTMLModel",
          "model_module_version": "1.5.0",
          "state": {
            "_dom_classes": [],
            "_model_module": "@jupyter-widgets/controls",
            "_model_module_version": "1.5.0",
            "_model_name": "HTMLModel",
            "_view_count": null,
            "_view_module": "@jupyter-widgets/controls",
            "_view_module_version": "1.5.0",
            "_view_name": "HTMLView",
            "description": "",
            "description_tooltip": null,
            "layout": "IPY_MODEL_0168802d81e74c1a890be3c24887062a",
            "placeholder": "​",
            "style": "IPY_MODEL_8907ec0f10c748fb967e9761b345be34",
            "value": " 339/339 [00:00&lt;00:00, 8825.24it/s]"
          }
        },
        "47617287622743f4be5b065f0e6f210d": {
          "model_module": "@jupyter-widgets/base",
          "model_name": "LayoutModel",
          "model_module_version": "1.2.0",
          "state": {
            "_model_module": "@jupyter-widgets/base",
            "_model_module_version": "1.2.0",
            "_model_name": "LayoutModel",
            "_view_count": null,
            "_view_module": "@jupyter-widgets/base",
            "_view_module_version": "1.2.0",
            "_view_name": "LayoutView",
            "align_content": null,
            "align_items": null,
            "align_self": null,
            "border": null,
            "bottom": null,
            "display": null,
            "flex": null,
            "flex_flow": null,
            "grid_area": null,
            "grid_auto_columns": null,
            "grid_auto_flow": null,
            "grid_auto_rows": null,
            "grid_column": null,
            "grid_gap": null,
            "grid_row": null,
            "grid_template_areas": null,
            "grid_template_columns": null,
            "grid_template_rows": null,
            "height": null,
            "justify_content": null,
            "justify_items": null,
            "left": null,
            "margin": null,
            "max_height": null,
            "max_width": null,
            "min_height": null,
            "min_width": null,
            "object_fit": null,
            "object_position": null,
            "order": null,
            "overflow": null,
            "overflow_x": null,
            "overflow_y": null,
            "padding": null,
            "right": null,
            "top": null,
            "visibility": null,
            "width": null
          }
        },
        "2af9ba2981614c798e5aa80290f3e75b": {
          "model_module": "@jupyter-widgets/base",
          "model_name": "LayoutModel",
          "model_module_version": "1.2.0",
          "state": {
            "_model_module": "@jupyter-widgets/base",
            "_model_module_version": "1.2.0",
            "_model_name": "LayoutModel",
            "_view_count": null,
            "_view_module": "@jupyter-widgets/base",
            "_view_module_version": "1.2.0",
            "_view_name": "LayoutView",
            "align_content": null,
            "align_items": null,
            "align_self": null,
            "border": null,
            "bottom": null,
            "display": null,
            "flex": null,
            "flex_flow": null,
            "grid_area": null,
            "grid_auto_columns": null,
            "grid_auto_flow": null,
            "grid_auto_rows": null,
            "grid_column": null,
            "grid_gap": null,
            "grid_row": null,
            "grid_template_areas": null,
            "grid_template_columns": null,
            "grid_template_rows": null,
            "height": null,
            "justify_content": null,
            "justify_items": null,
            "left": null,
            "margin": null,
            "max_height": null,
            "max_width": null,
            "min_height": null,
            "min_width": null,
            "object_fit": null,
            "object_position": null,
            "order": null,
            "overflow": null,
            "overflow_x": null,
            "overflow_y": null,
            "padding": null,
            "right": null,
            "top": null,
            "visibility": null,
            "width": null
          }
        },
        "0df4b6478a774a1fa7555d0a82036b8a": {
          "model_module": "@jupyter-widgets/controls",
          "model_name": "DescriptionStyleModel",
          "model_module_version": "1.5.0",
          "state": {
            "_model_module": "@jupyter-widgets/controls",
            "_model_module_version": "1.5.0",
            "_model_name": "DescriptionStyleModel",
            "_view_count": null,
            "_view_module": "@jupyter-widgets/base",
            "_view_module_version": "1.2.0",
            "_view_name": "StyleView",
            "description_width": ""
          }
        },
        "f982401d86be48f4bc166b3319f9906d": {
          "model_module": "@jupyter-widgets/base",
          "model_name": "LayoutModel",
          "model_module_version": "1.2.0",
          "state": {
            "_model_module": "@jupyter-widgets/base",
            "_model_module_version": "1.2.0",
            "_model_name": "LayoutModel",
            "_view_count": null,
            "_view_module": "@jupyter-widgets/base",
            "_view_module_version": "1.2.0",
            "_view_name": "LayoutView",
            "align_content": null,
            "align_items": null,
            "align_self": null,
            "border": null,
            "bottom": null,
            "display": null,
            "flex": null,
            "flex_flow": null,
            "grid_area": null,
            "grid_auto_columns": null,
            "grid_auto_flow": null,
            "grid_auto_rows": null,
            "grid_column": null,
            "grid_gap": null,
            "grid_row": null,
            "grid_template_areas": null,
            "grid_template_columns": null,
            "grid_template_rows": null,
            "height": null,
            "justify_content": null,
            "justify_items": null,
            "left": null,
            "margin": null,
            "max_height": null,
            "max_width": null,
            "min_height": null,
            "min_width": null,
            "object_fit": null,
            "object_position": null,
            "order": null,
            "overflow": null,
            "overflow_x": null,
            "overflow_y": null,
            "padding": null,
            "right": null,
            "top": null,
            "visibility": null,
            "width": null
          }
        },
        "5b1705b4166f4251bc6fe3f96184dcd3": {
          "model_module": "@jupyter-widgets/controls",
          "model_name": "ProgressStyleModel",
          "model_module_version": "1.5.0",
          "state": {
            "_model_module": "@jupyter-widgets/controls",
            "_model_module_version": "1.5.0",
            "_model_name": "ProgressStyleModel",
            "_view_count": null,
            "_view_module": "@jupyter-widgets/base",
            "_view_module_version": "1.2.0",
            "_view_name": "StyleView",
            "bar_color": null,
            "description_width": ""
          }
        },
        "0168802d81e74c1a890be3c24887062a": {
          "model_module": "@jupyter-widgets/base",
          "model_name": "LayoutModel",
          "model_module_version": "1.2.0",
          "state": {
            "_model_module": "@jupyter-widgets/base",
            "_model_module_version": "1.2.0",
            "_model_name": "LayoutModel",
            "_view_count": null,
            "_view_module": "@jupyter-widgets/base",
            "_view_module_version": "1.2.0",
            "_view_name": "LayoutView",
            "align_content": null,
            "align_items": null,
            "align_self": null,
            "border": null,
            "bottom": null,
            "display": null,
            "flex": null,
            "flex_flow": null,
            "grid_area": null,
            "grid_auto_columns": null,
            "grid_auto_flow": null,
            "grid_auto_rows": null,
            "grid_column": null,
            "grid_gap": null,
            "grid_row": null,
            "grid_template_areas": null,
            "grid_template_columns": null,
            "grid_template_rows": null,
            "height": null,
            "justify_content": null,
            "justify_items": null,
            "left": null,
            "margin": null,
            "max_height": null,
            "max_width": null,
            "min_height": null,
            "min_width": null,
            "object_fit": null,
            "object_position": null,
            "order": null,
            "overflow": null,
            "overflow_x": null,
            "overflow_y": null,
            "padding": null,
            "right": null,
            "top": null,
            "visibility": null,
            "width": null
          }
        },
        "8907ec0f10c748fb967e9761b345be34": {
          "model_module": "@jupyter-widgets/controls",
          "model_name": "DescriptionStyleModel",
          "model_module_version": "1.5.0",
          "state": {
            "_model_module": "@jupyter-widgets/controls",
            "_model_module_version": "1.5.0",
            "_model_name": "DescriptionStyleModel",
            "_view_count": null,
            "_view_module": "@jupyter-widgets/base",
            "_view_module_version": "1.2.0",
            "_view_name": "StyleView",
            "description_width": ""
          }
        }
      }
    }
  },
  "nbformat_minor": 0,
  "nbformat": 4,
  "cells": [
    {
      "cell_type": "markdown",
      "source": [
        "# Importing libraries"
      ],
      "metadata": {
        "id": "D0ivpVJj6Z3H"
      }
    },
    {
      "cell_type": "code",
      "source": [
        "import pandas as pd\n",
        "from sklearn.model_selection import train_test_split\n",
        "from sklearn.feature_extraction.text import TfidfVectorizer\n",
        "from sklearn.svm import LinearSVC\n",
        "from sklearn.pipeline import Pipeline\n",
        "from sklearn import metrics\n",
        "from sklearn.metrics import classification_report, f1_score\n",
        "import pickle\n",
        "import os.path\n",
        "import plotly.offline as pyo\n",
        "import plotly.graph_objs as go\n",
        "import spacy\n",
        "from nltk.stem.snowball import SnowballStemmer\n",
        "from sklearn.feature_extraction.text import CountVectorizer\n",
        "from tqdm.notebook import tqdm\n",
        "from nltk.stem import WordNetLemmatizer\n",
        "import regex as re\n"
      ],
      "metadata": {
        "execution": {
          "iopub.status.busy": "2022-01-23T18:31:19.198672Z",
          "iopub.execute_input": "2022-01-23T18:31:19.199617Z",
          "iopub.status.idle": "2022-01-23T18:31:24.474761Z",
          "shell.execute_reply.started": "2022-01-23T18:31:19.199496Z",
          "shell.execute_reply": "2022-01-23T18:31:24.473893Z"
        },
        "trusted": true,
        "id": "bpYiSbu66Z3K"
      },
      "execution_count": 1,
      "outputs": []
    },
    {
      "cell_type": "code",
      "source": [
        "from google.colab import drive\n",
        "drive.mount('/content/drive')"
      ],
      "metadata": {
        "colab": {
          "base_uri": "https://localhost:8080/"
        },
        "id": "ohkS_IJEj81i",
        "outputId": "4d97af25-c661-4d92-ed48-311ce90dbf1b"
      },
      "execution_count": 2,
      "outputs": [
        {
          "output_type": "stream",
          "name": "stdout",
          "text": [
            "Mounted at /content/drive\n"
          ]
        }
      ]
    },
    {
      "cell_type": "markdown",
      "source": [
        "# Context"
      ],
      "metadata": {
        "id": "ZKoWqZFZ6Z3N"
      }
    },
    {
      "cell_type": "markdown",
      "source": [
        "dataset:  https://www.kaggle.com/zeyadkhalid/mbti-personality-types-500-dataset\n",
        "\n",
        "https://www.kaggle.com/code/mercurio117/mbti-500/data\n",
        "\n",
        "https://www.kaggle.com/datasets/datasnaek/mbti-type"
      ],
      "metadata": {
        "id": "sjT0Q_a16Z3O"
      }
    },
    {
      "cell_type": "markdown",
      "source": [
        "# Content"
      ],
      "metadata": {
        "id": "uhU44BZh6Z3O"
      }
    },
    {
      "cell_type": "markdown",
      "source": [
        "    ~106K records of preprocessed posts and their authors' personality types.\n",
        "    \n",
        "    Posts are equal-sized: 500 words per sample   "
      ],
      "metadata": {
        "id": "1N2blS0i6Z3O"
      }
    },
    {
      "cell_type": "markdown",
      "source": [
        "# About the dataset"
      ],
      "metadata": {
        "id": "LyZWqw6-6Z3O"
      }
    },
    {
      "cell_type": "markdown",
      "source": [
        "Posts are preprocessed texts:\n",
        "\n",
        "    - No punctuations, stopwords, URLs\n",
        "    \n",
        "    - Lemmatization\n",
        "    \n",
        "    - Reconstruct samples to be equal-sized chunks (500 words per sample)\n",
        "    \n",
        "Personality types are 16 unique values"
      ],
      "metadata": {
        "id": "Lp_LAaWf6Z3P"
      }
    },
    {
      "cell_type": "markdown",
      "source": [
        "# Read the dataset into a pandas dataframe"
      ],
      "metadata": {
        "id": "lb52pcQq6Z3X"
      }
    },
    {
      "cell_type": "markdown",
      "source": [
        "Now it's time to read the dataset and make a simple exploratory analysis"
      ],
      "metadata": {
        "id": "qSQeAAb26Z3X"
      }
    },
    {
      "cell_type": "code",
      "source": [
        "# train 하게 될 데이터 셋 이게 첫번째 데이터셋\n",
        "df = pd.read_csv('drive/MyDrive/Colab Notebooks/MBTI 500.csv')\n",
        "\n",
        "# validation 하게 될 데이터 셋 두번째 데이터셋 + 전처리\n",
        "# dftest = pd.read_csv('drive/MyDrive/Colab Notebooks/mbti_1.csv')\n",
        "\n",
        "# 첫번째 시도\n",
        "# dftest = pd.read_csv('drive/MyDrive/Colab Notebooks/our_test.csv')\n",
        "\n",
        "# 네이버를 포함한 두번째 시도\n",
        "# dftest = pd.read_csv('drive/MyDrive/Colab Notebooks/add_naver.csv')\n",
        "\n",
        "# 슬랙 데이터\n",
        "dftest = pd.read_csv('drive/MyDrive/Colab Notebooks/our_slack.csv')\n",
        "\n",
        "# dftest = pd.read_csv('drive/MyDrive/Colab Notebooks/team3 SLACK.xlsx')"
      ],
      "metadata": {
        "execution": {
          "iopub.status.busy": "2022-01-23T18:31:25.464018Z",
          "iopub.execute_input": "2022-01-23T18:31:25.464254Z",
          "iopub.status.idle": "2022-01-23T18:31:30.53142Z",
          "shell.execute_reply.started": "2022-01-23T18:31:25.464226Z",
          "shell.execute_reply": "2022-01-23T18:31:30.530499Z"
        },
        "trusted": true,
        "id": "zmmGgz7p6Z3X"
      },
      "execution_count": 31,
      "outputs": []
    },
    {
      "cell_type": "code",
      "source": [
        "for i in range(len(dftest[\"mbti\"])):\n",
        "  if not (dftest[\"mbti\"][i] == \"enfj\" or dftest[\"mbti\"][i] == \"enfp\" or dftest[\"mbti\"][i] == \"infj\" or dftest[\"mbti\"][i] == \"isfp\"):\n",
        "    dftest[\"mbti\"][i] = \"entj\""
      ],
      "metadata": {
        "colab": {
          "base_uri": "https://localhost:8080/"
        },
        "id": "sCuctAEbAgoB",
        "outputId": "62830069-b712-4548-a17a-5b210f2bcf1b"
      },
      "execution_count": 32,
      "outputs": [
        {
          "output_type": "stream",
          "name": "stderr",
          "text": [
            "/usr/local/lib/python3.7/dist-packages/ipykernel_launcher.py:3: SettingWithCopyWarning:\n",
            "\n",
            "\n",
            "A value is trying to be set on a copy of a slice from a DataFrame\n",
            "\n",
            "See the caveats in the documentation: https://pandas.pydata.org/pandas-docs/stable/user_guide/indexing.html#returning-a-view-versus-a-copy\n",
            "\n"
          ]
        }
      ]
    },
    {
      "cell_type": "code",
      "source": [
        "# 데이터 확인 \n",
        "# df.head()\n",
        "dftest.head()"
      ],
      "metadata": {
        "execution": {
          "iopub.status.busy": "2022-01-23T18:31:30.532707Z",
          "iopub.execute_input": "2022-01-23T18:31:30.532991Z",
          "iopub.status.idle": "2022-01-23T18:31:30.54636Z",
          "shell.execute_reply.started": "2022-01-23T18:31:30.532958Z",
          "shell.execute_reply": "2022-01-23T18:31:30.54574Z"
        },
        "trusted": true,
        "colab": {
          "base_uri": "https://localhost:8080/",
          "height": 337
        },
        "id": "aYoqwpKN6Z3Y",
        "outputId": "fdb1b0e1-a0ba-4231-d690-dfd3aca9dc39"
      },
      "execution_count": 33,
      "outputs": [
        {
          "output_type": "execute_result",
          "data": {
            "text/plain": [
              "   Unnamed: 0                                               text  \\\n",
              "0           0            안녕하세요! 앞으로 함께 프로젝트를 진행하게 될 3팀입니다! 반가워요!   \n",
              "1           1  안지오님이랑 빙창선님은 개인 사정으로 수업을 그만 들으신다고 합니다! 그리고 오늘 ...   \n",
              "2           2          아 그리고 프로젝트 1,2 는 팀별로 구분된다고 합니다! 링크보내드릴게요!   \n",
              "3           3                                 지금 라이브 강의 하고 있나요…?   \n",
              "4           4  여러분! 오늘까지는 팀장을 정해서 프로젝트 페이지 안에 있는 템플릿이나 기록을 진행...   \n",
              "\n",
              "                                                  EN  \\\n",
              "0  Good day to you too! We are the three teams th...   \n",
              "1  I heard that the director and the Hwajangseon ...   \n",
              "2  Oh, and the 1/2 project is called a team! I'll...   \n",
              "3               Are you currently on a live lecture?   \n",
              "4  You guys are the best! Until today, I'll have ...   \n",
              "\n",
              "                                               NAVER  mbti  \n",
              "0  Hello! We are the 3 teams who will work on the...  enfj  \n",
              "1  Anjio and Bingchangsun are going to stop takin...  enfj  \n",
              "2  And project 1 and 2 are divided into teams! I'...  enfj  \n",
              "3              Are you giving a live lecture now...?  enfj  \n",
              "4  Ladies and Gentlemen! By today, we need to sel...  enfj  "
            ],
            "text/html": [
              "\n",
              "  <div id=\"df-434b2044-21bc-4763-bc87-6d618d9df611\">\n",
              "    <div class=\"colab-df-container\">\n",
              "      <div>\n",
              "<style scoped>\n",
              "    .dataframe tbody tr th:only-of-type {\n",
              "        vertical-align: middle;\n",
              "    }\n",
              "\n",
              "    .dataframe tbody tr th {\n",
              "        vertical-align: top;\n",
              "    }\n",
              "\n",
              "    .dataframe thead th {\n",
              "        text-align: right;\n",
              "    }\n",
              "</style>\n",
              "<table border=\"1\" class=\"dataframe\">\n",
              "  <thead>\n",
              "    <tr style=\"text-align: right;\">\n",
              "      <th></th>\n",
              "      <th>Unnamed: 0</th>\n",
              "      <th>text</th>\n",
              "      <th>EN</th>\n",
              "      <th>NAVER</th>\n",
              "      <th>mbti</th>\n",
              "    </tr>\n",
              "  </thead>\n",
              "  <tbody>\n",
              "    <tr>\n",
              "      <th>0</th>\n",
              "      <td>0</td>\n",
              "      <td>안녕하세요! 앞으로 함께 프로젝트를 진행하게 될 3팀입니다! 반가워요!</td>\n",
              "      <td>Good day to you too! We are the three teams th...</td>\n",
              "      <td>Hello! We are the 3 teams who will work on the...</td>\n",
              "      <td>enfj</td>\n",
              "    </tr>\n",
              "    <tr>\n",
              "      <th>1</th>\n",
              "      <td>1</td>\n",
              "      <td>안지오님이랑 빙창선님은 개인 사정으로 수업을 그만 들으신다고 합니다! 그리고 오늘 ...</td>\n",
              "      <td>I heard that the director and the Hwajangseon ...</td>\n",
              "      <td>Anjio and Bingchangsun are going to stop takin...</td>\n",
              "      <td>enfj</td>\n",
              "    </tr>\n",
              "    <tr>\n",
              "      <th>2</th>\n",
              "      <td>2</td>\n",
              "      <td>아 그리고 프로젝트 1,2 는 팀별로 구분된다고 합니다! 링크보내드릴게요!</td>\n",
              "      <td>Oh, and the 1/2 project is called a team! I'll...</td>\n",
              "      <td>And project 1 and 2 are divided into teams! I'...</td>\n",
              "      <td>enfj</td>\n",
              "    </tr>\n",
              "    <tr>\n",
              "      <th>3</th>\n",
              "      <td>3</td>\n",
              "      <td>지금 라이브 강의 하고 있나요…?</td>\n",
              "      <td>Are you currently on a live lecture?</td>\n",
              "      <td>Are you giving a live lecture now...?</td>\n",
              "      <td>enfj</td>\n",
              "    </tr>\n",
              "    <tr>\n",
              "      <th>4</th>\n",
              "      <td>4</td>\n",
              "      <td>여러분! 오늘까지는 팀장을 정해서 프로젝트 페이지 안에 있는 템플릿이나 기록을 진행...</td>\n",
              "      <td>You guys are the best! Until today, I'll have ...</td>\n",
              "      <td>Ladies and Gentlemen! By today, we need to sel...</td>\n",
              "      <td>enfj</td>\n",
              "    </tr>\n",
              "  </tbody>\n",
              "</table>\n",
              "</div>\n",
              "      <button class=\"colab-df-convert\" onclick=\"convertToInteractive('df-434b2044-21bc-4763-bc87-6d618d9df611')\"\n",
              "              title=\"Convert this dataframe to an interactive table.\"\n",
              "              style=\"display:none;\">\n",
              "        \n",
              "  <svg xmlns=\"http://www.w3.org/2000/svg\" height=\"24px\"viewBox=\"0 0 24 24\"\n",
              "       width=\"24px\">\n",
              "    <path d=\"M0 0h24v24H0V0z\" fill=\"none\"/>\n",
              "    <path d=\"M18.56 5.44l.94 2.06.94-2.06 2.06-.94-2.06-.94-.94-2.06-.94 2.06-2.06.94zm-11 1L8.5 8.5l.94-2.06 2.06-.94-2.06-.94L8.5 2.5l-.94 2.06-2.06.94zm10 10l.94 2.06.94-2.06 2.06-.94-2.06-.94-.94-2.06-.94 2.06-2.06.94z\"/><path d=\"M17.41 7.96l-1.37-1.37c-.4-.4-.92-.59-1.43-.59-.52 0-1.04.2-1.43.59L10.3 9.45l-7.72 7.72c-.78.78-.78 2.05 0 2.83L4 21.41c.39.39.9.59 1.41.59.51 0 1.02-.2 1.41-.59l7.78-7.78 2.81-2.81c.8-.78.8-2.07 0-2.86zM5.41 20L4 18.59l7.72-7.72 1.47 1.35L5.41 20z\"/>\n",
              "  </svg>\n",
              "      </button>\n",
              "      \n",
              "  <style>\n",
              "    .colab-df-container {\n",
              "      display:flex;\n",
              "      flex-wrap:wrap;\n",
              "      gap: 12px;\n",
              "    }\n",
              "\n",
              "    .colab-df-convert {\n",
              "      background-color: #E8F0FE;\n",
              "      border: none;\n",
              "      border-radius: 50%;\n",
              "      cursor: pointer;\n",
              "      display: none;\n",
              "      fill: #1967D2;\n",
              "      height: 32px;\n",
              "      padding: 0 0 0 0;\n",
              "      width: 32px;\n",
              "    }\n",
              "\n",
              "    .colab-df-convert:hover {\n",
              "      background-color: #E2EBFA;\n",
              "      box-shadow: 0px 1px 2px rgba(60, 64, 67, 0.3), 0px 1px 3px 1px rgba(60, 64, 67, 0.15);\n",
              "      fill: #174EA6;\n",
              "    }\n",
              "\n",
              "    [theme=dark] .colab-df-convert {\n",
              "      background-color: #3B4455;\n",
              "      fill: #D2E3FC;\n",
              "    }\n",
              "\n",
              "    [theme=dark] .colab-df-convert:hover {\n",
              "      background-color: #434B5C;\n",
              "      box-shadow: 0px 1px 3px 1px rgba(0, 0, 0, 0.15);\n",
              "      filter: drop-shadow(0px 1px 2px rgba(0, 0, 0, 0.3));\n",
              "      fill: #FFFFFF;\n",
              "    }\n",
              "  </style>\n",
              "\n",
              "      <script>\n",
              "        const buttonEl =\n",
              "          document.querySelector('#df-434b2044-21bc-4763-bc87-6d618d9df611 button.colab-df-convert');\n",
              "        buttonEl.style.display =\n",
              "          google.colab.kernel.accessAllowed ? 'block' : 'none';\n",
              "\n",
              "        async function convertToInteractive(key) {\n",
              "          const element = document.querySelector('#df-434b2044-21bc-4763-bc87-6d618d9df611');\n",
              "          const dataTable =\n",
              "            await google.colab.kernel.invokeFunction('convertToInteractive',\n",
              "                                                     [key], {});\n",
              "          if (!dataTable) return;\n",
              "\n",
              "          const docLinkHtml = 'Like what you see? Visit the ' +\n",
              "            '<a target=\"_blank\" href=https://colab.research.google.com/notebooks/data_table.ipynb>data table notebook</a>'\n",
              "            + ' to learn more about interactive tables.';\n",
              "          element.innerHTML = '';\n",
              "          dataTable['output_type'] = 'display_data';\n",
              "          await google.colab.output.renderOutput(dataTable, element);\n",
              "          const docLink = document.createElement('div');\n",
              "          docLink.innerHTML = docLinkHtml;\n",
              "          element.appendChild(docLink);\n",
              "        }\n",
              "      </script>\n",
              "    </div>\n",
              "  </div>\n",
              "  "
            ]
          },
          "metadata": {},
          "execution_count": 33
        }
      ]
    },
    {
      "cell_type": "code",
      "source": [
        "# 포스팅의 내용\n",
        "# df['posts'][0]"
      ],
      "metadata": {
        "execution": {
          "iopub.status.busy": "2022-01-23T18:31:30.547341Z",
          "iopub.execute_input": "2022-01-23T18:31:30.548323Z",
          "iopub.status.idle": "2022-01-23T18:31:30.555767Z",
          "shell.execute_reply.started": "2022-01-23T18:31:30.548278Z",
          "shell.execute_reply": "2022-01-23T18:31:30.554946Z"
        },
        "trusted": true,
        "colab": {
          "base_uri": "https://localhost:8080/",
          "height": 179
        },
        "id": "oep7z0c_6Z3Z",
        "outputId": "59c8a219-5945-4976-8438-9d878c96ec7a"
      },
      "execution_count": 5,
      "outputs": [
        {
          "output_type": "execute_result",
          "data": {
            "text/plain": [
              "'know intj tool use interaction people excuse antisocial truly enlighten mastermind know would count pet peeze something time matter people either whether group people mall never see best friend sit outside conversation jsut listen want interject sit formulate say wait inject argument thought find fascinate sit watch people talk people fascinate sit class watch different people find intrigue dad intj u stand look like line safeway watch people home talk people like think military job people voluntarily go job important show deference endanger live glorify way civilian think pretty ignorant general think military necessary defense mechanism political tactic feel like u specifically invest much money could put money education whatnot though personally sound budget aernative really comment one way base two politician eye year ago come name somewhat important kinda role model nowadays pick keep score individual level mean little vary accord number condition day may score high others low sweat really good cast physiotherapist like fiberglass cast break arm whatever sometimes want take picture beast put someone arm sadly people blind brilliance need tell directly wave arm frantically totally beyond oblivious get good eye contact help lot start find like attention get opposite sex notice however gay men tend little aggressive always walk away flatter like alcohol bad start generally keep go pas run money even mention fact crave cocaine drink political power mainly desire form power okay status still never study day life never learn study feel like real whatever reason college prepare recieve people like depend career introductory course help start rid bike write essay etc choose career least stimulate mind expand perspective reality without college like kiss sound ear yup roll end quite strange confession time mind wish people le judgemental self perceive flaw run situation person confess something expect judge one way another freak realize judge gasp human interpret acknowledgement sign terrible person agree bad impulse ditch safe place quickly become somewhere dump emotional trash gui free interest play role mind noise midnight still go make really cranky lol already know autistic even know asd associate intj people mind two even remotely similar card conspiracy hallmark post office long enough people whether individual people government conglomerate corporation understand biodiversity something need fund even though make money instead insurance policy fine aka negative external form cost need separate positive surplus cost much thing like seed bank visualize cost percent farm benefit cost yet need fund separately individual farmer individual farmer corporation think well someone else people free rider problem seed bank never get set stuff like government capitalism may provide innovation government set regulation prevent negative consequence unintentional externality seed bank get set half thousand differents solution perhaps general tax commerce usage fee similar california recycle fee electronics form donation pledge system regardless need get seed bank get expert truely know enough need biodiversity seed farm whether enough seed farm different location properly fund amp bsp say expert know enough due single college class involve economics say economic class involve lot history use case study green revolution'"
            ],
            "application/vnd.google.colaboratory.intrinsic+json": {
              "type": "string"
            }
          },
          "metadata": {},
          "execution_count": 5
        }
      ]
    },
    {
      "cell_type": "code",
      "source": [
        "# mbti \n",
        "# df['type'][0]"
      ],
      "metadata": {
        "execution": {
          "iopub.status.busy": "2022-01-23T18:31:30.556895Z",
          "iopub.execute_input": "2022-01-23T18:31:30.557113Z",
          "iopub.status.idle": "2022-01-23T18:31:30.56579Z",
          "shell.execute_reply.started": "2022-01-23T18:31:30.557086Z",
          "shell.execute_reply": "2022-01-23T18:31:30.564969Z"
        },
        "trusted": true,
        "colab": {
          "base_uri": "https://localhost:8080/",
          "height": 36
        },
        "id": "bfJYuaJW6Z3Z",
        "outputId": "e892c5f1-b606-42f6-ee35-cfa595f88245"
      },
      "execution_count": 6,
      "outputs": [
        {
          "output_type": "execute_result",
          "data": {
            "text/plain": [
              "'INTJ'"
            ],
            "application/vnd.google.colaboratory.intrinsic+json": {
              "type": "string"
            }
          },
          "metadata": {},
          "execution_count": 6
        }
      ]
    },
    {
      "cell_type": "code",
      "source": [
        "# df['type'].unique()"
      ],
      "metadata": {
        "execution": {
          "iopub.status.busy": "2022-01-23T18:31:30.566987Z",
          "iopub.execute_input": "2022-01-23T18:31:30.567321Z",
          "iopub.status.idle": "2022-01-23T18:31:30.58601Z",
          "shell.execute_reply.started": "2022-01-23T18:31:30.567286Z",
          "shell.execute_reply": "2022-01-23T18:31:30.585299Z"
        },
        "trusted": true,
        "colab": {
          "base_uri": "https://localhost:8080/"
        },
        "id": "V5PlEk2m6Z3Z",
        "outputId": "84d0b391-6fe9-4a64-a594-70ad181ac405"
      },
      "execution_count": null,
      "outputs": [
        {
          "output_type": "execute_result",
          "data": {
            "text/plain": [
              "array(['INTJ', 'INTP', 'ISFJ', 'ISFP', 'ISTJ', 'ISTP', 'ENFJ', 'ENFP',\n",
              "       'ENTJ', 'ENTP', 'ESFJ', 'ESFP', 'ESTJ', 'ESTP', 'INFJ', 'INFP'],\n",
              "      dtype=object)"
            ]
          },
          "metadata": {},
          "execution_count": 7
        }
      ]
    },
    {
      "cell_type": "code",
      "source": [
        "# print(f\"Total of {len(df['type'].unique())} types of classified MBTI posts\")"
      ],
      "metadata": {
        "execution": {
          "iopub.status.busy": "2022-01-23T18:31:30.587269Z",
          "iopub.execute_input": "2022-01-23T18:31:30.587658Z",
          "iopub.status.idle": "2022-01-23T18:31:30.602614Z",
          "shell.execute_reply.started": "2022-01-23T18:31:30.587625Z",
          "shell.execute_reply": "2022-01-23T18:31:30.601434Z"
        },
        "trusted": true,
        "colab": {
          "base_uri": "https://localhost:8080/"
        },
        "id": "Lz90L5NN6Z3Z",
        "outputId": "e3fcc5b5-3693-4ea3-a848-4109a401bdc6"
      },
      "execution_count": null,
      "outputs": [
        {
          "output_type": "stream",
          "name": "stdout",
          "text": [
            "Total of 16 types of classified MBTI posts\n"
          ]
        }
      ]
    },
    {
      "cell_type": "markdown",
      "source": [
        "# Checking null values"
      ],
      "metadata": {
        "id": "KJNKeBSz6Z3a"
      }
    },
    {
      "cell_type": "code",
      "source": [
        "# df.isnull().sum()"
      ],
      "metadata": {
        "execution": {
          "iopub.status.busy": "2022-01-23T18:31:30.603664Z",
          "iopub.execute_input": "2022-01-23T18:31:30.604293Z",
          "iopub.status.idle": "2022-01-23T18:31:30.644352Z",
          "shell.execute_reply.started": "2022-01-23T18:31:30.604258Z",
          "shell.execute_reply": "2022-01-23T18:31:30.643677Z"
        },
        "trusted": true,
        "colab": {
          "base_uri": "https://localhost:8080/"
        },
        "id": "QVwt7LkP6Z3a",
        "outputId": "08ec098c-eace-40b0-c8a5-e3f3fa8e9e96"
      },
      "execution_count": null,
      "outputs": [
        {
          "output_type": "execute_result",
          "data": {
            "text/plain": [
              "posts    0\n",
              "type     0\n",
              "dtype: int64"
            ]
          },
          "metadata": {},
          "execution_count": 9
        }
      ]
    },
    {
      "cell_type": "markdown",
      "source": [
        "# Checking the number of posts per type"
      ],
      "metadata": {
        "id": "nYaeGd8B6Z3a"
      }
    },
    {
      "cell_type": "code",
      "source": [
        "# Mbti 분포\n",
        "df_bar_chart=dftest.groupby('mbti').count()\n",
        "\n",
        "\n",
        "trace1 = go.Bar(x=df_bar_chart.index, y=df_bar_chart['NAVER'])\n",
        "\n",
        "data = [trace1]\n",
        "layout = go.Layout(title='MBTI # Classified Posts per Type')\n",
        "\n",
        "fig = go.Figure(data=data, layout=layout)\n",
        "\n",
        "fig.show()"
      ],
      "metadata": {
        "execution": {
          "iopub.status.busy": "2022-01-23T18:31:30.645533Z",
          "iopub.execute_input": "2022-01-23T18:31:30.64645Z",
          "iopub.status.idle": "2022-01-23T18:31:30.732156Z",
          "shell.execute_reply.started": "2022-01-23T18:31:30.646406Z",
          "shell.execute_reply": "2022-01-23T18:31:30.73109Z"
        },
        "trusted": true,
        "colab": {
          "base_uri": "https://localhost:8080/",
          "height": 542
        },
        "id": "gzD-Nuod6Z3a",
        "outputId": "087cb2fe-81fa-4435-abbe-1f9099a9819c"
      },
      "execution_count": 34,
      "outputs": [
        {
          "output_type": "display_data",
          "data": {
            "text/html": [
              "<html>\n",
              "<head><meta charset=\"utf-8\" /></head>\n",
              "<body>\n",
              "    <div>            <script src=\"https://cdnjs.cloudflare.com/ajax/libs/mathjax/2.7.5/MathJax.js?config=TeX-AMS-MML_SVG\"></script><script type=\"text/javascript\">if (window.MathJax) {MathJax.Hub.Config({SVG: {font: \"STIX-Web\"}});}</script>                <script type=\"text/javascript\">window.PlotlyConfig = {MathJaxConfig: 'local'};</script>\n",
              "        <script src=\"https://cdn.plot.ly/plotly-2.8.3.min.js\"></script>                <div id=\"88fc3d94-3462-4845-87a6-23bfb6847432\" class=\"plotly-graph-div\" style=\"height:525px; width:100%;\"></div>            <script type=\"text/javascript\">                                    window.PLOTLYENV=window.PLOTLYENV || {};                                    if (document.getElementById(\"88fc3d94-3462-4845-87a6-23bfb6847432\")) {                    Plotly.newPlot(                        \"88fc3d94-3462-4845-87a6-23bfb6847432\",                        [{\"x\":[\"enfj\",\"enfp\",\"entj\",\"infj\",\"isfp\"],\"y\":[41,78,72,29,119],\"type\":\"bar\"}],                        {\"title\":{\"text\":\"MBTI # Classified Posts per Type\"},\"template\":{\"data\":{\"bar\":[{\"error_x\":{\"color\":\"#2a3f5f\"},\"error_y\":{\"color\":\"#2a3f5f\"},\"marker\":{\"line\":{\"color\":\"#E5ECF6\",\"width\":0.5},\"pattern\":{\"fillmode\":\"overlay\",\"size\":10,\"solidity\":0.2}},\"type\":\"bar\"}],\"barpolar\":[{\"marker\":{\"line\":{\"color\":\"#E5ECF6\",\"width\":0.5},\"pattern\":{\"fillmode\":\"overlay\",\"size\":10,\"solidity\":0.2}},\"type\":\"barpolar\"}],\"carpet\":[{\"aaxis\":{\"endlinecolor\":\"#2a3f5f\",\"gridcolor\":\"white\",\"linecolor\":\"white\",\"minorgridcolor\":\"white\",\"startlinecolor\":\"#2a3f5f\"},\"baxis\":{\"endlinecolor\":\"#2a3f5f\",\"gridcolor\":\"white\",\"linecolor\":\"white\",\"minorgridcolor\":\"white\",\"startlinecolor\":\"#2a3f5f\"},\"type\":\"carpet\"}],\"choropleth\":[{\"colorbar\":{\"outlinewidth\":0,\"ticks\":\"\"},\"type\":\"choropleth\"}],\"contour\":[{\"colorbar\":{\"outlinewidth\":0,\"ticks\":\"\"},\"colorscale\":[[0.0,\"#0d0887\"],[0.1111111111111111,\"#46039f\"],[0.2222222222222222,\"#7201a8\"],[0.3333333333333333,\"#9c179e\"],[0.4444444444444444,\"#bd3786\"],[0.5555555555555556,\"#d8576b\"],[0.6666666666666666,\"#ed7953\"],[0.7777777777777778,\"#fb9f3a\"],[0.8888888888888888,\"#fdca26\"],[1.0,\"#f0f921\"]],\"type\":\"contour\"}],\"contourcarpet\":[{\"colorbar\":{\"outlinewidth\":0,\"ticks\":\"\"},\"type\":\"contourcarpet\"}],\"heatmap\":[{\"colorbar\":{\"outlinewidth\":0,\"ticks\":\"\"},\"colorscale\":[[0.0,\"#0d0887\"],[0.1111111111111111,\"#46039f\"],[0.2222222222222222,\"#7201a8\"],[0.3333333333333333,\"#9c179e\"],[0.4444444444444444,\"#bd3786\"],[0.5555555555555556,\"#d8576b\"],[0.6666666666666666,\"#ed7953\"],[0.7777777777777778,\"#fb9f3a\"],[0.8888888888888888,\"#fdca26\"],[1.0,\"#f0f921\"]],\"type\":\"heatmap\"}],\"heatmapgl\":[{\"colorbar\":{\"outlinewidth\":0,\"ticks\":\"\"},\"colorscale\":[[0.0,\"#0d0887\"],[0.1111111111111111,\"#46039f\"],[0.2222222222222222,\"#7201a8\"],[0.3333333333333333,\"#9c179e\"],[0.4444444444444444,\"#bd3786\"],[0.5555555555555556,\"#d8576b\"],[0.6666666666666666,\"#ed7953\"],[0.7777777777777778,\"#fb9f3a\"],[0.8888888888888888,\"#fdca26\"],[1.0,\"#f0f921\"]],\"type\":\"heatmapgl\"}],\"histogram\":[{\"marker\":{\"pattern\":{\"fillmode\":\"overlay\",\"size\":10,\"solidity\":0.2}},\"type\":\"histogram\"}],\"histogram2d\":[{\"colorbar\":{\"outlinewidth\":0,\"ticks\":\"\"},\"colorscale\":[[0.0,\"#0d0887\"],[0.1111111111111111,\"#46039f\"],[0.2222222222222222,\"#7201a8\"],[0.3333333333333333,\"#9c179e\"],[0.4444444444444444,\"#bd3786\"],[0.5555555555555556,\"#d8576b\"],[0.6666666666666666,\"#ed7953\"],[0.7777777777777778,\"#fb9f3a\"],[0.8888888888888888,\"#fdca26\"],[1.0,\"#f0f921\"]],\"type\":\"histogram2d\"}],\"histogram2dcontour\":[{\"colorbar\":{\"outlinewidth\":0,\"ticks\":\"\"},\"colorscale\":[[0.0,\"#0d0887\"],[0.1111111111111111,\"#46039f\"],[0.2222222222222222,\"#7201a8\"],[0.3333333333333333,\"#9c179e\"],[0.4444444444444444,\"#bd3786\"],[0.5555555555555556,\"#d8576b\"],[0.6666666666666666,\"#ed7953\"],[0.7777777777777778,\"#fb9f3a\"],[0.8888888888888888,\"#fdca26\"],[1.0,\"#f0f921\"]],\"type\":\"histogram2dcontour\"}],\"mesh3d\":[{\"colorbar\":{\"outlinewidth\":0,\"ticks\":\"\"},\"type\":\"mesh3d\"}],\"parcoords\":[{\"line\":{\"colorbar\":{\"outlinewidth\":0,\"ticks\":\"\"}},\"type\":\"parcoords\"}],\"pie\":[{\"automargin\":true,\"type\":\"pie\"}],\"scatter\":[{\"marker\":{\"colorbar\":{\"outlinewidth\":0,\"ticks\":\"\"}},\"type\":\"scatter\"}],\"scatter3d\":[{\"line\":{\"colorbar\":{\"outlinewidth\":0,\"ticks\":\"\"}},\"marker\":{\"colorbar\":{\"outlinewidth\":0,\"ticks\":\"\"}},\"type\":\"scatter3d\"}],\"scattercarpet\":[{\"marker\":{\"colorbar\":{\"outlinewidth\":0,\"ticks\":\"\"}},\"type\":\"scattercarpet\"}],\"scattergeo\":[{\"marker\":{\"colorbar\":{\"outlinewidth\":0,\"ticks\":\"\"}},\"type\":\"scattergeo\"}],\"scattergl\":[{\"marker\":{\"colorbar\":{\"outlinewidth\":0,\"ticks\":\"\"}},\"type\":\"scattergl\"}],\"scattermapbox\":[{\"marker\":{\"colorbar\":{\"outlinewidth\":0,\"ticks\":\"\"}},\"type\":\"scattermapbox\"}],\"scatterpolar\":[{\"marker\":{\"colorbar\":{\"outlinewidth\":0,\"ticks\":\"\"}},\"type\":\"scatterpolar\"}],\"scatterpolargl\":[{\"marker\":{\"colorbar\":{\"outlinewidth\":0,\"ticks\":\"\"}},\"type\":\"scatterpolargl\"}],\"scatterternary\":[{\"marker\":{\"colorbar\":{\"outlinewidth\":0,\"ticks\":\"\"}},\"type\":\"scatterternary\"}],\"surface\":[{\"colorbar\":{\"outlinewidth\":0,\"ticks\":\"\"},\"colorscale\":[[0.0,\"#0d0887\"],[0.1111111111111111,\"#46039f\"],[0.2222222222222222,\"#7201a8\"],[0.3333333333333333,\"#9c179e\"],[0.4444444444444444,\"#bd3786\"],[0.5555555555555556,\"#d8576b\"],[0.6666666666666666,\"#ed7953\"],[0.7777777777777778,\"#fb9f3a\"],[0.8888888888888888,\"#fdca26\"],[1.0,\"#f0f921\"]],\"type\":\"surface\"}],\"table\":[{\"cells\":{\"fill\":{\"color\":\"#EBF0F8\"},\"line\":{\"color\":\"white\"}},\"header\":{\"fill\":{\"color\":\"#C8D4E3\"},\"line\":{\"color\":\"white\"}},\"type\":\"table\"}]},\"layout\":{\"annotationdefaults\":{\"arrowcolor\":\"#2a3f5f\",\"arrowhead\":0,\"arrowwidth\":1},\"autotypenumbers\":\"strict\",\"coloraxis\":{\"colorbar\":{\"outlinewidth\":0,\"ticks\":\"\"}},\"colorscale\":{\"diverging\":[[0,\"#8e0152\"],[0.1,\"#c51b7d\"],[0.2,\"#de77ae\"],[0.3,\"#f1b6da\"],[0.4,\"#fde0ef\"],[0.5,\"#f7f7f7\"],[0.6,\"#e6f5d0\"],[0.7,\"#b8e186\"],[0.8,\"#7fbc41\"],[0.9,\"#4d9221\"],[1,\"#276419\"]],\"sequential\":[[0.0,\"#0d0887\"],[0.1111111111111111,\"#46039f\"],[0.2222222222222222,\"#7201a8\"],[0.3333333333333333,\"#9c179e\"],[0.4444444444444444,\"#bd3786\"],[0.5555555555555556,\"#d8576b\"],[0.6666666666666666,\"#ed7953\"],[0.7777777777777778,\"#fb9f3a\"],[0.8888888888888888,\"#fdca26\"],[1.0,\"#f0f921\"]],\"sequentialminus\":[[0.0,\"#0d0887\"],[0.1111111111111111,\"#46039f\"],[0.2222222222222222,\"#7201a8\"],[0.3333333333333333,\"#9c179e\"],[0.4444444444444444,\"#bd3786\"],[0.5555555555555556,\"#d8576b\"],[0.6666666666666666,\"#ed7953\"],[0.7777777777777778,\"#fb9f3a\"],[0.8888888888888888,\"#fdca26\"],[1.0,\"#f0f921\"]]},\"colorway\":[\"#636efa\",\"#EF553B\",\"#00cc96\",\"#ab63fa\",\"#FFA15A\",\"#19d3f3\",\"#FF6692\",\"#B6E880\",\"#FF97FF\",\"#FECB52\"],\"font\":{\"color\":\"#2a3f5f\"},\"geo\":{\"bgcolor\":\"white\",\"lakecolor\":\"white\",\"landcolor\":\"#E5ECF6\",\"showlakes\":true,\"showland\":true,\"subunitcolor\":\"white\"},\"hoverlabel\":{\"align\":\"left\"},\"hovermode\":\"closest\",\"mapbox\":{\"style\":\"light\"},\"paper_bgcolor\":\"white\",\"plot_bgcolor\":\"#E5ECF6\",\"polar\":{\"angularaxis\":{\"gridcolor\":\"white\",\"linecolor\":\"white\",\"ticks\":\"\"},\"bgcolor\":\"#E5ECF6\",\"radialaxis\":{\"gridcolor\":\"white\",\"linecolor\":\"white\",\"ticks\":\"\"}},\"scene\":{\"xaxis\":{\"backgroundcolor\":\"#E5ECF6\",\"gridcolor\":\"white\",\"gridwidth\":2,\"linecolor\":\"white\",\"showbackground\":true,\"ticks\":\"\",\"zerolinecolor\":\"white\"},\"yaxis\":{\"backgroundcolor\":\"#E5ECF6\",\"gridcolor\":\"white\",\"gridwidth\":2,\"linecolor\":\"white\",\"showbackground\":true,\"ticks\":\"\",\"zerolinecolor\":\"white\"},\"zaxis\":{\"backgroundcolor\":\"#E5ECF6\",\"gridcolor\":\"white\",\"gridwidth\":2,\"linecolor\":\"white\",\"showbackground\":true,\"ticks\":\"\",\"zerolinecolor\":\"white\"}},\"shapedefaults\":{\"line\":{\"color\":\"#2a3f5f\"}},\"ternary\":{\"aaxis\":{\"gridcolor\":\"white\",\"linecolor\":\"white\",\"ticks\":\"\"},\"baxis\":{\"gridcolor\":\"white\",\"linecolor\":\"white\",\"ticks\":\"\"},\"bgcolor\":\"#E5ECF6\",\"caxis\":{\"gridcolor\":\"white\",\"linecolor\":\"white\",\"ticks\":\"\"}},\"title\":{\"x\":0.05},\"xaxis\":{\"automargin\":true,\"gridcolor\":\"white\",\"linecolor\":\"white\",\"ticks\":\"\",\"title\":{\"standoff\":15},\"zerolinecolor\":\"white\",\"zerolinewidth\":2},\"yaxis\":{\"automargin\":true,\"gridcolor\":\"white\",\"linecolor\":\"white\",\"ticks\":\"\",\"title\":{\"standoff\":15},\"zerolinecolor\":\"white\",\"zerolinewidth\":2}}}},                        {\"responsive\": true}                    ).then(function(){\n",
              "                            \n",
              "var gd = document.getElementById('88fc3d94-3462-4845-87a6-23bfb6847432');\n",
              "var x = new MutationObserver(function (mutations, observer) {{\n",
              "        var display = window.getComputedStyle(gd).display;\n",
              "        if (!display || display === 'none') {{\n",
              "            console.log([gd, 'removed!']);\n",
              "            Plotly.purge(gd);\n",
              "            observer.disconnect();\n",
              "        }}\n",
              "}});\n",
              "\n",
              "// Listen for the removal of the full notebook cells\n",
              "var notebookContainer = gd.closest('#notebook-container');\n",
              "if (notebookContainer) {{\n",
              "    x.observe(notebookContainer, {childList: true});\n",
              "}}\n",
              "\n",
              "// Listen for the clearing of the current output cell\n",
              "var outputEl = gd.closest('.output');\n",
              "if (outputEl) {{\n",
              "    x.observe(outputEl, {childList: true});\n",
              "}}\n",
              "\n",
              "                        })                };                            </script>        </div>\n",
              "</body>\n",
              "</html>"
            ]
          },
          "metadata": {}
        }
      ]
    },
    {
      "cell_type": "markdown",
      "source": [
        "# Recreate the model?"
      ],
      "metadata": {
        "id": "meFHt49O6Z3a"
      }
    },
    {
      "cell_type": "markdown",
      "source": [
        "This machine learning model takes it's time to train data\n",
        "\n",
        "To avoid waiting every time, We're going to use the feature dump/load from pickle"
      ],
      "metadata": {
        "id": "ovrDsnBb6Z3a"
      }
    },
    {
      "cell_type": "code",
      "source": [
        "# Flag to re-create or not the machine learning model\n",
        "recreate_model=False"
      ],
      "metadata": {
        "execution": {
          "iopub.status.busy": "2022-01-23T18:31:30.735437Z",
          "iopub.execute_input": "2022-01-23T18:31:30.73596Z",
          "iopub.status.idle": "2022-01-23T18:31:30.740889Z",
          "shell.execute_reply.started": "2022-01-23T18:31:30.735919Z",
          "shell.execute_reply": "2022-01-23T18:31:30.739896Z"
        },
        "trusted": true,
        "id": "I20AtnVa6Z3a"
      },
      "execution_count": 35,
      "outputs": []
    },
    {
      "cell_type": "code",
      "source": [
        "# We'll save the model into a file:\n",
        "filename = 'mbti_svm_v2.sav'"
      ],
      "metadata": {
        "execution": {
          "iopub.status.busy": "2022-01-23T18:31:30.742349Z",
          "iopub.execute_input": "2022-01-23T18:31:30.743064Z",
          "iopub.status.idle": "2022-01-23T18:31:30.750294Z",
          "shell.execute_reply.started": "2022-01-23T18:31:30.743029Z",
          "shell.execute_reply": "2022-01-23T18:31:30.749342Z"
        },
        "trusted": true,
        "id": "8bsbLu7v6Z3b"
      },
      "execution_count": 36,
      "outputs": []
    },
    {
      "cell_type": "code",
      "source": [
        "# If the model file doesn't exists\n",
        "if not os.path.isfile(filename):\n",
        "    recreate_model=True"
      ],
      "metadata": {
        "execution": {
          "iopub.status.busy": "2022-01-23T18:31:30.751839Z",
          "iopub.execute_input": "2022-01-23T18:31:30.752281Z",
          "iopub.status.idle": "2022-01-23T18:31:30.76255Z",
          "shell.execute_reply.started": "2022-01-23T18:31:30.752234Z",
          "shell.execute_reply": "2022-01-23T18:31:30.761587Z"
        },
        "trusted": true,
        "id": "vE0b7QL-6Z3b"
      },
      "execution_count": 37,
      "outputs": []
    },
    {
      "cell_type": "markdown",
      "source": [
        "# Model"
      ],
      "metadata": {
        "id": "UXg8DlMJ6Z3b"
      }
    },
    {
      "cell_type": "markdown",
      "source": [
        "The machine learning supervised model that we'll use here is a Classification kind, named Support Vector Machine"
      ],
      "metadata": {
        "id": "7f3vANzN6Z3b"
      }
    },
    {
      "cell_type": "markdown",
      "source": [
        "References:\n",
        "\n",
        " - https://en.wikipedia.org/wiki/Support-vector_machine\n",
        "\n",
        "- https://scikit-learn.org/stable/modules/generated/sklearn.svm.LinearSVC.html#sklearn.svm.LinearSVC"
      ],
      "metadata": {
        "id": "fZf1n_F86Z3c"
      }
    },
    {
      "cell_type": "markdown",
      "source": [
        "### Model Pipeline"
      ],
      "metadata": {
        "id": "aRkMGKb46Z3c"
      }
    },
    {
      "cell_type": "markdown",
      "source": [
        "We're going to need a pipelined model ir order to facilitate the entire process of CountVectorizer (TfidfVectorizer) and svm.LinearSVC model"
      ],
      "metadata": {
        "id": "4ApXjLW16Z3c"
      }
    },
    {
      "cell_type": "markdown",
      "source": [
        "To do that, we're going to use the Pipeline feature from sklearn.pipeline\n",
        "\n",
        "References: https://scikit-learn.org/stable/modules/generated/sklearn.pipeline.Pipeline.html"
      ],
      "metadata": {
        "id": "ifTjaUHc6Z3c"
      }
    },
    {
      "cell_type": "markdown",
      "source": [
        "# Split the data into train and test"
      ],
      "metadata": {
        "id": "0_fyyQyb6Z3d"
      }
    },
    {
      "cell_type": "code",
      "source": [
        "# 데이터셋 중에서 심볼이나 url 등을 지운다\n",
        "def clean_text(data):\n",
        "    data_length=[]\n",
        "    lemmatizer=WordNetLemmatizer()\n",
        "    cleaned_text=[]\n",
        "    # for sentence in tqdm(data.posts):\n",
        "    for sentence in tqdm(data.NAVER):\n",
        "        sentence=sentence.lower()\n",
        "        \n",
        "        # url 등을 지운다\n",
        "        sentence=re.sub('https?://[^\\s<>\"]+|www\\.[^\\s<>\"]+',' ',sentence)\n",
        "    \n",
        "        # 글자가 아닌 심볼들을 지운다\n",
        "        sentence=re.sub('[^0-9a-z]',' ',sentence)\n",
        "    \n",
        "        data_length.append(len(sentence.split()))\n",
        "        cleaned_text.append(sentence)\n",
        "    return cleaned_text"
      ],
      "metadata": {
        "id": "diXG5DlWojjg"
      },
      "execution_count": 38,
      "outputs": []
    },
    {
      "cell_type": "code",
      "source": [
        "# 데이터 전처리\n",
        "dftest.posts = clean_text(dftest)\n",
        "dftest"
      ],
      "metadata": {
        "colab": {
          "base_uri": "https://localhost:8080/",
          "height": 730,
          "referenced_widgets": [
            "3dce94ea78294b84afa75298b302b90f",
            "acd93d68b1034eb89acb2f16209644ae",
            "ad5ca3b8b73149678af3fc5b9aa9f849",
            "1b76f781eda740fa8c10f8a0aff5305a",
            "47617287622743f4be5b065f0e6f210d",
            "2af9ba2981614c798e5aa80290f3e75b",
            "0df4b6478a774a1fa7555d0a82036b8a",
            "f982401d86be48f4bc166b3319f9906d",
            "5b1705b4166f4251bc6fe3f96184dcd3",
            "0168802d81e74c1a890be3c24887062a",
            "8907ec0f10c748fb967e9761b345be34"
          ]
        },
        "id": "cUKL9jFhomT9",
        "outputId": "24c0f071-ff1e-488c-c142-7f3743bb73ff"
      },
      "execution_count": 39,
      "outputs": [
        {
          "output_type": "display_data",
          "data": {
            "text/plain": [
              "  0%|          | 0/339 [00:00<?, ?it/s]"
            ],
            "application/vnd.jupyter.widget-view+json": {
              "version_major": 2,
              "version_minor": 0,
              "model_id": "3dce94ea78294b84afa75298b302b90f"
            }
          },
          "metadata": {}
        },
        {
          "output_type": "stream",
          "name": "stderr",
          "text": [
            "/usr/local/lib/python3.7/dist-packages/ipykernel_launcher.py:2: UserWarning:\n",
            "\n",
            "Pandas doesn't allow columns to be created via a new attribute name - see https://pandas.pydata.org/pandas-docs/stable/indexing.html#attribute-access\n",
            "\n"
          ]
        },
        {
          "output_type": "execute_result",
          "data": {
            "text/plain": [
              "     Unnamed: 0                                               text  \\\n",
              "0             0            안녕하세요! 앞으로 함께 프로젝트를 진행하게 될 3팀입니다! 반가워요!   \n",
              "1             1  안지오님이랑 빙창선님은 개인 사정으로 수업을 그만 들으신다고 합니다! 그리고 오늘 ...   \n",
              "2             2          아 그리고 프로젝트 1,2 는 팀별로 구분된다고 합니다! 링크보내드릴게요!   \n",
              "3             3                                 지금 라이브 강의 하고 있나요…?   \n",
              "4             4  여러분! 오늘까지는 팀장을 정해서 프로젝트 페이지 안에 있는 템플릿이나 기록을 진행...   \n",
              "..          ...                                                ...   \n",
              "334         334                  6 번 공통의견에 ~~같앗습니다 말고 있었습니다! 어떻습니까   \n",
              "335         335          사다리뽑기로 이런 팀장님 뽑다니, 앞으로 결정사항을 사다리뽑기많이해야겟어요   \n",
              "336         336                                저는 발표 이후에 다시 찾아뵐게요!   \n",
              "337         337                                            화이팅화이팅!   \n",
              "338         338                                배워 갈 수 있었습니다.로 변경하죠   \n",
              "\n",
              "                                                    EN  \\\n",
              "0    Good day to you too! We are the three teams th...   \n",
              "1    I heard that the director and the Hwajangseon ...   \n",
              "2    Oh, and the 1/2 project is called a team! I'll...   \n",
              "3                 Are you currently on a live lecture?   \n",
              "4    You guys are the best! Until today, I'll have ...   \n",
              "..                                                 ...   \n",
              "334  I think it's good for a common sense six times...   \n",
              "335  I think we should pull this off by collecting ...   \n",
              "336             I'll come back after the presentation!   \n",
              "337                         We are having a great day!   \n",
              "338  I was able to learn. Let's change it to someth...   \n",
              "\n",
              "                                                 NAVER  mbti  \n",
              "0    Hello! We are the 3 teams who will work on the...  enfj  \n",
              "1    Anjio and Bingchangsun are going to stop takin...  enfj  \n",
              "2    And project 1 and 2 are divided into teams! I'...  enfj  \n",
              "3                Are you giving a live lecture now...?  enfj  \n",
              "4    Ladies and Gentlemen! By today, we need to sel...  enfj  \n",
              "..                                                 ...   ...  \n",
              "334  No.6. It's the same as the common opinion I di...  entj  \n",
              "335  I can't believe I'm picking a team leader like...  entj  \n",
              "336             I'll come back after the presentation!  entj  \n",
              "337                                Fighting, fighting!  entj  \n",
              "338            I was able to learn. Let's change it to  entj  \n",
              "\n",
              "[339 rows x 5 columns]"
            ],
            "text/html": [
              "\n",
              "  <div id=\"df-5c3edf0b-a73b-43ae-abaf-8cfee0e9a654\">\n",
              "    <div class=\"colab-df-container\">\n",
              "      <div>\n",
              "<style scoped>\n",
              "    .dataframe tbody tr th:only-of-type {\n",
              "        vertical-align: middle;\n",
              "    }\n",
              "\n",
              "    .dataframe tbody tr th {\n",
              "        vertical-align: top;\n",
              "    }\n",
              "\n",
              "    .dataframe thead th {\n",
              "        text-align: right;\n",
              "    }\n",
              "</style>\n",
              "<table border=\"1\" class=\"dataframe\">\n",
              "  <thead>\n",
              "    <tr style=\"text-align: right;\">\n",
              "      <th></th>\n",
              "      <th>Unnamed: 0</th>\n",
              "      <th>text</th>\n",
              "      <th>EN</th>\n",
              "      <th>NAVER</th>\n",
              "      <th>mbti</th>\n",
              "    </tr>\n",
              "  </thead>\n",
              "  <tbody>\n",
              "    <tr>\n",
              "      <th>0</th>\n",
              "      <td>0</td>\n",
              "      <td>안녕하세요! 앞으로 함께 프로젝트를 진행하게 될 3팀입니다! 반가워요!</td>\n",
              "      <td>Good day to you too! We are the three teams th...</td>\n",
              "      <td>Hello! We are the 3 teams who will work on the...</td>\n",
              "      <td>enfj</td>\n",
              "    </tr>\n",
              "    <tr>\n",
              "      <th>1</th>\n",
              "      <td>1</td>\n",
              "      <td>안지오님이랑 빙창선님은 개인 사정으로 수업을 그만 들으신다고 합니다! 그리고 오늘 ...</td>\n",
              "      <td>I heard that the director and the Hwajangseon ...</td>\n",
              "      <td>Anjio and Bingchangsun are going to stop takin...</td>\n",
              "      <td>enfj</td>\n",
              "    </tr>\n",
              "    <tr>\n",
              "      <th>2</th>\n",
              "      <td>2</td>\n",
              "      <td>아 그리고 프로젝트 1,2 는 팀별로 구분된다고 합니다! 링크보내드릴게요!</td>\n",
              "      <td>Oh, and the 1/2 project is called a team! I'll...</td>\n",
              "      <td>And project 1 and 2 are divided into teams! I'...</td>\n",
              "      <td>enfj</td>\n",
              "    </tr>\n",
              "    <tr>\n",
              "      <th>3</th>\n",
              "      <td>3</td>\n",
              "      <td>지금 라이브 강의 하고 있나요…?</td>\n",
              "      <td>Are you currently on a live lecture?</td>\n",
              "      <td>Are you giving a live lecture now...?</td>\n",
              "      <td>enfj</td>\n",
              "    </tr>\n",
              "    <tr>\n",
              "      <th>4</th>\n",
              "      <td>4</td>\n",
              "      <td>여러분! 오늘까지는 팀장을 정해서 프로젝트 페이지 안에 있는 템플릿이나 기록을 진행...</td>\n",
              "      <td>You guys are the best! Until today, I'll have ...</td>\n",
              "      <td>Ladies and Gentlemen! By today, we need to sel...</td>\n",
              "      <td>enfj</td>\n",
              "    </tr>\n",
              "    <tr>\n",
              "      <th>...</th>\n",
              "      <td>...</td>\n",
              "      <td>...</td>\n",
              "      <td>...</td>\n",
              "      <td>...</td>\n",
              "      <td>...</td>\n",
              "    </tr>\n",
              "    <tr>\n",
              "      <th>334</th>\n",
              "      <td>334</td>\n",
              "      <td>6 번 공통의견에 ~~같앗습니다 말고 있었습니다! 어떻습니까</td>\n",
              "      <td>I think it's good for a common sense six times...</td>\n",
              "      <td>No.6. It's the same as the common opinion I di...</td>\n",
              "      <td>entj</td>\n",
              "    </tr>\n",
              "    <tr>\n",
              "      <th>335</th>\n",
              "      <td>335</td>\n",
              "      <td>사다리뽑기로 이런 팀장님 뽑다니, 앞으로 결정사항을 사다리뽑기많이해야겟어요</td>\n",
              "      <td>I think we should pull this off by collecting ...</td>\n",
              "      <td>I can't believe I'm picking a team leader like...</td>\n",
              "      <td>entj</td>\n",
              "    </tr>\n",
              "    <tr>\n",
              "      <th>336</th>\n",
              "      <td>336</td>\n",
              "      <td>저는 발표 이후에 다시 찾아뵐게요!</td>\n",
              "      <td>I'll come back after the presentation!</td>\n",
              "      <td>I'll come back after the presentation!</td>\n",
              "      <td>entj</td>\n",
              "    </tr>\n",
              "    <tr>\n",
              "      <th>337</th>\n",
              "      <td>337</td>\n",
              "      <td>화이팅화이팅!</td>\n",
              "      <td>We are having a great day!</td>\n",
              "      <td>Fighting, fighting!</td>\n",
              "      <td>entj</td>\n",
              "    </tr>\n",
              "    <tr>\n",
              "      <th>338</th>\n",
              "      <td>338</td>\n",
              "      <td>배워 갈 수 있었습니다.로 변경하죠</td>\n",
              "      <td>I was able to learn. Let's change it to someth...</td>\n",
              "      <td>I was able to learn. Let's change it to</td>\n",
              "      <td>entj</td>\n",
              "    </tr>\n",
              "  </tbody>\n",
              "</table>\n",
              "<p>339 rows × 5 columns</p>\n",
              "</div>\n",
              "      <button class=\"colab-df-convert\" onclick=\"convertToInteractive('df-5c3edf0b-a73b-43ae-abaf-8cfee0e9a654')\"\n",
              "              title=\"Convert this dataframe to an interactive table.\"\n",
              "              style=\"display:none;\">\n",
              "        \n",
              "  <svg xmlns=\"http://www.w3.org/2000/svg\" height=\"24px\"viewBox=\"0 0 24 24\"\n",
              "       width=\"24px\">\n",
              "    <path d=\"M0 0h24v24H0V0z\" fill=\"none\"/>\n",
              "    <path d=\"M18.56 5.44l.94 2.06.94-2.06 2.06-.94-2.06-.94-.94-2.06-.94 2.06-2.06.94zm-11 1L8.5 8.5l.94-2.06 2.06-.94-2.06-.94L8.5 2.5l-.94 2.06-2.06.94zm10 10l.94 2.06.94-2.06 2.06-.94-2.06-.94-.94-2.06-.94 2.06-2.06.94z\"/><path d=\"M17.41 7.96l-1.37-1.37c-.4-.4-.92-.59-1.43-.59-.52 0-1.04.2-1.43.59L10.3 9.45l-7.72 7.72c-.78.78-.78 2.05 0 2.83L4 21.41c.39.39.9.59 1.41.59.51 0 1.02-.2 1.41-.59l7.78-7.78 2.81-2.81c.8-.78.8-2.07 0-2.86zM5.41 20L4 18.59l7.72-7.72 1.47 1.35L5.41 20z\"/>\n",
              "  </svg>\n",
              "      </button>\n",
              "      \n",
              "  <style>\n",
              "    .colab-df-container {\n",
              "      display:flex;\n",
              "      flex-wrap:wrap;\n",
              "      gap: 12px;\n",
              "    }\n",
              "\n",
              "    .colab-df-convert {\n",
              "      background-color: #E8F0FE;\n",
              "      border: none;\n",
              "      border-radius: 50%;\n",
              "      cursor: pointer;\n",
              "      display: none;\n",
              "      fill: #1967D2;\n",
              "      height: 32px;\n",
              "      padding: 0 0 0 0;\n",
              "      width: 32px;\n",
              "    }\n",
              "\n",
              "    .colab-df-convert:hover {\n",
              "      background-color: #E2EBFA;\n",
              "      box-shadow: 0px 1px 2px rgba(60, 64, 67, 0.3), 0px 1px 3px 1px rgba(60, 64, 67, 0.15);\n",
              "      fill: #174EA6;\n",
              "    }\n",
              "\n",
              "    [theme=dark] .colab-df-convert {\n",
              "      background-color: #3B4455;\n",
              "      fill: #D2E3FC;\n",
              "    }\n",
              "\n",
              "    [theme=dark] .colab-df-convert:hover {\n",
              "      background-color: #434B5C;\n",
              "      box-shadow: 0px 1px 3px 1px rgba(0, 0, 0, 0.15);\n",
              "      filter: drop-shadow(0px 1px 2px rgba(0, 0, 0, 0.3));\n",
              "      fill: #FFFFFF;\n",
              "    }\n",
              "  </style>\n",
              "\n",
              "      <script>\n",
              "        const buttonEl =\n",
              "          document.querySelector('#df-5c3edf0b-a73b-43ae-abaf-8cfee0e9a654 button.colab-df-convert');\n",
              "        buttonEl.style.display =\n",
              "          google.colab.kernel.accessAllowed ? 'block' : 'none';\n",
              "\n",
              "        async function convertToInteractive(key) {\n",
              "          const element = document.querySelector('#df-5c3edf0b-a73b-43ae-abaf-8cfee0e9a654');\n",
              "          const dataTable =\n",
              "            await google.colab.kernel.invokeFunction('convertToInteractive',\n",
              "                                                     [key], {});\n",
              "          if (!dataTable) return;\n",
              "\n",
              "          const docLinkHtml = 'Like what you see? Visit the ' +\n",
              "            '<a target=\"_blank\" href=https://colab.research.google.com/notebooks/data_table.ipynb>data table notebook</a>'\n",
              "            + ' to learn more about interactive tables.';\n",
              "          element.innerHTML = '';\n",
              "          dataTable['output_type'] = 'display_data';\n",
              "          await google.colab.output.renderOutput(dataTable, element);\n",
              "          const docLink = document.createElement('div');\n",
              "          docLink.innerHTML = docLinkHtml;\n",
              "          element.appendChild(docLink);\n",
              "        }\n",
              "      </script>\n",
              "    </div>\n",
              "  </div>\n",
              "  "
            ]
          },
          "metadata": {},
          "execution_count": 39
        }
      ]
    },
    {
      "cell_type": "code",
      "source": [
        "# 데이터셋 하나로 train, validation 할 경우\n",
        "# X = df['posts'] # features\n",
        "# y = df['type']  # labels\n",
        "# X_train, X_test, y_train, y_test = train_test_split(X, y, test_size=0.2, random_state=42)"
      ],
      "metadata": {
        "execution": {
          "iopub.status.busy": "2022-01-23T18:31:30.763964Z",
          "iopub.execute_input": "2022-01-23T18:31:30.764926Z",
          "iopub.status.idle": "2022-01-23T18:31:30.799198Z",
          "shell.execute_reply.started": "2022-01-23T18:31:30.764881Z",
          "shell.execute_reply": "2022-01-23T18:31:30.798496Z"
        },
        "trusted": true,
        "id": "yGaI_T146Z3d"
      },
      "execution_count": null,
      "outputs": []
    },
    {
      "cell_type": "code",
      "source": [
        "# train set & test set\n",
        "\n",
        "X_train = df['posts'] # features\n",
        "y_train = df['type']  # labels\n",
        "\n",
        "X_test = dftest['NAVER']\n",
        "y_test = dftest['mbti']"
      ],
      "metadata": {
        "id": "pexhWfk_lzj8"
      },
      "execution_count": 40,
      "outputs": []
    },
    {
      "cell_type": "markdown",
      "source": [
        "# Training the model, save it to disk and open to make predictions"
      ],
      "metadata": {
        "id": "pg7R1r996Z3d"
      }
    },
    {
      "cell_type": "code",
      "source": [
        "# Check if need to recreate the model\n",
        "if recreate_model:    \n",
        "    \n",
        "    # Creating an instance to vectorizer:\n",
        "    vectorizer = TfidfVectorizer()\n",
        "    \n",
        "    # Training the vectorizer:\n",
        "    X_train_tfidf = vectorizer.fit_transform(X_train)\n",
        "    \n",
        "    # Training the classifier:\n",
        "    clf = LinearSVC()\n",
        "    clf.fit(X_train_tfidf, y_train)\n",
        "    \n",
        "    # Pipelining the vectorizer and the classifier\n",
        "    text_clf = Pipeline([('tfidf',TfidfVectorizer()),('clf',LinearSVC())])\n",
        "    text_clf.fit(X_train, y_train)\n",
        "    \n",
        "    # saving the model to disk\n",
        "    pickle.dump(text_clf, open(filename, 'wb'))\n",
        "\n",
        "# If there is no need to recreate the model, just open the file from the disk    \n",
        "else:\n",
        "    # loading the model from disk\n",
        "    text_clf = pickle.load(open(filename, 'rb'))"
      ],
      "metadata": {
        "execution": {
          "iopub.status.busy": "2022-01-23T18:31:30.800418Z",
          "iopub.execute_input": "2022-01-23T18:31:30.801173Z",
          "iopub.status.idle": "2022-01-23T18:31:30.967436Z",
          "shell.execute_reply.started": "2022-01-23T18:31:30.801132Z",
          "shell.execute_reply": "2022-01-23T18:31:30.966225Z"
        },
        "trusted": true,
        "id": "xV9DPutL6Z3d"
      },
      "execution_count": 41,
      "outputs": []
    },
    {
      "cell_type": "markdown",
      "source": [
        "# Using the test data to make predictions and analyze the accurace of the model"
      ],
      "metadata": {
        "id": "ccm12FV76Z3d"
      }
    },
    {
      "cell_type": "code",
      "source": [
        "predictions = text_clf.predict(X_test)"
      ],
      "metadata": {
        "execution": {
          "iopub.status.busy": "2022-01-23T18:31:30.96912Z",
          "iopub.execute_input": "2022-01-23T18:31:30.969414Z",
          "iopub.status.idle": "2022-01-23T18:31:44.041968Z",
          "shell.execute_reply.started": "2022-01-23T18:31:30.969379Z",
          "shell.execute_reply": "2022-01-23T18:31:44.041077Z"
        },
        "trusted": true,
        "id": "FawNzWL56Z3d"
      },
      "execution_count": 42,
      "outputs": []
    },
    {
      "cell_type": "code",
      "source": [
        "for i in range(len(predictions)):\n",
        "  y_test[i] = y_test[i].upper()\n",
        "  print(predictions[i],y_test[i])"
      ],
      "metadata": {
        "colab": {
          "base_uri": "https://localhost:8080/"
        },
        "id": "Wf3Dtv-eIUKj",
        "outputId": "c4132d65-32fc-4e7f-963d-96e8074d42dc"
      },
      "execution_count": 49,
      "outputs": [
        {
          "output_type": "stream",
          "name": "stdout",
          "text": [
            "INTJ ENFJ\n",
            "ESTP ENFJ\n",
            "ENTP ENFJ\n",
            "INFP ENFJ\n",
            "INTJ ENFJ\n",
            "INTJ ENFJ\n",
            "ENFP ENFJ\n",
            "INTP ENFJ\n",
            "ENTP ENFJ\n",
            "INTP ENFJ\n",
            "INTJ ENFJ\n",
            "INTP ENFJ\n",
            "ESTP ENFJ\n",
            "ISTJ ENFJ\n",
            "INFP ENFJ\n",
            "ESTP ENFJ\n",
            "INFP ENFJ\n",
            "INTJ ENFJ\n",
            "INFP ENFJ\n",
            "ESTP ENFJ\n",
            "INTJ ENFJ\n",
            "INTJ ENFJ\n",
            "ESTP ENFJ\n",
            "ISTJ ENFJ\n",
            "ISTJ ENFJ\n",
            "INTP ENFJ\n",
            "INFP ENFJ\n",
            "INTJ ENFJ\n",
            "INTP ENFJ\n",
            "ESTP ENFJ\n",
            "INTP ENFJ\n",
            "ENTP ENFJ\n",
            "ISTP ENFJ\n",
            "INTJ ENFJ\n",
            "INFJ ENFJ\n",
            "ESTP ENFJ\n",
            "ESTP ENFJ\n",
            "INFP ENFJ\n",
            "ENFP ENFJ\n",
            "INTP ENFJ\n",
            "INTP ENFJ\n",
            "INTJ INFJ\n",
            "ESTP INFJ\n",
            "ENFP INFJ\n",
            "INTP INFJ\n",
            "ENFP INFJ\n",
            "INTP INFJ\n",
            "INTP INFJ\n",
            "ENFP INFJ\n",
            "ESTP INFJ\n",
            "INTP INFJ\n",
            "INFP INFJ\n",
            "INFP INFJ\n",
            "INTP INFJ\n",
            "INTP INFJ\n",
            "ESTP INFJ\n",
            "INFP INFJ\n",
            "ESTP INFJ\n",
            "ESTP INFJ\n",
            "ENFP INFJ\n",
            "INTP INFJ\n",
            "ESTP INFJ\n",
            "ESTP INFJ\n",
            "INFP INFJ\n",
            "INTJ INFJ\n",
            "INFJ INFJ\n",
            "INTP INFJ\n",
            "INTP INFJ\n",
            "ENTJ INFJ\n",
            "INTP INFJ\n",
            "INFP ISFP\n",
            "INTJ ISFP\n",
            "ENFP ISFP\n",
            "ENTP ISFP\n",
            "INFP ISFP\n",
            "ESTP ISFP\n",
            "INTJ ISFP\n",
            "INTJ ISFP\n",
            "INTP ISFP\n",
            "ENFP ISFP\n",
            "INTP ISFP\n",
            "INTJ ISFP\n",
            "ESTP ISFP\n",
            "ENFP ISFP\n",
            "ESTP ISFP\n",
            "INFJ ISFP\n",
            "ESTP ISFP\n",
            "INTJ ISFP\n",
            "INFP ISFP\n",
            "INFP ISFP\n",
            "INFP ISFP\n",
            "ISTP ISFP\n",
            "ISTP ISFP\n",
            "ESTP ISFP\n",
            "INTP ISFP\n",
            "INFP ISFP\n",
            "INTP ISFP\n",
            "ESTP ISFP\n",
            "ENFP ISFP\n",
            "INTP ISFP\n",
            "INTP ISFP\n",
            "ENTP ISFP\n",
            "INTJ ISFP\n",
            "INTP ISFP\n",
            "INTP ISFP\n",
            "ESTP ISFP\n",
            "INFP ISFP\n",
            "INFP ISFP\n",
            "ESTP ISFP\n",
            "INTP ISFP\n",
            "INTP ISFP\n",
            "INTJ ISFP\n",
            "ENFP ISFP\n",
            "INFP ISFP\n",
            "ENFP ISFP\n",
            "ESTP ISFP\n",
            "ENTP ISFP\n",
            "INTJ ISFP\n",
            "INTP ISFP\n",
            "INTP ISFP\n",
            "ESTP ISFP\n",
            "INTP ISFP\n",
            "INTJ ISFP\n",
            "ESTP ISFP\n",
            "INFP ISFP\n",
            "ENTJ ISFP\n",
            "INTP ISFP\n",
            "INTJ ISFP\n",
            "ENTP ISFP\n",
            "ENTP ISFP\n",
            "INFP ISFP\n",
            "ESTP ISFP\n",
            "ISTP ISFP\n",
            "INTJ ISFP\n",
            "ESTP ISFP\n",
            "ENTJ ISFP\n",
            "INFP ISFP\n",
            "INFP ISFP\n",
            "INFP ISFP\n",
            "INFP ISFP\n",
            "ESTP ISFP\n",
            "ESTP ISFP\n",
            "INFJ ISFP\n",
            "ENTP ISFP\n",
            "ENTP ISFP\n",
            "INTP ISFP\n",
            "INTP ISFP\n",
            "INTJ ISFP\n",
            "INFJ ISFP\n",
            "ENFP ISFP\n",
            "INFP ISFP\n",
            "INTP ISFP\n",
            "INFP ISFP\n",
            "INTJ ISFP\n",
            "INTP ISFP\n",
            "INFP ISFP\n",
            "ENTP ISFP\n",
            "INTP ISFP\n",
            "INTP ISFP\n",
            "INFP ISFP\n",
            "INTP ISFP\n",
            "ESTP ISFP\n",
            "INFP ISFP\n",
            "ESTP ISFP\n",
            "ENFP ISFP\n",
            "INTJ ISFP\n",
            "INFP ISFP\n",
            "INTJ ISFP\n",
            "INTJ ISFP\n",
            "INTP ISFP\n",
            "INTJ ISFP\n",
            "INTP ISFP\n",
            "INFP ISFP\n",
            "ENTP ISFP\n",
            "INTP ISFP\n",
            "INTP ISFP\n",
            "INTP ISFP\n",
            "INTP ISFP\n",
            "ESTP ISFP\n",
            "INTP ISFP\n",
            "INFP ISFP\n",
            "INFP ISFP\n",
            "ESTP ISFP\n",
            "INFP ISFP\n",
            "INTJ ISFP\n",
            "INTP ISFP\n",
            "INFP ISFP\n",
            "ENTJ ISFP\n",
            "INTP ISFP\n",
            "ESTP ENFP\n",
            "INTP ENFP\n",
            "ESTP ENFP\n",
            "INFP ENFP\n",
            "INFJ ENFP\n",
            "INTJ ENFP\n",
            "INFP ENFP\n",
            "INTP ENFP\n",
            "INFP ENFP\n",
            "INTP ENFP\n",
            "INTP ENFP\n",
            "ESTP ENFP\n",
            "ENTP ENFP\n",
            "ENFP ENFP\n",
            "ISTJ ENFP\n",
            "INFJ ENFP\n",
            "INTP ENFP\n",
            "INTP ENFP\n",
            "ENFP ENFP\n",
            "INTP ENFP\n",
            "ESTP ENFP\n",
            "INTP ENFP\n",
            "INTP ENFP\n",
            "ESTP ENFP\n",
            "INTJ ENFP\n",
            "ESTP ENFP\n",
            "INFP ENFP\n",
            "INTJ ENFP\n",
            "ENTP ENFP\n",
            "INTP ENFP\n",
            "INTJ ENFP\n",
            "ENTP ENFP\n",
            "ISTJ ENFP\n",
            "INTP ENFP\n",
            "ENFP ENFP\n",
            "INFP ENFP\n",
            "ENTP ENFP\n",
            "INTP ENFP\n",
            "INTJ ENFP\n",
            "INTJ ENFP\n",
            "ENFP ENFP\n",
            "INTJ ENFP\n",
            "INTP ENFP\n",
            "INFJ ENFP\n",
            "INTJ ENFP\n",
            "INTJ ENFP\n",
            "INTJ ENFP\n",
            "INTP ENFP\n",
            "ENFP ENFP\n",
            "INFJ ENFP\n",
            "INTJ ENFP\n",
            "INTJ ENFP\n",
            "INFJ ENFP\n",
            "ENFP ENFP\n",
            "INTJ ENFP\n",
            "INTJ ENFP\n",
            "INTP ENFP\n",
            "ESTP ENFP\n",
            "ESTP ENFP\n",
            "INTP ENFP\n",
            "ENTJ ENFP\n",
            "INTJ ENFP\n",
            "INTP ENFP\n",
            "ENTJ ENFP\n",
            "INTJ ENFP\n",
            "ESTP ENFP\n",
            "ESTP ENFP\n",
            "ESTP ENFP\n",
            "INFP ENFP\n",
            "INFP ENFP\n",
            "INFP ENFP\n",
            "ESTP ENFP\n",
            "INFP ENFP\n",
            "INTP ENFP\n",
            "INTP ENFP\n",
            "ENFJ ENFP\n",
            "INFP ENFP\n",
            "INTP ENFP\n",
            "INTP ENTJ\n",
            "ENTP ENTJ\n",
            "ENFP ENTJ\n",
            "ENFP ENTJ\n",
            "INFP ENTJ\n",
            "INFP ENTJ\n",
            "INTP ENTJ\n",
            "INTP ENTJ\n",
            "INFP ENTJ\n",
            "INTJ ENTJ\n",
            "INTP ENTJ\n",
            "ISTJ ENTJ\n",
            "ISTJ ENTJ\n",
            "INFP ENTJ\n",
            "INTP ENTJ\n",
            "INTP ENTJ\n",
            "INFJ ENTJ\n",
            "ESTP ENTJ\n",
            "INTJ ENTJ\n",
            "INTP ENTJ\n",
            "INTP ENTJ\n",
            "INTJ ENTJ\n",
            "INTJ ENTJ\n",
            "INFP ENTJ\n",
            "INTJ ENTJ\n",
            "INTJ ENTJ\n",
            "INTP ENTJ\n",
            "INFJ ENTJ\n",
            "ENTP ENTJ\n",
            "INTP ENTJ\n",
            "INTP ENTJ\n",
            "INFP ENTJ\n",
            "ESTP ENTJ\n",
            "ENTP ENTJ\n",
            "ESTP ENTJ\n",
            "INTP ENTJ\n",
            "INTJ ENTJ\n",
            "INTJ ENTJ\n",
            "ESTP ENTJ\n",
            "INFP ENTJ\n",
            "INFP ENTJ\n",
            "ESTP ENTJ\n",
            "ISTJ ENTJ\n",
            "INTJ ENTJ\n",
            "INTP ENTJ\n",
            "ENTP ENTJ\n",
            "ESTP ENTJ\n",
            "INTP ENTJ\n",
            "INTJ ENTJ\n",
            "ENTP ENTJ\n",
            "INTP ENTJ\n",
            "ENTJ ENTJ\n",
            "INTP ENTJ\n",
            "INTP ENTJ\n",
            "INTP ENTJ\n",
            "INTP ENTJ\n",
            "ESTP ENTJ\n",
            "INTJ ENTJ\n",
            "INTP ENTJ\n",
            "INFJ ENTJ\n",
            "ESTP ENTJ\n",
            "INTP ENTJ\n",
            "INTJ ENTJ\n",
            "INTJ ENTJ\n",
            "ESTP ENTJ\n",
            "INTJ ENTJ\n",
            "ENTJ ENTJ\n",
            "ISTP ENTJ\n",
            "INTJ ENTJ\n",
            "ENFP ENTJ\n",
            "ESTP ENTJ\n",
            "INTJ ENTJ\n"
          ]
        },
        {
          "output_type": "stream",
          "name": "stderr",
          "text": [
            "/usr/local/lib/python3.7/dist-packages/ipykernel_launcher.py:4: SettingWithCopyWarning:\n",
            "\n",
            "\n",
            "A value is trying to be set on a copy of a slice from a DataFrame\n",
            "\n",
            "See the caveats in the documentation: https://pandas.pydata.org/pandas-docs/stable/user_guide/indexing.html#returning-a-view-versus-a-copy\n",
            "\n"
          ]
        }
      ]
    },
    {
      "cell_type": "markdown",
      "source": [],
      "metadata": {
        "id": "ZOYjfYCmHxjp"
      }
    },
    {
      "cell_type": "code",
      "source": [
        "rec = []\n",
        "for i in range(len(predictions)):\n",
        "  p = predictions[i]\n",
        "  t = y_test[i]\n",
        "  temp = 0\n",
        "  for j in range(4):\n",
        "    if p[j]==t[j]:\n",
        "      temp+=1\n",
        "  rec.append(temp/4)\n",
        "\n",
        "sum(rec)/len(rec)"
      ],
      "metadata": {
        "colab": {
          "base_uri": "https://localhost:8080/"
        },
        "id": "Sf9rWOfmb9fE",
        "outputId": "b72d164f-766f-43c1-977c-506cb68c6b17"
      },
      "execution_count": 50,
      "outputs": [
        {
          "output_type": "execute_result",
          "data": {
            "text/plain": [
              "0.4963126843657817"
            ]
          },
          "metadata": {},
          "execution_count": 50
        }
      ]
    },
    {
      "cell_type": "code",
      "source": [
        "print(classification_report(y_test, predictions))"
      ],
      "metadata": {
        "execution": {
          "iopub.status.busy": "2022-01-23T18:31:44.043257Z",
          "iopub.execute_input": "2022-01-23T18:31:44.043521Z",
          "iopub.status.idle": "2022-01-23T18:31:45.134177Z",
          "shell.execute_reply.started": "2022-01-23T18:31:44.043489Z",
          "shell.execute_reply": "2022-01-23T18:31:45.133258Z"
        },
        "trusted": true,
        "colab": {
          "base_uri": "https://localhost:8080/"
        },
        "id": "7_lmHEJU6Z3d",
        "outputId": "3466a3dd-16bd-42c3-9b1a-d90bf4f6e84e"
      },
      "execution_count": 51,
      "outputs": [
        {
          "output_type": "stream",
          "name": "stdout",
          "text": [
            "              precision    recall  f1-score   support\n",
            "\n",
            "        ENFJ       0.00      0.00      0.00        41\n",
            "        ENFP       0.26      0.08      0.12        78\n",
            "        ENTJ       0.25      0.03      0.05        72\n",
            "        ENTP       0.00      0.00      0.00         0\n",
            "        ESTP       0.00      0.00      0.00         0\n",
            "        INFJ       0.08      0.03      0.05        29\n",
            "        INFP       0.00      0.00      0.00         0\n",
            "        INTJ       0.00      0.00      0.00         0\n",
            "        INTP       0.00      0.00      0.00         0\n",
            "        ISFP       0.00      0.00      0.00       119\n",
            "        ISTJ       0.00      0.00      0.00         0\n",
            "        ISTP       0.00      0.00      0.00         0\n",
            "\n",
            "    accuracy                           0.03       339\n",
            "   macro avg       0.05      0.01      0.02       339\n",
            "weighted avg       0.12      0.03      0.04       339\n",
            "\n"
          ]
        },
        {
          "output_type": "stream",
          "name": "stderr",
          "text": [
            "/usr/local/lib/python3.7/dist-packages/sklearn/metrics/_classification.py:1318: UndefinedMetricWarning:\n",
            "\n",
            "Precision and F-score are ill-defined and being set to 0.0 in labels with no predicted samples. Use `zero_division` parameter to control this behavior.\n",
            "\n",
            "/usr/local/lib/python3.7/dist-packages/sklearn/metrics/_classification.py:1318: UndefinedMetricWarning:\n",
            "\n",
            "Recall and F-score are ill-defined and being set to 0.0 in labels with no true samples. Use `zero_division` parameter to control this behavior.\n",
            "\n",
            "/usr/local/lib/python3.7/dist-packages/sklearn/metrics/_classification.py:1318: UndefinedMetricWarning:\n",
            "\n",
            "Precision and F-score are ill-defined and being set to 0.0 in labels with no predicted samples. Use `zero_division` parameter to control this behavior.\n",
            "\n",
            "/usr/local/lib/python3.7/dist-packages/sklearn/metrics/_classification.py:1318: UndefinedMetricWarning:\n",
            "\n",
            "Recall and F-score are ill-defined and being set to 0.0 in labels with no true samples. Use `zero_division` parameter to control this behavior.\n",
            "\n",
            "/usr/local/lib/python3.7/dist-packages/sklearn/metrics/_classification.py:1318: UndefinedMetricWarning:\n",
            "\n",
            "Precision and F-score are ill-defined and being set to 0.0 in labels with no predicted samples. Use `zero_division` parameter to control this behavior.\n",
            "\n",
            "/usr/local/lib/python3.7/dist-packages/sklearn/metrics/_classification.py:1318: UndefinedMetricWarning:\n",
            "\n",
            "Recall and F-score are ill-defined and being set to 0.0 in labels with no true samples. Use `zero_division` parameter to control this behavior.\n",
            "\n"
          ]
        }
      ]
    },
    {
      "cell_type": "code",
      "source": [
        "print(f\"Overall accuracy of the model: {round(metrics.accuracy_score(y_test, predictions),2)}\")"
      ],
      "metadata": {
        "execution": {
          "iopub.status.busy": "2022-01-23T18:31:45.1356Z",
          "iopub.execute_input": "2022-01-23T18:31:45.136055Z",
          "iopub.status.idle": "2022-01-23T18:31:45.182453Z",
          "shell.execute_reply.started": "2022-01-23T18:31:45.136006Z",
          "shell.execute_reply": "2022-01-23T18:31:45.1815Z"
        },
        "trusted": true,
        "colab": {
          "base_uri": "https://localhost:8080/"
        },
        "id": "8MWscTNo6Z3e",
        "outputId": "2240aaf7-3b63-4e85-f44c-631ff7407242"
      },
      "execution_count": 52,
      "outputs": [
        {
          "output_type": "stream",
          "name": "stdout",
          "text": [
            "Overall accuracy of the model: 0.03\n"
          ]
        }
      ]
    },
    {
      "cell_type": "code",
      "source": [],
      "metadata": {
        "id": "B46tJUnFH-kE"
      },
      "execution_count": null,
      "outputs": []
    },
    {
      "cell_type": "markdown",
      "source": [
        "\n",
        "# End"
      ],
      "metadata": {
        "id": "zaNqbJqR6Z3e"
      }
    }
  ]
}
