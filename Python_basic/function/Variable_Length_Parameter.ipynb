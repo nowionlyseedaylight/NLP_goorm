{
  "nbformat": 4,
  "nbformat_minor": 0,
  "metadata": {
    "colab": {
      "name": "Variable Length Parameter.ipynb",
      "provenance": [],
      "authorship_tag": "ABX9TyNNVpP17KH0mhgEMCXe3PYF"
    },
    "kernelspec": {
      "name": "python3",
      "display_name": "Python 3"
    },
    "language_info": {
      "name": "python"
    }
  },
  "cells": [
    {
      "cell_type": "markdown",
      "source": [
        "* parameter 개수가 정해져 있지 않다면?\n",
        "\n",
        "  👉 *(Asterisk)를 사용해서, 남은 여러 개 인자를 packing 할 수 있다!\n",
        "* 가변인자는 👀'맨 마지막'에 '단 한 개만'👀 위치 가능함."
      ],
      "metadata": {
        "id": "NETrs7Cso7-D"
      }
    },
    {
      "cell_type": "code",
      "execution_count": 1,
      "metadata": {
        "colab": {
          "base_uri": "https://localhost:8080/"
        },
        "id": "K-FtS2i0oZnW",
        "outputId": "2d066bb1-3e85-40bc-9593-8b04c8b87bee"
      },
      "outputs": [
        {
          "output_type": "stream",
          "name": "stdout",
          "text": [
            "(3, 4, 5)\n",
            "15\n"
          ]
        }
      ],
      "source": [
        "def add_all(a, b, *args):\n",
        "    print(args)\n",
        "\n",
        "    sum = 0\n",
        "    for elem in args:\n",
        "        sum += elem\n",
        "\n",
        "    return a + b+ sum\n",
        "\n",
        "print(add_all(1,2,3,4,5))"
      ]
    }
  ]
}