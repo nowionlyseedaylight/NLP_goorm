{
  "nbformat": 4,
  "nbformat_minor": 0,
  "metadata": {
    "colab": {
      "name": "Variable Length Parameter.ipynb",
      "provenance": [],
      "authorship_tag": "ABX9TyOA6Ge58u923yLA4A39pWz0"
    },
    "kernelspec": {
      "name": "python3",
      "display_name": "Python 3"
    },
    "language_info": {
      "name": "python"
    }
  },
  "cells": [
    {
      "cell_type": "code",
      "execution_count": 1,
      "metadata": {
        "colab": {
          "base_uri": "https://localhost:8080/"
        },
        "id": "K-FtS2i0oZnW",
        "outputId": "2d066bb1-3e85-40bc-9593-8b04c8b87bee"
      },
      "outputs": [
        {
          "output_type": "stream",
          "name": "stdout",
          "text": [
            "(3, 4, 5)\n",
            "15\n"
          ]
        }
      ],
      "source": [
        "def add_all(a, b, *args):\n",
        "    print(args)\n",
        "\n",
        "    sum = 0\n",
        "    for elem in args:\n",
        "        sum += elem\n",
        "\n",
        "    return a + b+ sum\n",
        "\n",
        "print(add_all(1,2,3,4,5))"
      ]
    }
  ]
}