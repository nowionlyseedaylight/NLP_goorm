{
  "nbformat": 4,
  "nbformat_minor": 0,
  "metadata": {
    "colab": {
      "name": "Variable Length Parameter.ipynb",
      "provenance": [],
      "authorship_tag": "ABX9TyN/jeN74yfjcP3LBbYI06bZ",
      "include_colab_link": true
    },
    "kernelspec": {
      "name": "python3",
      "display_name": "Python 3"
    },
    "language_info": {
      "name": "python"
    }
  },
  "cells": [
    {
      "cell_type": "markdown",
      "metadata": {
        "id": "view-in-github",
        "colab_type": "text"
      },
      "source": [
        "<a href=\"https://colab.research.google.com/github/nowionlyseedaylight/NLP_goorm/blob/main/Python_basic/function/Variable_Length_Parameter.ipynb\" target=\"_parent\"><img src=\"https://colab.research.google.com/assets/colab-badge.svg\" alt=\"Open In Colab\"/></a>"
      ]
    },
    {
      "cell_type": "markdown",
      "source": [
        "# Variable Length Parameter"
      ],
      "metadata": {
        "id": "ux06pyb5p7cQ"
      }
    },
    {
      "cell_type": "markdown",
      "source": [
        "* parameter 개수가 정해져 있지 않다면?\n",
        "\n",
        "  👉 *(Asterisk)를 사용해서, 남은 여러 개 인자를 packing 할 수 있다!\n",
        "* 가변인자는 👀'맨 마지막'에 '단 한 개만'👀 위치 가능함."
      ],
      "metadata": {
        "id": "NETrs7Cso7-D"
      }
    },
    {
      "cell_type": "code",
      "execution_count": null,
      "metadata": {
        "colab": {
          "base_uri": "https://localhost:8080/"
        },
        "id": "K-FtS2i0oZnW",
        "outputId": "2d066bb1-3e85-40bc-9593-8b04c8b87bee"
      },
      "outputs": [
        {
          "output_type": "stream",
          "name": "stdout",
          "text": [
            "(3, 4, 5)\n",
            "15\n"
          ]
        }
      ],
      "source": [
        "def add_all(a, b, *args):     # 통상적으로 가변인자는 args로 표현\n",
        "    print(args)\n",
        "\n",
        "    sum = 0\n",
        "    for elem in args:\n",
        "        sum += elem\n",
        "\n",
        "    return a + b+ sum\n",
        "\n",
        "print(add_all(1,2,3,4,5))"
      ]
    },
    {
      "cell_type": "markdown",
      "source": [
        "# Keyword Variable Length Parameter\n",
        "\n",
        "* 만약 명시적으로 지정된 parameter가 남는다면 👉 키워드 가변인자\n",
        "\n",
        "* **(Double Asterisk)를 사용해서 남는 키워드 변수를 packing\n"
      ],
      "metadata": {
        "id": "1yDjUeAzp6ii"
      }
    },
    {
      "cell_type": "code",
      "source": [
        "# Dictionary 형태로 반환\n",
        "\n",
        "def print_args(a, *args, **kwargs):     # 키워드 가변인자 = kwargs\n",
        "    print(args, kwargs)                 # (2, 3) - Tuple / {'var1': 100, 'var2': 200} - Keywords\n",
        "\n",
        "print(print_args(1,2,3, var1=100, var2=200))"
      ],
      "metadata": {
        "colab": {
          "base_uri": "https://localhost:8080/"
        },
        "id": "PnzmjQfaqTSe",
        "outputId": "f637643d-0c8b-4337-b71e-7a9785b02e87"
      },
      "execution_count": 4,
      "outputs": [
        {
          "output_type": "stream",
          "name": "stdout",
          "text": [
            "(2, 3) {'var1': 100, 'var2': 200}\n",
            "None\n"
          ]
        }
      ]
    },
    {
      "cell_type": "markdown",
      "source": [
        " 위 결과 중에서 None 값은 왜 튀어나오는 걸까...?"
      ],
      "metadata": {
        "id": "xtdIXls0qw00"
      }
    },
    {
      "cell_type": "code",
      "source": [
        "# parameter 순서: 일반 인자 👉 기본값 인자 👉 가변인자 👉 키워드 가변인자\n",
        "\n",
        "def function(var1, var2=10, *args, **kwargs):\n",
        "    print(var1, var2, args, kwargs)\n",
        "\n",
        "function(1,2,3, var3=10)"
      ],
      "metadata": {
        "colab": {
          "base_uri": "https://localhost:8080/"
        },
        "id": "Oc_iEUYxq0es",
        "outputId": "ff958976-142a-4fb2-da68-a32ac9a6f1ab"
      },
      "execution_count": 3,
      "outputs": [
        {
          "output_type": "stream",
          "name": "stdout",
          "text": [
            "1 2 (3,) {'var3': 10}\n"
          ]
        }
      ]
    },
    {
      "cell_type": "markdown",
      "source": [
        "# Parameter Unpacking\n",
        "\n",
        "* Sequence에 *을 붙이면 Unpacking\n",
        "\n",
        "* Dictionary에 **을 붙이면 Keyword unpacking"
      ],
      "metadata": {
        "id": "OQOgZJsurgvX"
      }
    },
    {
      "cell_type": "code",
      "source": [
        "# 리스트, 튜플에 적용가능\n",
        "def function(a,b,c):\n",
        "    print(a,b,c)\n",
        "\n",
        "l = [1,2,3]\n",
        "function(*l)"
      ],
      "metadata": {
        "colab": {
          "base_uri": "https://localhost:8080/"
        },
        "id": "8BRj2uZCrggl",
        "outputId": "bb0a2658-9ac3-4482-9459-ea0396297a59"
      },
      "execution_count": 7,
      "outputs": [
        {
          "output_type": "stream",
          "name": "stdout",
          "text": [
            "1 2 3\n"
          ]
        }
      ]
    },
    {
      "cell_type": "code",
      "source": [
        "def function(var1, var2, **kwargs):\n",
        "    print(var1, var2, kwargs)\n",
        "\n",
        "d = {\n",
        "    'var1': 10,\n",
        "    'var2': 20,\n",
        "    'var3': 30\n",
        "}\n",
        "function(**d)     # 10 20 {'var3': 30}"
      ],
      "metadata": {
        "colab": {
          "base_uri": "https://localhost:8080/"
        },
        "id": "iXfaSpSRr2SJ",
        "outputId": "77fcf416-44de-465b-f2c4-6fcd501ddb9d"
      },
      "execution_count": 8,
      "outputs": [
        {
          "output_type": "stream",
          "name": "stdout",
          "text": [
            "10 20 {'var3': 30}\n"
          ]
        }
      ]
    }
  ]
}