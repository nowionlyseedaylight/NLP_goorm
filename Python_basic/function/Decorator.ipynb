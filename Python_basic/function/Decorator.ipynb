{
  "nbformat": 4,
  "nbformat_minor": 0,
  "metadata": {
    "colab": {
      "name": "Decorator.ipynb",
      "provenance": [],
      "authorship_tag": "ABX9TyOC2yF7x5sJS8tYKr9n6Ejx",
      "include_colab_link": true
    },
    "kernelspec": {
      "name": "python3",
      "display_name": "Python 3"
    },
    "language_info": {
      "name": "python"
    }
  },
  "cells": [
    {
      "cell_type": "markdown",
      "metadata": {
        "id": "view-in-github",
        "colab_type": "text"
      },
      "source": [
        "<a href=\"https://colab.research.google.com/github/nowionlyseedaylight/NLP_goorm/blob/main/Python_basic/function/Decorator.ipynb\" target=\"_parent\"><img src=\"https://colab.research.google.com/assets/colab-badge.svg\" alt=\"Open In Colab\"/></a>"
      ]
    },
    {
      "cell_type": "markdown",
      "source": [
        "# Decorator\n",
        "\n",
        "* 함수 하나를 인자로 받아 같은 형태의 함수를 return하는 함수\n",
        "* '@'를 사용해서 함수를 꾸미는 데 사용 가능함"
      ],
      "metadata": {
        "id": "WgFfQkbZfx4E"
      }
    },
    {
      "cell_type": "code",
      "execution_count": 1,
      "metadata": {
        "colab": {
          "base_uri": "https://localhost:8080/"
        },
        "id": "_T04smShfvYP",
        "outputId": "82cfaf82-ca5b-4b8d-a05d-f9ef6d177852"
      },
      "outputs": [
        {
          "output_type": "stream",
          "name": "stdout",
          "text": [
            "Input: 10\n",
            "Output: 12\n"
          ]
        }
      ],
      "source": [
        "def print_closure_factory(function):\n",
        "    def print_closure(var):\n",
        "        print(\"Input:\", var)\n",
        "        out = function(var)\n",
        "        print(\"Output:\", out)\n",
        "\n",
        "    return print_closure\n",
        "\n",
        "def add(var):\n",
        "    return var + 2\n",
        "\n",
        "print_add = print_closure_factory(add)\n",
        "print_add(10)"
      ]
    },
    {
      "cell_type": "code",
      "source": [
        "# decorator 사용\n",
        "def print_decorator(function):\n",
        "    def print_closure(var):\n",
        "        print(\"Input:\", var)\n",
        "        out = function(var)\n",
        "        print(\"Output:\", out)\n",
        "\n",
        "    return print_closure\n",
        "\n",
        "@print_decorator       # add 함수에 바로 print_decorator 함수 반환 👉 위 경우보다 더 간략하게\n",
        "def add(var):\n",
        "    return var + 2\n",
        "\n",
        "add(10)"
      ],
      "metadata": {
        "colab": {
          "base_uri": "https://localhost:8080/"
        },
        "id": "7RAwqWSEgXLY",
        "outputId": "3fc85c97-1725-4b16-9841-a97f252d4b0f"
      },
      "execution_count": 2,
      "outputs": [
        {
          "output_type": "stream",
          "name": "stdout",
          "text": [
            "Input: 10\n",
            "Output: 12\n"
          ]
        }
      ]
    },
    {
      "cell_type": "markdown",
      "source": [
        "**Decorator with Argument**"
      ],
      "metadata": {
        "id": "UR8qOw4VhJ-5"
      }
    },
    {
      "cell_type": "code",
      "source": [
        "def times_decorator_factory(times):   # 인자를 받아 Decorator를 만듦\n",
        "    def times_decorator(function):    # 함수를 받아 decorate\n",
        "        def closure(var):             # Decorated function\n",
        "            for _ in range(times):\n",
        "                var = function(var)\n",
        "            return var\n",
        "        return closure\n",
        "    return times_decorator\n",
        "\n",
        "@times_decorator_factory(5)       # Decorator에 인자 추가\n",
        "def add(number):\n",
        "    return number + 2\n",
        "\n",
        "print(add(5))"
      ],
      "metadata": {
        "colab": {
          "base_uri": "https://localhost:8080/"
        },
        "id": "40kv1LFHhOlO",
        "outputId": "7ea00436-787d-4d55-dffa-8121bf4b0b1d"
      },
      "execution_count": 4,
      "outputs": [
        {
          "output_type": "stream",
          "name": "stdout",
          "text": [
            "15\n"
          ]
        }
      ]
    },
    {
      "cell_type": "markdown",
      "source": [
        "**Appropriate Decorating**\n",
        "\n",
        "* 함수를 wrapping하는 것이므로 기존 함수에 접근 불가함.\n",
        "* docstring, 함수명 등 기존 함수의 특성을 가져와야 함.\n",
        "* functools 라이브러리의 wraps Decorator 사용"
      ],
      "metadata": {
        "id": "DklqM6DNhvE9"
      }
    },
    {
      "cell_type": "code",
      "source": [
        "def print_decorator(function):\n",
        "    def print_closure(var):\n",
        "        print(\"Input:\", var)\n",
        "        out = function(var)\n",
        "        print(\"Output:\", out)\n",
        "    \n",
        "    return print_closure\n",
        "\n",
        "@print_decorator\n",
        "def add(var):\n",
        "    return var + 2\n",
        "\n",
        "print(add.__name__)"
      ],
      "metadata": {
        "colab": {
          "base_uri": "https://localhost:8080/"
        },
        "id": "u9svdeAQh-lr",
        "outputId": "05ed6ff1-2a1e-47fc-da1b-944c7d04d8fb"
      },
      "execution_count": 3,
      "outputs": [
        {
          "output_type": "stream",
          "name": "stdout",
          "text": [
            "print_closure\n"
          ]
        }
      ]
    },
    {
      "cell_type": "code",
      "source": [
        "from functools import wraps\n",
        "\n",
        "def print_decorator(function):\n",
        "    @wraps(function)\n",
        "    def print_closure(var):\n",
        "        print(\"Input:\", var)\n",
        "        out = function(var)\n",
        "        print(\"Output:\", out)\n",
        "    \n",
        "    return print_closure\n",
        "\n",
        "@print_decorator\n",
        "def add(var):\n",
        "    return var + 2\n",
        "\n",
        "print(add.__name__)"
      ],
      "metadata": {
        "colab": {
          "base_uri": "https://localhost:8080/"
        },
        "id": "uiFa5FfWimQt",
        "outputId": "d374a29e-e41e-4c8e-c51a-e559316f04d2"
      },
      "execution_count": 5,
      "outputs": [
        {
          "output_type": "stream",
          "name": "stdout",
          "text": [
            "add\n"
          ]
        }
      ]
    }
  ]
}